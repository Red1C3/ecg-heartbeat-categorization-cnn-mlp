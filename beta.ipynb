{
  "cells": [
    {
      "cell_type": "code",
      "execution_count": null,
      "metadata": {
        "collapsed": true,
        "id": "SrorahN20wTh"
      },
      "outputs": [],
      "source": [
        "import tensorflow as tf\n",
        "\n",
        "import utils\n",
        "import importlib\n",
        "_=importlib.reload(utils)"
      ]
    },
    {
      "cell_type": "markdown",
      "metadata": {
        "id": "10iFZ7ddrcsj"
      },
      "source": [
        "# Training Parameters\n",
        "Parameters with prefix \"multi\" are for oversampled data for multi classification\n",
        "\n",
        "Parameters with prefix \"bin\" are for oversampled data with binary classification\n",
        "\n",
        "Parameters with prefix \"og_multi\" are for non-oversampled data for multi classification\n",
        "\n",
        "Parameters with prefix \"og_bin\" are for non-oversampled data for binary classification"
      ]
    },
    {
      "cell_type": "code",
      "execution_count": null,
      "metadata": {
        "id": "84hpWctMz5cC"
      },
      "outputs": [],
      "source": [
        "multi_batch_size=100 \n",
        "multi_epochs=30      \n",
        "bin_batch_size=100 \n",
        "bin_epochs=200      \n",
        "\n",
        "og_multi_batch_size=100 \n",
        "og_multi_epochs=30       \n",
        "og_bin_batch_size=100 \n",
        "og_bin_epochs=200      \n",
        "\n",
        "verbosity=False\n",
        "val_split=0.2"
      ]
    },
    {
      "cell_type": "markdown",
      "metadata": {
        "id": "8Q7wWkX9sFn4"
      },
      "source": [
        "# Import datasets\n",
        "Both MITBIH and PTBDB are loaded and split into training and test sets\n",
        "\n",
        "Data with postfix \"multi\" are for multi-classification.\n",
        "\n",
        "Data with postfix \"bin\" are for binary-classification.\n",
        "\n",
        "Data with prefix \"og\" are not oversampled"
      ]
    },
    {
      "cell_type": "code",
      "execution_count": null,
      "metadata": {
        "id": "5_b37kN8bElt"
      },
      "outputs": [],
      "source": [
        "x_multi,x_multi_test,y_multi,y_multi_test=utils.import_set(oversampling=True,\n",
        "                                                           binary_set=False)\n",
        "\n",
        "x_bin,x_bin_test,y_bin,y_bin_test=utils.import_set(oversampling=True,\n",
        "                                                   binary_set=True)\n",
        "\n",
        "og_x_multi,og_x_multi_test,og_y_multi,og_y_multi_test=utils.import_set(oversampling=False,\n",
        "                                                           binary_set=False)\n",
        "\n",
        "og_x_bin,og_x_bin_test,og_y_bin,og_y_bin_test=utils.import_set(oversampling=False,\n",
        "                                                   binary_set=True)"
      ]
    },
    {
      "cell_type": "markdown",
      "metadata": {
        "id": "wiRLKJvDtDkI"
      },
      "source": [
        "# Models declarations\n",
        "\n",
        "Models with prefix \"og\" are without oversampling\n"
      ]
    },
    {
      "cell_type": "code",
      "execution_count": null,
      "metadata": {
        "id": "wvJzEpEQbjhp"
      },
      "outputs": [],
      "source": [
        "model_multi_cnn=tf.keras.Sequential()\n",
        "model_multi_mlp=tf.keras.Sequential()\n",
        "model_bin_cnn=tf.keras.Sequential()\n",
        "model_bin_mlp=tf.keras.Sequential()\n",
        "\n",
        "utils.archi_cnn(model_multi_cnn,binary=False)\n",
        "utils.archi_cnn(model_bin_cnn,binary=True)\n",
        "utils.archi_mlp(model_multi_mlp,binary=False)\n",
        "utils.archi_mlp(model_bin_mlp,binary=True)\n",
        "\n",
        "og_model_multi_cnn=tf.keras.Sequential()\n",
        "og_model_multi_mlp=tf.keras.Sequential()\n",
        "og_model_bin_cnn=tf.keras.Sequential()\n",
        "og_model_bin_mlp=tf.keras.Sequential()\n",
        "\n",
        "utils.archi_cnn(og_model_multi_cnn,binary=False)\n",
        "utils.archi_cnn(og_model_bin_cnn,binary=True)\n",
        "utils.archi_mlp(og_model_multi_mlp,binary=False)\n",
        "utils.archi_mlp(og_model_bin_mlp,binary=True)"
      ]
    },
    {
      "cell_type": "markdown",
      "metadata": {
        "id": "nfcGGghCtQDw"
      },
      "source": [
        "# Models optimizer and loss function declarations"
      ]
    },
    {
      "attachments": {},
      "cell_type": "markdown",
      "metadata": {},
      "source": [
        "## Models with oversampling"
      ]
    },
    {
      "cell_type": "code",
      "execution_count": null,
      "metadata": {},
      "outputs": [],
      "source": [
        "model_multi_cnn.compile('adam','sparse_categorical_crossentropy',metrics=['accuracy'])\n",
        "model_multi_mlp.compile('adam','sparse_categorical_crossentropy',metrics=['accuracy'])\n",
        "model_bin_cnn.compile('adam','binary_crossentropy',metrics=['accuracy'])\n",
        "model_bin_mlp.compile('adam','binary_crossentropy',metrics=['accuracy'])"
      ]
    },
    {
      "attachments": {},
      "cell_type": "markdown",
      "metadata": {},
      "source": [
        "## Models without oversampling"
      ]
    },
    {
      "cell_type": "code",
      "execution_count": null,
      "metadata": {
        "id": "DbfniXNMc48h"
      },
      "outputs": [],
      "source": [
        "og_model_multi_cnn.compile('adam','sparse_categorical_crossentropy',metrics=['accuracy'])\n",
        "og_model_multi_mlp.compile('adam','sparse_categorical_crossentropy',metrics=['accuracy'])\n",
        "og_model_bin_cnn.compile('adam','binary_crossentropy',metrics=['accuracy'])\n",
        "og_model_bin_mlp.compile('adam','binary_crossentropy',metrics=['accuracy'])"
      ]
    },
    {
      "attachments": {},
      "cell_type": "markdown",
      "metadata": {},
      "source": [
        "# Trainning"
      ]
    },
    {
      "attachments": {},
      "cell_type": "markdown",
      "metadata": {},
      "source": [
        "## Multi-Classification"
      ]
    },
    {
      "attachments": {},
      "cell_type": "markdown",
      "metadata": {},
      "source": [
        "### With oversampling"
      ]
    },
    {
      "attachments": {},
      "cell_type": "markdown",
      "metadata": {
        "id": "OOW8quXwtZfv"
      },
      "source": [
        "#### Multi-Classification CNN with oversampling model training\n"
      ]
    },
    {
      "cell_type": "code",
      "execution_count": null,
      "metadata": {
        "id": "b6esDSpSzxb1"
      },
      "outputs": [],
      "source": [
        "res_multi_cnn=model_multi_cnn.fit(x_multi.reshape([x_multi.shape[0], 187, 1]),\n",
        "                                  y_multi,batch_size=multi_batch_size,\n",
        "                                  epochs=multi_epochs,verbose=verbosity,\n",
        "                                  validation_split=val_split)"
      ]
    },
    {
      "attachments": {},
      "cell_type": "markdown",
      "metadata": {
        "id": "cV-0-2Citgxe"
      },
      "source": [
        "#### Multi-Classification MLP with oversampling model training"
      ]
    },
    {
      "cell_type": "code",
      "execution_count": null,
      "metadata": {
        "id": "P1NJjJgrGkXC"
      },
      "outputs": [],
      "source": [
        "res_multi_mlp=model_multi_mlp.fit(x_multi,y_multi,batch_size=multi_batch_size,\n",
        "                                  epochs=multi_epochs,verbose=verbosity,\n",
        "                                  validation_split=val_split)"
      ]
    },
    {
      "attachments": {},
      "cell_type": "markdown",
      "metadata": {},
      "source": [
        "### Without oversampling"
      ]
    },
    {
      "attachments": {},
      "cell_type": "markdown",
      "metadata": {
        "id": "49N80e8PtyaK"
      },
      "source": [
        "#### Multi-Classification CNN model training without oversampling"
      ]
    },
    {
      "cell_type": "code",
      "execution_count": null,
      "metadata": {
        "id": "cRleuitkkR9s"
      },
      "outputs": [],
      "source": [
        "og_res_multi_cnn=og_model_multi_cnn.fit(og_x_multi.reshape([og_x_multi.shape[0], 187, 1]),\n",
        "                                  og_y_multi,batch_size=og_multi_batch_size,\n",
        "                                  epochs=og_multi_epochs,verbose=verbosity,\n",
        "                                  validation_split=val_split)"
      ]
    },
    {
      "attachments": {},
      "cell_type": "markdown",
      "metadata": {
        "id": "ksABWYnEt29x"
      },
      "source": [
        "#### Multi-Classification MLP model training without oversampling"
      ]
    },
    {
      "cell_type": "code",
      "execution_count": null,
      "metadata": {
        "id": "gYLvK2fTkfSo"
      },
      "outputs": [],
      "source": [
        "og_res_multi_mlp=og_model_multi_mlp.fit(og_x_multi,og_y_multi,batch_size=og_multi_batch_size,\n",
        "                                  epochs=og_multi_epochs,verbose=verbosity,\n",
        "                                  validation_split=val_split)"
      ]
    },
    {
      "attachments": {},
      "cell_type": "markdown",
      "metadata": {},
      "source": [
        "## Binary-Classification"
      ]
    },
    {
      "attachments": {},
      "cell_type": "markdown",
      "metadata": {},
      "source": [
        "### With oversampling"
      ]
    },
    {
      "attachments": {},
      "cell_type": "markdown",
      "metadata": {
        "id": "CGEbI1bDtmVH"
      },
      "source": [
        "#### Binary-Classification CNN with oversampling model training"
      ]
    },
    {
      "cell_type": "code",
      "execution_count": null,
      "metadata": {
        "id": "yGMN9MvvGkQA"
      },
      "outputs": [],
      "source": [
        "res_bin_cnn=model_bin_cnn.fit(x_bin.reshape([x_bin.shape[0], 187, 1]),\n",
        "                              y_bin,batch_size=bin_batch_size,epochs=bin_epochs,\n",
        "                              verbose=verbosity,validation_split=val_split)"
      ]
    },
    {
      "attachments": {},
      "cell_type": "markdown",
      "metadata": {
        "id": "SSeoZmRytqOu"
      },
      "source": [
        "#### Binary-Classification MLP with oversampling model training"
      ]
    },
    {
      "cell_type": "code",
      "execution_count": null,
      "metadata": {
        "id": "H0ae-oygGkId"
      },
      "outputs": [],
      "source": [
        "res_bin_mlp=model_bin_mlp.fit(x_bin,y_bin,batch_size=bin_batch_size,\n",
        "                              epochs=bin_epochs,verbose=verbosity,\n",
        "                              validation_split=val_split)"
      ]
    },
    {
      "attachments": {},
      "cell_type": "markdown",
      "metadata": {},
      "source": [
        "### Without oversampling"
      ]
    },
    {
      "attachments": {},
      "cell_type": "markdown",
      "metadata": {
        "id": "hybLlKHmt6Ig"
      },
      "source": [
        "#### Binary-Classification CNN model training without oversampling"
      ]
    },
    {
      "cell_type": "code",
      "execution_count": null,
      "metadata": {
        "id": "jSbwWTUBkp9J"
      },
      "outputs": [],
      "source": [
        "og_res_bin_cnn=og_model_bin_cnn.fit(og_x_bin.reshape([og_x_bin.shape[0], 187, 1]),\n",
        "                              og_y_bin,batch_size=og_bin_batch_size,epochs=og_bin_epochs,\n",
        "                              verbose=verbosity,validation_split=val_split)"
      ]
    },
    {
      "attachments": {},
      "cell_type": "markdown",
      "metadata": {
        "id": "Y2xVqRwzuJgW"
      },
      "source": [
        "#### Binary-Classification MLP model training without oversampling"
      ]
    },
    {
      "cell_type": "code",
      "execution_count": null,
      "metadata": {
        "id": "4YIbYNblk0kr"
      },
      "outputs": [],
      "source": [
        "og_res_bin_mlp=og_model_bin_mlp.fit(og_x_bin,og_y_bin,batch_size=og_bin_batch_size,\n",
        "                              epochs=og_bin_epochs,verbose=verbosity,\n",
        "                              validation_split=val_split)"
      ]
    },
    {
      "attachments": {},
      "cell_type": "markdown",
      "metadata": {},
      "source": [
        "# Results"
      ]
    },
    {
      "attachments": {},
      "cell_type": "markdown",
      "metadata": {},
      "source": [
        "## Multi-Classification Results"
      ]
    },
    {
      "attachments": {},
      "cell_type": "markdown",
      "metadata": {},
      "source": [
        "### With oversampling"
      ]
    },
    {
      "attachments": {},
      "cell_type": "markdown",
      "metadata": {
        "id": "RjUopdmOuQX7"
      },
      "source": [
        "#### Multi-Classification CNN with oversampling Model Results"
      ]
    },
    {
      "cell_type": "code",
      "execution_count": null,
      "metadata": {
        "id": "rWeCiUQfAImt"
      },
      "outputs": [],
      "source": [
        "utils.evaluate('Multi-Class-CNN',res_multi_cnn,\n",
        "                x_multi_test.reshape([x_multi_test.shape[0],187,1]),\n",
        "                y_multi_test,is_multi=True,verbose=verbosity)"
      ]
    },
    {
      "attachments": {},
      "cell_type": "markdown",
      "metadata": {
        "id": "o6luhTHJubVl"
      },
      "source": [
        "#### Multi-Classification MLP with oversampling Model Results"
      ]
    },
    {
      "cell_type": "code",
      "execution_count": null,
      "metadata": {
        "id": "5y8VF2iJE71g"
      },
      "outputs": [],
      "source": [
        "utils.evaluate('Multi-Class-MLP',res_multi_mlp,x_multi_test,y_multi_test,\n",
        "                is_multi=True,verbose=verbosity)"
      ]
    },
    {
      "attachments": {},
      "cell_type": "markdown",
      "metadata": {},
      "source": [
        "### Without oversampling"
      ]
    },
    {
      "attachments": {},
      "cell_type": "markdown",
      "metadata": {
        "id": "xCzZTk1_u40F"
      },
      "source": [
        "#### Multi-Classification CNN Model without oversampling Results"
      ]
    },
    {
      "cell_type": "code",
      "execution_count": null,
      "metadata": {
        "id": "pcYzuC2llAKS"
      },
      "outputs": [],
      "source": [
        "utils.evaluate('Origianl Multi-Class-CNN',og_res_multi_cnn,\n",
        "                og_x_multi_test.reshape([og_x_multi_test.shape[0],187,1]),\n",
        "                og_y_multi_test,is_multi=True,verbose=verbosity)"
      ]
    },
    {
      "attachments": {},
      "cell_type": "markdown",
      "metadata": {
        "id": "tIUYEf2Qu_3U"
      },
      "source": [
        "#### Multi-Classification MLP Model without oversampling Results"
      ]
    },
    {
      "cell_type": "code",
      "execution_count": null,
      "metadata": {
        "id": "Xq1Y_W2KlIpe"
      },
      "outputs": [],
      "source": [
        "utils.evaluate('Origianl Multi-Class-MLP',og_res_multi_mlp,og_x_multi_test,og_y_multi_test,\n",
        "                is_multi=True,verbose=verbosity)"
      ]
    },
    {
      "attachments": {},
      "cell_type": "markdown",
      "metadata": {},
      "source": [
        "## Binary-Classification Results"
      ]
    },
    {
      "attachments": {},
      "cell_type": "markdown",
      "metadata": {},
      "source": [
        "### With oversampling"
      ]
    },
    {
      "attachments": {},
      "cell_type": "markdown",
      "metadata": {
        "id": "PYbrZ9inugFI"
      },
      "source": [
        "#### Binary-Classification CNN with oversampling Model Results"
      ]
    },
    {
      "cell_type": "code",
      "execution_count": null,
      "metadata": {
        "id": "gVrelR1dE7tJ"
      },
      "outputs": [],
      "source": [
        "utils.evaluate('Binary-Class-CNN',res_bin_cnn,\n",
        "                x_bin_test.reshape([x_bin_test.shape[0],187,1]),\n",
        "                y_bin_test,is_multi=False,verbose=verbosity)"
      ]
    },
    {
      "attachments": {},
      "cell_type": "markdown",
      "metadata": {
        "id": "_3q6nmLlu0WR"
      },
      "source": [
        "#### Binary-Classification MLP with oversampling Model Results"
      ]
    },
    {
      "cell_type": "code",
      "execution_count": null,
      "metadata": {
        "id": "xWjxDDQpE7hr"
      },
      "outputs": [],
      "source": [
        "utils.evaluate('Binary-Class-MLP',res_bin_mlp,x_bin_test,\n",
        "                y_bin_test,is_multi=False,verbose=verbosity)"
      ]
    },
    {
      "attachments": {},
      "cell_type": "markdown",
      "metadata": {},
      "source": [
        "### Without oversampling"
      ]
    },
    {
      "attachments": {},
      "cell_type": "markdown",
      "metadata": {
        "id": "XXYhDAXLvGCu"
      },
      "source": [
        "#### Binary-Classification CNN Model without oversampling Results"
      ]
    },
    {
      "cell_type": "code",
      "execution_count": null,
      "metadata": {
        "id": "aIG7sUzflP5r"
      },
      "outputs": [],
      "source": [
        "utils.evaluate('Original Binary-Class-CNN',og_res_bin_cnn,\n",
        "                og_x_bin_test.reshape([og_x_bin_test.shape[0],187,1]),\n",
        "                og_y_bin_test,is_multi=False,verbose=verbosity)"
      ]
    },
    {
      "attachments": {},
      "cell_type": "markdown",
      "metadata": {
        "id": "lX1KIqZnvKcx"
      },
      "source": [
        "#### Binary-Classification MLP Model without oversampling Results"
      ]
    },
    {
      "cell_type": "code",
      "execution_count": null,
      "metadata": {
        "id": "ktIejmMmlbzK"
      },
      "outputs": [],
      "source": [
        "utils.evaluate('Original Binary-Class-MLP',og_res_bin_mlp,og_x_bin_test,\n",
        "                og_y_bin_test,is_multi=False,verbose=verbosity)"
      ]
    }
  ],
  "metadata": {
    "colab": {
      "provenance": []
    },
    "kernelspec": {
      "display_name": "Python 3",
      "language": "python",
      "name": "python3"
    },
    "language_info": {
      "codemirror_mode": {
        "name": "ipython",
        "version": 3
      },
      "file_extension": ".py",
      "mimetype": "text/x-python",
      "name": "python",
      "nbconvert_exporter": "python",
      "pygments_lexer": "ipython3",
      "version": "3.10.0 (tags/v3.10.0:b494f59, Oct  4 2021, 19:00:18) [MSC v.1929 64 bit (AMD64)]"
    },
    "vscode": {
      "interpreter": {
        "hash": "369f2c481f4da34e4445cda3fffd2e751bd1c4d706f27375911949ba6bb62e1c"
      }
    }
  },
  "nbformat": 4,
  "nbformat_minor": 0
}
