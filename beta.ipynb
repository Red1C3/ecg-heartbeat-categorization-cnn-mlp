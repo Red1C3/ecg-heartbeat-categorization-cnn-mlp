{
  "cells": [
    {
      "cell_type": "code",
      "execution_count": null,
      "metadata": {
        "collapsed": true,
        "id": "SrorahN20wTh"
      },
      "outputs": [],
      "source": [
        "import tensorflow as tf\n",
        "\n",
        "import utils\n",
        "import importlib\n",
        "_=importlib.reload(utils)"
      ]
    },
    {
      "cell_type": "markdown",
      "source": [
        "# Training Parameters\n",
        "Parameters with prefix \"multi\" are for oversampled data for multi classification\n",
        "\n",
        "Parameters with prefix \"bin\" are for oversampled data with binary classification\n",
        "\n",
        "Parameters with prefix \"og_multi\" are for non-oversampled data for multi classification\n",
        "\n",
        "Parameters with prefix \"og_bin\" are for non-oversampled data for binary classification"
      ],
      "metadata": {
        "id": "10iFZ7ddrcsj"
      }
    },
    {
      "cell_type": "code",
      "source": [
        "multi_batch_size=100 \n",
        "multi_epochs=30      \n",
        "bin_batch_size=100 \n",
        "bin_epochs=200      \n",
        "\n",
        "og_multi_batch_size=100 \n",
        "og_multi_epochs=30       \n",
        "og_bin_batch_size=100 \n",
        "og_bin_epochs=200      \n",
        "\n",
        "verbosity=False\n",
        "val_split=0.2"
      ],
      "metadata": {
        "id": "84hpWctMz5cC"
      },
      "execution_count": null,
      "outputs": []
    },
    {
      "cell_type": "markdown",
      "source": [
        "# Import datasets\n",
        "Both MITBIH and PTBDB are loaded and split into training and test sets\n",
        "\n",
        "Data with postfix \"multi\" are for multi-classification.\n",
        "\n",
        "Data with postfix \"bin\" are for binary-classification.\n",
        "\n",
        "Data with prefix \"og\" are not oversampled"
      ],
      "metadata": {
        "id": "8Q7wWkX9sFn4"
      }
    },
    {
      "cell_type": "code",
      "source": [
        "x_multi,x_multi_test,y_multi,y_multi_test=utils.import_set(oversampling=True,\n",
        "                                                           binary_set=False)\n",
        "\n",
        "x_bin,x_bin_test,y_bin,y_bin_test=utils.import_set(oversampling=True,\n",
        "                                                   binary_set=True)\n",
        "\n",
        "og_x_multi,og_x_multi_test,og_y_multi,og_y_multi_test=utils.import_set(oversampling=False,\n",
        "                                                           binary_set=False)\n",
        "\n",
        "og_x_bin,og_x_bin_test,og_y_bin,og_y_bin_test=utils.import_set(oversampling=False,\n",
        "                                                   binary_set=True)"
      ],
      "metadata": {
        "id": "5_b37kN8bElt"
      },
      "execution_count": null,
      "outputs": []
    },
    {
      "cell_type": "markdown",
      "source": [
        "# Models declarations\n",
        "\n",
        "Models with prefix \"og\" are without oversampling\n"
      ],
      "metadata": {
        "id": "wiRLKJvDtDkI"
      }
    },
    {
      "cell_type": "code",
      "source": [
        "model_multi_cnn=tf.keras.Sequential()\n",
        "model_multi_mlp=tf.keras.Sequential()\n",
        "model_bin_cnn=tf.keras.Sequential()\n",
        "model_bin_mlp=tf.keras.Sequential()\n",
        "\n",
        "utils.archi_cnn(model_multi_cnn,binary=False)\n",
        "utils.archi_cnn(model_bin_cnn,binary=True)\n",
        "utils.archi_mlp(model_multi_mlp,binary=False)\n",
        "utils.archi_mlp(model_bin_mlp,binary=True)\n",
        "\n",
        "og_model_multi_cnn=tf.keras.Sequential()\n",
        "og_model_multi_mlp=tf.keras.Sequential()\n",
        "og_model_bin_cnn=tf.keras.Sequential()\n",
        "og_model_bin_mlp=tf.keras.Sequential()\n",
        "\n",
        "utils.archi_cnn(og_model_multi_cnn,binary=False)\n",
        "utils.archi_cnn(og_model_bin_cnn,binary=True)\n",
        "utils.archi_mlp(og_model_multi_mlp,binary=False)\n",
        "utils.archi_mlp(og_model_bin_mlp,binary=True)"
      ],
      "metadata": {
        "id": "wvJzEpEQbjhp"
      },
      "execution_count": null,
      "outputs": []
    },
    {
      "cell_type": "markdown",
      "source": [
        "# Models optimizer and loss function declarations"
      ],
      "metadata": {
        "id": "nfcGGghCtQDw"
      }
    },
    {
      "cell_type": "code",
      "source": [
        "model_multi_cnn.compile('adam','sparse_categorical_crossentropy',metrics=['accuracy'])\n",
        "model_multi_mlp.compile('adam','sparse_categorical_crossentropy',metrics=['accuracy'])\n",
        "model_bin_cnn.compile('adam','binary_crossentropy',metrics=['accuracy'])\n",
        "model_bin_mlp.compile('adam','binary_crossentropy',metrics=['accuracy'])\n",
        "\n",
        "og_model_multi_cnn.compile('adam','sparse_categorical_crossentropy',metrics=['accuracy'])\n",
        "og_model_multi_mlp.compile('adam','sparse_categorical_crossentropy',metrics=['accuracy'])\n",
        "og_model_bin_cnn.compile('adam','binary_crossentropy',metrics=['accuracy'])\n",
        "og_model_bin_mlp.compile('adam','binary_crossentropy',metrics=['accuracy'])"
      ],
      "metadata": {
        "id": "DbfniXNMc48h"
      },
      "execution_count": null,
      "outputs": []
    },
    {
      "cell_type": "markdown",
      "source": [
        "# Multi-Classification CNN with oversampling model training\n"
      ],
      "metadata": {
        "id": "OOW8quXwtZfv"
      }
    },
    {
      "cell_type": "code",
      "source": [
        "res_multi_cnn=model_multi_cnn.fit(x_multi.reshape([x_multi.shape[0], 187, 1]),\n",
        "                                  y_multi,batch_size=multi_batch_size,\n",
        "                                  epochs=multi_epochs,verbose=verbosity,\n",
        "                                  validation_split=val_split)"
      ],
      "metadata": {
        "id": "b6esDSpSzxb1"
      },
      "execution_count": null,
      "outputs": []
    },
    {
      "cell_type": "markdown",
      "source": [
        "# Multi-Classification MLP with oversampling model training"
      ],
      "metadata": {
        "id": "cV-0-2Citgxe"
      }
    },
    {
      "cell_type": "code",
      "source": [
        "res_multi_mlp=model_multi_mlp.fit(x_multi,y_multi,batch_size=multi_batch_size,\n",
        "                                  epochs=multi_epochs,verbose=verbosity,\n",
        "                                  validation_split=val_split)"
      ],
      "metadata": {
        "id": "P1NJjJgrGkXC"
      },
      "execution_count": null,
      "outputs": []
    },
    {
      "cell_type": "markdown",
      "source": [
        "# Binary-Classification CNN with oversampling model training"
      ],
      "metadata": {
        "id": "CGEbI1bDtmVH"
      }
    },
    {
      "cell_type": "code",
      "source": [
        "res_bin_cnn=model_bin_cnn.fit(x_bin.reshape([x_bin.shape[0], 187, 1]),\n",
        "                              y_bin,batch_size=bin_batch_size,epochs=bin_epochs,\n",
        "                              verbose=verbosity,validation_split=val_split)"
      ],
      "metadata": {
        "id": "yGMN9MvvGkQA"
      },
      "execution_count": null,
      "outputs": []
    },
    {
      "cell_type": "markdown",
      "source": [
        "# Binary-Classification MLP with oversampling model training"
      ],
      "metadata": {
        "id": "SSeoZmRytqOu"
      }
    },
    {
      "cell_type": "code",
      "source": [
        "res_bin_mlp=model_bin_mlp.fit(x_bin,y_bin,batch_size=bin_batch_size,\n",
        "                              epochs=bin_epochs,verbose=verbosity,\n",
        "                              validation_split=val_split)"
      ],
      "metadata": {
        "id": "H0ae-oygGkId"
      },
      "execution_count": null,
      "outputs": []
    },
    {
      "cell_type": "markdown",
      "source": [
        "# Multi-Classification CNN model training without oversampling"
      ],
      "metadata": {
        "id": "49N80e8PtyaK"
      }
    },
    {
      "cell_type": "code",
      "source": [
        "og_res_multi_cnn=og_model_multi_cnn.fit(og_x_multi.reshape([og_x_multi.shape[0], 187, 1]),\n",
        "                                  og_y_multi,batch_size=og_multi_batch_size,\n",
        "                                  epochs=og_multi_epochs,verbose=verbosity,\n",
        "                                  validation_split=val_split)"
      ],
      "metadata": {
        "id": "cRleuitkkR9s"
      },
      "execution_count": null,
      "outputs": []
    },
    {
      "cell_type": "markdown",
      "source": [
        "# Multi-Classification MLP model training without oversampling"
      ],
      "metadata": {
        "id": "ksABWYnEt29x"
      }
    },
    {
      "cell_type": "code",
      "source": [
        "og_res_multi_mlp=og_model_multi_mlp.fit(og_x_multi,og_y_multi,batch_size=og_multi_batch_size,\n",
        "                                  epochs=og_multi_epochs,verbose=verbosity,\n",
        "                                  validation_split=val_split)"
      ],
      "metadata": {
        "id": "gYLvK2fTkfSo"
      },
      "execution_count": null,
      "outputs": []
    },
    {
      "cell_type": "markdown",
      "source": [
        "# Binary-Classification CNN model training without oversampling"
      ],
      "metadata": {
        "id": "hybLlKHmt6Ig"
      }
    },
    {
      "cell_type": "code",
      "source": [
        "og_res_bin_cnn=og_model_bin_cnn.fit(og_x_bin.reshape([og_x_bin.shape[0], 187, 1]),\n",
        "                              og_y_bin,batch_size=og_bin_batch_size,epochs=og_bin_epochs,\n",
        "                              verbose=verbosity,validation_split=val_split)"
      ],
      "metadata": {
        "id": "jSbwWTUBkp9J"
      },
      "execution_count": null,
      "outputs": []
    },
    {
      "cell_type": "markdown",
      "source": [
        "# Binary-Classification MLP model training without oversampling"
      ],
      "metadata": {
        "id": "Y2xVqRwzuJgW"
      }
    },
    {
      "cell_type": "code",
      "source": [
        "og_res_bin_mlp=og_model_bin_mlp.fit(og_x_bin,og_y_bin,batch_size=og_bin_batch_size,\n",
        "                              epochs=og_bin_epochs,verbose=verbosity,\n",
        "                              validation_split=val_split)"
      ],
      "metadata": {
        "id": "4YIbYNblk0kr"
      },
      "execution_count": null,
      "outputs": []
    },
    {
      "cell_type": "markdown",
      "source": [
        "# Multi-Classification CNN with oversampling Model Results"
      ],
      "metadata": {
        "id": "RjUopdmOuQX7"
      }
    },
    {
      "cell_type": "code",
      "source": [
        "utils.evaluate('Multi-Class-CNN',res_multi_cnn,\n",
        "                x_multi_test.reshape([x_multi_test.shape[0],187,1]),\n",
        "                y_multi_test,is_multi=True,verbose=verbosity)"
      ],
      "metadata": {
        "id": "rWeCiUQfAImt"
      },
      "execution_count": null,
      "outputs": []
    },
    {
      "cell_type": "markdown",
      "source": [
        "# Multi-Classification MLP with oversampling Model Results"
      ],
      "metadata": {
        "id": "o6luhTHJubVl"
      }
    },
    {
      "cell_type": "code",
      "source": [
        "utils.evaluate('Multi-Class-MLP',res_multi_mlp,x_multi_test,y_multi_test,\n",
        "                is_multi=True,verbose=verbosity)"
      ],
      "metadata": {
        "id": "5y8VF2iJE71g"
      },
      "execution_count": null,
      "outputs": []
    },
    {
      "cell_type": "markdown",
      "source": [
        "# Binary-Classification CNN with oversampling Model Results"
      ],
      "metadata": {
        "id": "PYbrZ9inugFI"
      }
    },
    {
      "cell_type": "code",
      "source": [
        "utils.evaluate('Binary-Class-CNN',res_bin_cnn,\n",
        "                x_bin_test.reshape([x_bin_test.shape[0],187,1]),\n",
        "                y_bin_test,is_multi=False,verbose=verbosity)"
      ],
      "metadata": {
        "id": "gVrelR1dE7tJ"
      },
      "execution_count": null,
      "outputs": []
    },
    {
      "cell_type": "markdown",
      "source": [
        "# Binary-Classification MLP with oversampling Model Results"
      ],
      "metadata": {
        "id": "_3q6nmLlu0WR"
      }
    },
    {
      "cell_type": "code",
      "source": [
        "utils.evaluate('Binary-Class-MLP',res_bin_mlp,x_bin_test,\n",
        "                y_bin_test,is_multi=False,verbose=verbosity)"
      ],
      "metadata": {
        "id": "xWjxDDQpE7hr"
      },
      "execution_count": null,
      "outputs": []
    },
    {
      "cell_type": "markdown",
      "source": [
        "# Multi-Classification CNN Model without oversampling Results"
      ],
      "metadata": {
        "id": "xCzZTk1_u40F"
      }
    },
    {
      "cell_type": "code",
      "source": [
        "utils.evaluate('Origianl Multi-Class-CNN',og_res_multi_cnn,\n",
        "                og_x_multi_test.reshape([og_x_multi_test.shape[0],187,1]),\n",
        "                og_y_multi_test,is_multi=True,verbose=verbosity)"
      ],
      "metadata": {
        "id": "pcYzuC2llAKS"
      },
      "execution_count": null,
      "outputs": []
    },
    {
      "cell_type": "markdown",
      "source": [
        "# Multi-Classification MLP Model without oversampling Results"
      ],
      "metadata": {
        "id": "tIUYEf2Qu_3U"
      }
    },
    {
      "cell_type": "code",
      "source": [
        "utils.evaluate('Origianl Multi-Class-MLP',og_res_multi_mlp,og_x_multi_test,og_y_multi_test,\n",
        "                is_multi=True,verbose=verbosity)"
      ],
      "metadata": {
        "id": "Xq1Y_W2KlIpe"
      },
      "execution_count": null,
      "outputs": []
    },
    {
      "cell_type": "markdown",
      "source": [
        "# Binary-Classification CNN Model without oversampling Results"
      ],
      "metadata": {
        "id": "XXYhDAXLvGCu"
      }
    },
    {
      "cell_type": "code",
      "source": [
        "utils.evaluate('Original Binary-Class-CNN',og_res_bin_cnn,\n",
        "                og_x_bin_test.reshape([og_x_bin_test.shape[0],187,1]),\n",
        "                og_y_bin_test,is_multi=False,verbose=verbosity)"
      ],
      "metadata": {
        "id": "aIG7sUzflP5r"
      },
      "execution_count": null,
      "outputs": []
    },
    {
      "cell_type": "markdown",
      "source": [
        "# Binary-Classification MLP Model without oversampling Results"
      ],
      "metadata": {
        "id": "lX1KIqZnvKcx"
      }
    },
    {
      "cell_type": "code",
      "source": [
        "utils.evaluate('Original Binary-Class-MLP',og_res_bin_mlp,og_x_bin_test,\n",
        "                og_y_bin_test,is_multi=False,verbose=verbosity)"
      ],
      "metadata": {
        "id": "ktIejmMmlbzK"
      },
      "execution_count": null,
      "outputs": []
    }
  ],
  "metadata": {
    "kernelspec": {
      "display_name": "tf-gpu",
      "language": "python",
      "name": "python3"
    },
    "language_info": {
      "codemirror_mode": {
        "name": "ipython",
        "version": 3
      },
      "file_extension": ".py",
      "mimetype": "text/x-python",
      "name": "python",
      "nbconvert_exporter": "python",
      "pygments_lexer": "ipython3",
      "version": "3.9.15"
    },
    "vscode": {
      "interpreter": {
        "hash": "0b5916d98285d7f9256b24e73be44c1954c1d35b1fc6eb84af81e3fe0ccc5dea"
      }
    },
    "colab": {
      "provenance": []
    }
  },
  "nbformat": 4,
  "nbformat_minor": 0
}