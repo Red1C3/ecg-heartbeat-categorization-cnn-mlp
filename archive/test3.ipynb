{
 "cells": [
  {
   "cell_type": "code",
   "execution_count": 1,
   "metadata": {
    "collapsed": true
   },
   "outputs": [],
   "source": [
    "import pandas as pd\n",
    "import tensorflow as tf\n",
    "import tensorflow.keras.layers as layers\n",
    "import matplotlib.pyplot as plt\n",
    "import numpy as np\n",
    "from sklearn.model_selection import train_test_split"
   ]
  },
  {
   "cell_type": "code",
   "execution_count": 2,
   "metadata": {
    "collapsed": false
   },
   "outputs": [],
   "source": [
    "#The dataset contains no header for columns, hence the header parameter\n",
    "data1_abnor=pd.read_csv('./ptbdb_abnormal.csv',header=None)\n",
    "data1_nor=pd.read_csv('./ptbdb_normal.csv',header=None)\n",
    "data2_train=pd.read_csv('./mitbih_train.csv',header=None)\n",
    "data2_test=pd.read_csv('./mitbih_test.csv',header=None)"
   ]
  },
  {
   "cell_type": "code",
   "execution_count": 3,
   "metadata": {},
   "outputs": [],
   "source": [
    "data1 = pd.concat([data1_abnor, data1_nor]).sample(frac=1).reset_index(drop=True)\n",
    "data2 = pd.concat([data2_train, data2_test]).sample(frac=1).reset_index(drop=True)"
   ]
  },
  {
   "cell_type": "code",
   "execution_count": 4,
   "metadata": {},
   "outputs": [],
   "source": [
    "data2.loc[(data2[187] != 0),187]=1"
   ]
  },
  {
   "cell_type": "code",
   "execution_count": 5,
   "metadata": {},
   "outputs": [],
   "source": [
    "data = pd.concat([data1,data2]).sample(frac=1).reset_index(drop=True)"
   ]
  },
  {
   "cell_type": "code",
   "execution_count": 6,
   "metadata": {},
   "outputs": [],
   "source": [
    "Y=data[data.columns[-1:]]\n",
    "X=data[data.columns[:-1]]"
   ]
  },
  {
   "cell_type": "code",
   "execution_count": 7,
   "metadata": {},
   "outputs": [
    {
     "name": "stdout",
     "output_type": "stream",
     "text": [
      "(92998, 187)\n"
     ]
    }
   ],
   "source": [
    "x_train,x_test,y_train,y_test=train_test_split(X,Y,test_size=0.25,random_state=42)\n",
    "print(x_train.shape)"
   ]
  },
  {
   "cell_type": "code",
   "execution_count": 8,
   "metadata": {},
   "outputs": [
    {
     "name": "stdout",
     "output_type": "stream",
     "text": [
      "94635\n",
      "29363\n"
     ]
    }
   ],
   "source": [
    "print(len(Y[Y[187] ==0 ]))\n",
    "print(len(Y[Y[187] ==1 ]))"
   ]
  },
  {
   "cell_type": "code",
   "execution_count": 9,
   "metadata": {
    "collapsed": false
   },
   "outputs": [],
   "source": [
    "y_train=y_train.to_numpy()\n",
    "x_train=x_train.to_numpy()\n",
    "#Add data dimension, doesn't actually change the data but that's how the input is expected, like it could have multiple values per timestamp\n",
    "x_train=x_train.reshape([-1,187,1])"
   ]
  },
  {
   "cell_type": "code",
   "execution_count": 10,
   "metadata": {
    "collapsed": false
   },
   "outputs": [],
   "source": [
    "y_test=y_test.to_numpy()\n",
    "x_test=x_test.to_numpy()\n",
    "#Add data dimension, doesn't actually change the data but that's how the input is expected, like it could have multiple values per timestamp\n",
    "x_test=x_test.reshape([-1,187,1])"
   ]
  },
  {
   "cell_type": "code",
   "execution_count": 11,
   "metadata": {
    "collapsed": false
   },
   "outputs": [],
   "source": [
    "model=tf.keras.Sequential([\n",
    "    layers.Conv1D(7, 7, activation='relu', input_shape=(187,1)),\n",
    "    layers.BatchNormalization(),\n",
    "    layers.MaxPool1D(),\n",
    "    layers.Conv1D(5,5,activation='relu'),\n",
    "    layers.BatchNormalization(),\n",
    "    layers.MaxPool1D(),\n",
    "    layers.Conv1D(3,3,activation='relu'),\n",
    "    layers.BatchNormalization(),\n",
    "    layers.MaxPool1D(),\n",
    "    layers.Flatten(),\n",
    "    layers.Dense(64,activation='relu'),\n",
    "    layers.Dense(32,activation='relu'),\n",
    "    layers.Dense(1,activation='sigmoid') #softmax cuz categories\n",
    "])"
   ]
  },
  {
   "cell_type": "code",
   "execution_count": 12,
   "metadata": {
    "collapsed": false
   },
   "outputs": [
    {
     "name": "stdout",
     "output_type": "stream",
     "text": [
      "Epoch 1/200\n",
      "582/582 [==============================] - 14s 21ms/step - loss: 0.3481 - accuracy: 0.8587 - val_loss: 0.3654 - val_accuracy: 0.8582\n",
      "Epoch 2/200\n",
      "582/582 [==============================] - 11s 19ms/step - loss: 0.2388 - accuracy: 0.9071 - val_loss: 0.2225 - val_accuracy: 0.9131\n",
      "Epoch 3/200\n",
      "582/582 [==============================] - 12s 20ms/step - loss: 0.2010 - accuracy: 0.9214 - val_loss: 0.2138 - val_accuracy: 0.9169\n",
      "Epoch 4/200\n",
      "582/582 [==============================] - 11s 19ms/step - loss: 0.1739 - accuracy: 0.9326 - val_loss: 0.1722 - val_accuracy: 0.9338\n",
      "Epoch 5/200\n",
      "582/582 [==============================] - 11s 18ms/step - loss: 0.1564 - accuracy: 0.9398 - val_loss: 0.1685 - val_accuracy: 0.9358\n",
      "Epoch 6/200\n",
      "582/582 [==============================] - 8s 14ms/step - loss: 0.1407 - accuracy: 0.9460 - val_loss: 0.1509 - val_accuracy: 0.9434\n",
      "Epoch 7/200\n",
      "582/582 [==============================] - 8s 14ms/step - loss: 0.1312 - accuracy: 0.9502 - val_loss: 0.1471 - val_accuracy: 0.9450\n",
      "Epoch 8/200\n",
      "582/582 [==============================] - 8s 14ms/step - loss: 0.1228 - accuracy: 0.9530 - val_loss: 0.1892 - val_accuracy: 0.9283\n",
      "Epoch 9/200\n",
      "582/582 [==============================] - 8s 14ms/step - loss: 0.1157 - accuracy: 0.9563 - val_loss: 0.1448 - val_accuracy: 0.9474\n",
      "Epoch 10/200\n",
      "582/582 [==============================] - 8s 14ms/step - loss: 0.1094 - accuracy: 0.9591 - val_loss: 0.1279 - val_accuracy: 0.9525\n",
      "Epoch 11/200\n",
      "582/582 [==============================] - 8s 15ms/step - loss: 0.1047 - accuracy: 0.9612 - val_loss: 0.1476 - val_accuracy: 0.9480\n",
      "Epoch 12/200\n",
      "582/582 [==============================] - 8s 14ms/step - loss: 0.0992 - accuracy: 0.9635 - val_loss: 0.1305 - val_accuracy: 0.9530\n",
      "Epoch 13/200\n",
      "582/582 [==============================] - 8s 14ms/step - loss: 0.0953 - accuracy: 0.9654 - val_loss: 0.1370 - val_accuracy: 0.9506\n",
      "Epoch 14/200\n",
      "582/582 [==============================] - 8s 14ms/step - loss: 0.0923 - accuracy: 0.9661 - val_loss: 0.1233 - val_accuracy: 0.9566\n",
      "Epoch 15/200\n",
      "582/582 [==============================] - 9s 16ms/step - loss: 0.0891 - accuracy: 0.9667 - val_loss: 0.1266 - val_accuracy: 0.9554\n",
      "Epoch 16/200\n",
      "582/582 [==============================] - 8s 13ms/step - loss: 0.0858 - accuracy: 0.9686 - val_loss: 0.1373 - val_accuracy: 0.9528\n",
      "Epoch 17/200\n",
      "582/582 [==============================] - 8s 13ms/step - loss: 0.0834 - accuracy: 0.9694 - val_loss: 0.1240 - val_accuracy: 0.9556\n",
      "Epoch 18/200\n",
      "582/582 [==============================] - 8s 13ms/step - loss: 0.0809 - accuracy: 0.9706 - val_loss: 0.1188 - val_accuracy: 0.9573\n",
      "Epoch 19/200\n",
      "582/582 [==============================] - 8s 14ms/step - loss: 0.0778 - accuracy: 0.9723 - val_loss: 0.1259 - val_accuracy: 0.9552\n",
      "Epoch 20/200\n",
      "582/582 [==============================] - 8s 14ms/step - loss: 0.0763 - accuracy: 0.9720 - val_loss: 0.1346 - val_accuracy: 0.9541\n",
      "Epoch 21/200\n",
      "582/582 [==============================] - 8s 14ms/step - loss: 0.0746 - accuracy: 0.9727 - val_loss: 0.1219 - val_accuracy: 0.9577\n",
      "Epoch 22/200\n",
      "582/582 [==============================] - 9s 15ms/step - loss: 0.0724 - accuracy: 0.9738 - val_loss: 0.1298 - val_accuracy: 0.9576\n",
      "Epoch 23/200\n",
      "582/582 [==============================] - 8s 13ms/step - loss: 0.0704 - accuracy: 0.9744 - val_loss: 0.1317 - val_accuracy: 0.9569\n",
      "Epoch 24/200\n",
      "582/582 [==============================] - 8s 14ms/step - loss: 0.0697 - accuracy: 0.9748 - val_loss: 0.1238 - val_accuracy: 0.9585\n",
      "Epoch 25/200\n",
      "582/582 [==============================] - 8s 13ms/step - loss: 0.0669 - accuracy: 0.9759 - val_loss: 0.1373 - val_accuracy: 0.9556\n",
      "Epoch 26/200\n",
      "582/582 [==============================] - 8s 13ms/step - loss: 0.0668 - accuracy: 0.9759 - val_loss: 0.1138 - val_accuracy: 0.9610\n",
      "Epoch 27/200\n",
      "582/582 [==============================] - 8s 14ms/step - loss: 0.0640 - accuracy: 0.9768 - val_loss: 0.1304 - val_accuracy: 0.9561\n",
      "Epoch 28/200\n",
      "582/582 [==============================] - 8s 14ms/step - loss: 0.0631 - accuracy: 0.9773 - val_loss: 0.1185 - val_accuracy: 0.9614\n",
      "Epoch 29/200\n",
      "582/582 [==============================] - 8s 14ms/step - loss: 0.0612 - accuracy: 0.9781 - val_loss: 0.1183 - val_accuracy: 0.9617\n",
      "Epoch 30/200\n",
      "582/582 [==============================] - 8s 14ms/step - loss: 0.0615 - accuracy: 0.9776 - val_loss: 0.1227 - val_accuracy: 0.9590\n",
      "Epoch 31/200\n",
      "582/582 [==============================] - 8s 14ms/step - loss: 0.0602 - accuracy: 0.9778 - val_loss: 0.1395 - val_accuracy: 0.9562\n",
      "Epoch 32/200\n",
      "582/582 [==============================] - 8s 14ms/step - loss: 0.0604 - accuracy: 0.9783 - val_loss: 0.1586 - val_accuracy: 0.9525\n",
      "Epoch 33/200\n",
      "582/582 [==============================] - 8s 13ms/step - loss: 0.0578 - accuracy: 0.9787 - val_loss: 0.1735 - val_accuracy: 0.9384\n",
      "Epoch 34/200\n",
      "582/582 [==============================] - 8s 14ms/step - loss: 0.0572 - accuracy: 0.9790 - val_loss: 0.1345 - val_accuracy: 0.9551\n",
      "Epoch 35/200\n",
      "582/582 [==============================] - 8s 13ms/step - loss: 0.0563 - accuracy: 0.9797 - val_loss: 0.1219 - val_accuracy: 0.9611\n",
      "Epoch 36/200\n",
      "582/582 [==============================] - 8s 14ms/step - loss: 0.0555 - accuracy: 0.9798 - val_loss: 0.1185 - val_accuracy: 0.9619\n",
      "Epoch 37/200\n",
      "582/582 [==============================] - 8s 14ms/step - loss: 0.0544 - accuracy: 0.9801 - val_loss: 0.1177 - val_accuracy: 0.9629\n",
      "Epoch 38/200\n",
      "582/582 [==============================] - 7s 13ms/step - loss: 0.0539 - accuracy: 0.9802 - val_loss: 0.1476 - val_accuracy: 0.9545\n",
      "Epoch 39/200\n",
      "582/582 [==============================] - 7s 13ms/step - loss: 0.0528 - accuracy: 0.9808 - val_loss: 0.1374 - val_accuracy: 0.9578\n",
      "Epoch 40/200\n",
      "582/582 [==============================] - 7s 13ms/step - loss: 0.0518 - accuracy: 0.9810 - val_loss: 0.1260 - val_accuracy: 0.9603\n",
      "Epoch 41/200\n",
      "582/582 [==============================] - 7s 13ms/step - loss: 0.0517 - accuracy: 0.9812 - val_loss: 0.1216 - val_accuracy: 0.9632\n",
      "Epoch 42/200\n",
      "582/582 [==============================] - 8s 14ms/step - loss: 0.0501 - accuracy: 0.9815 - val_loss: 0.1317 - val_accuracy: 0.9600\n",
      "Epoch 43/200\n",
      "582/582 [==============================] - 7s 12ms/step - loss: 0.0503 - accuracy: 0.9820 - val_loss: 0.1336 - val_accuracy: 0.9596\n",
      "Epoch 44/200\n",
      "582/582 [==============================] - 7s 13ms/step - loss: 0.0502 - accuracy: 0.9814 - val_loss: 0.1202 - val_accuracy: 0.9629\n",
      "Epoch 45/200\n",
      "582/582 [==============================] - 7s 12ms/step - loss: 0.0500 - accuracy: 0.9823 - val_loss: 0.1388 - val_accuracy: 0.9598\n",
      "Epoch 46/200\n",
      "582/582 [==============================] - 7s 12ms/step - loss: 0.0477 - accuracy: 0.9828 - val_loss: 0.1233 - val_accuracy: 0.9637\n",
      "Epoch 47/200\n",
      "582/582 [==============================] - 7s 13ms/step - loss: 0.0477 - accuracy: 0.9830 - val_loss: 0.1285 - val_accuracy: 0.9620\n",
      "Epoch 48/200\n",
      "582/582 [==============================] - 7s 13ms/step - loss: 0.0468 - accuracy: 0.9828 - val_loss: 0.1229 - val_accuracy: 0.9640\n",
      "Epoch 49/200\n",
      "582/582 [==============================] - 8s 14ms/step - loss: 0.0465 - accuracy: 0.9827 - val_loss: 0.1223 - val_accuracy: 0.9630\n",
      "Epoch 50/200\n",
      "582/582 [==============================] - 8s 14ms/step - loss: 0.0456 - accuracy: 0.9829 - val_loss: 0.1455 - val_accuracy: 0.9569\n",
      "Epoch 51/200\n",
      "582/582 [==============================] - 7s 12ms/step - loss: 0.0446 - accuracy: 0.9839 - val_loss: 0.1237 - val_accuracy: 0.9633\n",
      "Epoch 52/200\n",
      "582/582 [==============================] - 7s 13ms/step - loss: 0.0459 - accuracy: 0.9833 - val_loss: 0.1270 - val_accuracy: 0.9630\n",
      "Epoch 53/200\n",
      "582/582 [==============================] - 7s 13ms/step - loss: 0.0445 - accuracy: 0.9836 - val_loss: 0.1290 - val_accuracy: 0.9622\n",
      "Epoch 54/200\n",
      "582/582 [==============================] - 7s 13ms/step - loss: 0.0449 - accuracy: 0.9833 - val_loss: 0.1314 - val_accuracy: 0.9603\n",
      "Epoch 55/200\n",
      "582/582 [==============================] - 7s 13ms/step - loss: 0.0434 - accuracy: 0.9840 - val_loss: 0.1425 - val_accuracy: 0.9537\n",
      "Epoch 56/200\n",
      "582/582 [==============================] - 7s 13ms/step - loss: 0.0434 - accuracy: 0.9842 - val_loss: 0.1418 - val_accuracy: 0.9599\n",
      "Epoch 57/200\n",
      "582/582 [==============================] - 7s 13ms/step - loss: 0.0431 - accuracy: 0.9837 - val_loss: 0.1447 - val_accuracy: 0.9587\n",
      "Epoch 58/200\n",
      "582/582 [==============================] - 8s 13ms/step - loss: 0.0427 - accuracy: 0.9847 - val_loss: 0.1549 - val_accuracy: 0.9560\n",
      "Epoch 59/200\n",
      "582/582 [==============================] - 8s 13ms/step - loss: 0.0429 - accuracy: 0.9839 - val_loss: 0.1641 - val_accuracy: 0.9502\n",
      "Epoch 60/200\n",
      "582/582 [==============================] - 7s 12ms/step - loss: 0.0409 - accuracy: 0.9853 - val_loss: 0.1394 - val_accuracy: 0.9618\n",
      "Epoch 61/200\n",
      "582/582 [==============================] - 7s 12ms/step - loss: 0.0413 - accuracy: 0.9845 - val_loss: 0.1334 - val_accuracy: 0.9617\n",
      "Epoch 62/200\n",
      "582/582 [==============================] - 7s 13ms/step - loss: 0.0400 - accuracy: 0.9857 - val_loss: 0.1609 - val_accuracy: 0.9503\n",
      "Epoch 63/200\n",
      "582/582 [==============================] - 7s 13ms/step - loss: 0.0416 - accuracy: 0.9848 - val_loss: 0.1340 - val_accuracy: 0.9626\n",
      "Epoch 64/200\n",
      "582/582 [==============================] - 7s 13ms/step - loss: 0.0390 - accuracy: 0.9856 - val_loss: 0.1552 - val_accuracy: 0.9597\n",
      "Epoch 65/200\n",
      "582/582 [==============================] - 7s 13ms/step - loss: 0.0399 - accuracy: 0.9852 - val_loss: 0.1307 - val_accuracy: 0.9654\n",
      "Epoch 66/200\n",
      "582/582 [==============================] - 7s 13ms/step - loss: 0.0392 - accuracy: 0.9858 - val_loss: 0.1399 - val_accuracy: 0.9617\n",
      "Epoch 67/200\n",
      "582/582 [==============================] - 7s 13ms/step - loss: 0.0375 - accuracy: 0.9863 - val_loss: 0.1372 - val_accuracy: 0.9619\n",
      "Epoch 68/200\n",
      "582/582 [==============================] - 7s 13ms/step - loss: 0.0410 - accuracy: 0.9846 - val_loss: 0.1433 - val_accuracy: 0.9597\n",
      "Epoch 69/200\n",
      "582/582 [==============================] - 7s 13ms/step - loss: 0.0367 - accuracy: 0.9866 - val_loss: 0.1404 - val_accuracy: 0.9628\n",
      "Epoch 70/200\n",
      "582/582 [==============================] - 7s 12ms/step - loss: 0.0377 - accuracy: 0.9864 - val_loss: 0.1321 - val_accuracy: 0.9641\n",
      "Epoch 71/200\n",
      "582/582 [==============================] - 7s 13ms/step - loss: 0.0379 - accuracy: 0.9859 - val_loss: 0.1478 - val_accuracy: 0.9623\n",
      "Epoch 72/200\n",
      "582/582 [==============================] - 7s 13ms/step - loss: 0.0364 - accuracy: 0.9864 - val_loss: 0.1443 - val_accuracy: 0.9627\n",
      "Epoch 73/200\n",
      "582/582 [==============================] - 7s 13ms/step - loss: 0.0374 - accuracy: 0.9865 - val_loss: 0.1422 - val_accuracy: 0.9639\n",
      "Epoch 74/200\n",
      "582/582 [==============================] - 7s 13ms/step - loss: 0.0364 - accuracy: 0.9867 - val_loss: 0.1387 - val_accuracy: 0.9648\n",
      "Epoch 75/200\n",
      "582/582 [==============================] - 7s 13ms/step - loss: 0.0359 - accuracy: 0.9865 - val_loss: 0.1354 - val_accuracy: 0.9663\n",
      "Epoch 76/200\n",
      "582/582 [==============================] - 8s 13ms/step - loss: 0.0361 - accuracy: 0.9868 - val_loss: 0.1447 - val_accuracy: 0.9637\n",
      "Epoch 77/200\n",
      "582/582 [==============================] - 7s 13ms/step - loss: 0.0363 - accuracy: 0.9870 - val_loss: 0.1371 - val_accuracy: 0.9645\n",
      "Epoch 78/200\n",
      "582/582 [==============================] - 7s 13ms/step - loss: 0.0344 - accuracy: 0.9874 - val_loss: 0.3820 - val_accuracy: 0.8897\n",
      "Epoch 79/200\n",
      "582/582 [==============================] - 7s 13ms/step - loss: 0.0352 - accuracy: 0.9872 - val_loss: 0.1797 - val_accuracy: 0.9524\n",
      "Epoch 80/200\n",
      "582/582 [==============================] - 7s 12ms/step - loss: 0.0351 - accuracy: 0.9871 - val_loss: 0.1788 - val_accuracy: 0.9569\n",
      "Epoch 81/200\n",
      "582/582 [==============================] - 7s 13ms/step - loss: 0.0336 - accuracy: 0.9879 - val_loss: 0.1408 - val_accuracy: 0.9650\n",
      "Epoch 82/200\n",
      "582/582 [==============================] - 7s 13ms/step - loss: 0.0347 - accuracy: 0.9870 - val_loss: 0.1493 - val_accuracy: 0.9618\n",
      "Epoch 83/200\n",
      "582/582 [==============================] - 7s 13ms/step - loss: 0.0338 - accuracy: 0.9874 - val_loss: 0.1605 - val_accuracy: 0.9613\n",
      "Epoch 84/200\n",
      "582/582 [==============================] - 7s 12ms/step - loss: 0.0338 - accuracy: 0.9880 - val_loss: 0.1531 - val_accuracy: 0.9586\n",
      "Epoch 85/200\n",
      "582/582 [==============================] - 7s 12ms/step - loss: 0.0337 - accuracy: 0.9875 - val_loss: 0.1588 - val_accuracy: 0.9583\n",
      "Epoch 86/200\n",
      "582/582 [==============================] - 7s 12ms/step - loss: 0.0326 - accuracy: 0.9880 - val_loss: 0.1408 - val_accuracy: 0.9664\n",
      "Epoch 87/200\n",
      "582/582 [==============================] - 7s 12ms/step - loss: 0.0337 - accuracy: 0.9878 - val_loss: 0.1623 - val_accuracy: 0.9563\n",
      "Epoch 88/200\n",
      "582/582 [==============================] - 7s 13ms/step - loss: 0.0336 - accuracy: 0.9877 - val_loss: 0.1491 - val_accuracy: 0.9626\n",
      "Epoch 89/200\n",
      "582/582 [==============================] - 7s 12ms/step - loss: 0.0334 - accuracy: 0.9879 - val_loss: 0.1635 - val_accuracy: 0.9584\n",
      "Epoch 90/200\n",
      "582/582 [==============================] - 7s 12ms/step - loss: 0.0312 - accuracy: 0.9887 - val_loss: 0.1419 - val_accuracy: 0.9647\n",
      "Epoch 91/200\n",
      "582/582 [==============================] - 7s 13ms/step - loss: 0.0304 - accuracy: 0.9889 - val_loss: 0.1519 - val_accuracy: 0.9637\n",
      "Epoch 92/200\n",
      "582/582 [==============================] - 7s 12ms/step - loss: 0.0334 - accuracy: 0.9879 - val_loss: 0.1470 - val_accuracy: 0.9651\n",
      "Epoch 93/200\n",
      "582/582 [==============================] - 7s 13ms/step - loss: 0.0315 - accuracy: 0.9883 - val_loss: 0.1543 - val_accuracy: 0.9637\n",
      "Epoch 94/200\n",
      "582/582 [==============================] - 7s 13ms/step - loss: 0.0325 - accuracy: 0.9877 - val_loss: 0.1503 - val_accuracy: 0.9659\n",
      "Epoch 95/200\n",
      "582/582 [==============================] - 7s 12ms/step - loss: 0.0310 - accuracy: 0.9886 - val_loss: 0.1503 - val_accuracy: 0.9634\n",
      "Epoch 96/200\n",
      "582/582 [==============================] - 7s 13ms/step - loss: 0.0296 - accuracy: 0.9893 - val_loss: 0.1536 - val_accuracy: 0.9623\n",
      "Epoch 97/200\n",
      "582/582 [==============================] - 7s 12ms/step - loss: 0.0299 - accuracy: 0.9891 - val_loss: 0.1523 - val_accuracy: 0.9622\n",
      "Epoch 98/200\n",
      "582/582 [==============================] - 7s 13ms/step - loss: 0.0315 - accuracy: 0.9883 - val_loss: 0.1672 - val_accuracy: 0.9620\n",
      "Epoch 99/200\n",
      "582/582 [==============================] - 7s 12ms/step - loss: 0.0307 - accuracy: 0.9888 - val_loss: 0.1526 - val_accuracy: 0.9632\n",
      "Epoch 100/200\n",
      "582/582 [==============================] - 7s 13ms/step - loss: 0.0306 - accuracy: 0.9888 - val_loss: 0.1718 - val_accuracy: 0.9618\n",
      "Epoch 101/200\n",
      "582/582 [==============================] - 7s 13ms/step - loss: 0.0296 - accuracy: 0.9890 - val_loss: 0.1505 - val_accuracy: 0.9643\n",
      "Epoch 102/200\n",
      "582/582 [==============================] - 7s 13ms/step - loss: 0.0307 - accuracy: 0.9887 - val_loss: 0.2329 - val_accuracy: 0.9411\n",
      "Epoch 103/200\n",
      "582/582 [==============================] - 7s 13ms/step - loss: 0.0302 - accuracy: 0.9887 - val_loss: 0.1678 - val_accuracy: 0.9598\n",
      "Epoch 104/200\n",
      "582/582 [==============================] - 8s 13ms/step - loss: 0.0285 - accuracy: 0.9897 - val_loss: 0.1546 - val_accuracy: 0.9633\n",
      "Epoch 105/200\n",
      "582/582 [==============================] - 8s 13ms/step - loss: 0.0290 - accuracy: 0.9893 - val_loss: 0.1641 - val_accuracy: 0.9596\n",
      "Epoch 106/200\n",
      "582/582 [==============================] - 7s 13ms/step - loss: 0.0273 - accuracy: 0.9903 - val_loss: 0.1782 - val_accuracy: 0.9598\n",
      "Epoch 107/200\n",
      "582/582 [==============================] - 7s 12ms/step - loss: 0.0293 - accuracy: 0.9894 - val_loss: 0.1926 - val_accuracy: 0.9587\n",
      "Epoch 108/200\n",
      "582/582 [==============================] - 7s 12ms/step - loss: 0.0292 - accuracy: 0.9894 - val_loss: 0.1597 - val_accuracy: 0.9640\n",
      "Epoch 109/200\n",
      "582/582 [==============================] - 7s 13ms/step - loss: 0.0284 - accuracy: 0.9895 - val_loss: 0.1511 - val_accuracy: 0.9654\n",
      "Epoch 110/200\n",
      "582/582 [==============================] - 7s 13ms/step - loss: 0.0293 - accuracy: 0.9894 - val_loss: 0.1548 - val_accuracy: 0.9641\n",
      "Epoch 111/200\n",
      "582/582 [==============================] - 7s 13ms/step - loss: 0.0300 - accuracy: 0.9892 - val_loss: 0.1681 - val_accuracy: 0.9629\n",
      "Epoch 112/200\n",
      "582/582 [==============================] - 7s 13ms/step - loss: 0.0271 - accuracy: 0.9903 - val_loss: 0.1819 - val_accuracy: 0.9536\n",
      "Epoch 113/200\n",
      "582/582 [==============================] - 7s 13ms/step - loss: 0.0271 - accuracy: 0.9902 - val_loss: 0.1580 - val_accuracy: 0.9653\n",
      "Epoch 114/200\n",
      "582/582 [==============================] - 7s 13ms/step - loss: 0.0288 - accuracy: 0.9893 - val_loss: 0.1925 - val_accuracy: 0.9591\n",
      "Epoch 115/200\n",
      "582/582 [==============================] - 7s 13ms/step - loss: 0.0270 - accuracy: 0.9895 - val_loss: 0.1726 - val_accuracy: 0.9611\n",
      "Epoch 116/200\n",
      "582/582 [==============================] - 7s 13ms/step - loss: 0.0285 - accuracy: 0.9895 - val_loss: 0.1689 - val_accuracy: 0.9630\n",
      "Epoch 117/200\n",
      "582/582 [==============================] - 7s 13ms/step - loss: 0.0265 - accuracy: 0.9905 - val_loss: 0.1673 - val_accuracy: 0.9637\n",
      "Epoch 118/200\n",
      "582/582 [==============================] - 7s 13ms/step - loss: 0.0270 - accuracy: 0.9898 - val_loss: 0.1812 - val_accuracy: 0.9607\n",
      "Epoch 119/200\n",
      "582/582 [==============================] - 7s 13ms/step - loss: 0.0263 - accuracy: 0.9906 - val_loss: 0.2079 - val_accuracy: 0.9486\n",
      "Epoch 120/200\n",
      "582/582 [==============================] - 7s 13ms/step - loss: 0.0282 - accuracy: 0.9894 - val_loss: 0.1720 - val_accuracy: 0.9596\n",
      "Epoch 121/200\n",
      "582/582 [==============================] - 7s 13ms/step - loss: 0.0282 - accuracy: 0.9899 - val_loss: 0.1758 - val_accuracy: 0.9577\n",
      "Epoch 122/200\n",
      "582/582 [==============================] - 7s 13ms/step - loss: 0.0253 - accuracy: 0.9909 - val_loss: 0.1665 - val_accuracy: 0.9611\n",
      "Epoch 123/200\n",
      "582/582 [==============================] - 7s 13ms/step - loss: 0.0265 - accuracy: 0.9907 - val_loss: 0.1711 - val_accuracy: 0.9610\n",
      "Epoch 124/200\n",
      "582/582 [==============================] - 7s 13ms/step - loss: 0.0270 - accuracy: 0.9897 - val_loss: 0.1854 - val_accuracy: 0.9572\n",
      "Epoch 125/200\n",
      "582/582 [==============================] - 7s 12ms/step - loss: 0.0266 - accuracy: 0.9898 - val_loss: 0.1875 - val_accuracy: 0.9573\n",
      "Epoch 126/200\n",
      "582/582 [==============================] - 7s 13ms/step - loss: 0.0247 - accuracy: 0.9912 - val_loss: 0.1662 - val_accuracy: 0.9643\n",
      "Epoch 127/200\n",
      "582/582 [==============================] - 7s 12ms/step - loss: 0.0269 - accuracy: 0.9904 - val_loss: 0.1794 - val_accuracy: 0.9613\n",
      "Epoch 128/200\n",
      "582/582 [==============================] - 7s 13ms/step - loss: 0.0257 - accuracy: 0.9903 - val_loss: 0.2035 - val_accuracy: 0.9589\n",
      "Epoch 129/200\n",
      "582/582 [==============================] - 7s 12ms/step - loss: 0.0255 - accuracy: 0.9909 - val_loss: 0.1694 - val_accuracy: 0.9631\n",
      "Epoch 130/200\n",
      "582/582 [==============================] - 7s 13ms/step - loss: 0.0260 - accuracy: 0.9903 - val_loss: 0.1784 - val_accuracy: 0.9613\n",
      "Epoch 131/200\n",
      "582/582 [==============================] - 7s 13ms/step - loss: 0.0246 - accuracy: 0.9909 - val_loss: 0.1818 - val_accuracy: 0.9614\n",
      "Epoch 132/200\n",
      "582/582 [==============================] - 7s 13ms/step - loss: 0.0247 - accuracy: 0.9907 - val_loss: 0.1810 - val_accuracy: 0.9628\n",
      "Epoch 133/200\n",
      "582/582 [==============================] - 7s 13ms/step - loss: 0.0240 - accuracy: 0.9909 - val_loss: 0.2255 - val_accuracy: 0.9562\n",
      "Epoch 134/200\n",
      "582/582 [==============================] - 7s 13ms/step - loss: 0.0266 - accuracy: 0.9906 - val_loss: 0.1736 - val_accuracy: 0.9636\n",
      "Epoch 135/200\n",
      "582/582 [==============================] - 7s 12ms/step - loss: 0.0257 - accuracy: 0.9907 - val_loss: 0.1775 - val_accuracy: 0.9616\n",
      "Epoch 136/200\n",
      "582/582 [==============================] - 7s 13ms/step - loss: 0.0237 - accuracy: 0.9913 - val_loss: 0.1761 - val_accuracy: 0.9616\n",
      "Epoch 137/200\n",
      "582/582 [==============================] - 7s 13ms/step - loss: 0.0235 - accuracy: 0.9914 - val_loss: 0.1826 - val_accuracy: 0.9630\n",
      "Epoch 138/200\n",
      "582/582 [==============================] - 7s 13ms/step - loss: 0.0265 - accuracy: 0.9903 - val_loss: 0.2094 - val_accuracy: 0.9591\n",
      "Epoch 139/200\n",
      "582/582 [==============================] - 7s 12ms/step - loss: 0.0251 - accuracy: 0.9907 - val_loss: 0.1749 - val_accuracy: 0.9637\n",
      "Epoch 140/200\n",
      "582/582 [==============================] - 7s 13ms/step - loss: 0.0270 - accuracy: 0.9898 - val_loss: 0.1711 - val_accuracy: 0.9638\n",
      "Epoch 141/200\n",
      "582/582 [==============================] - 7s 13ms/step - loss: 0.0230 - accuracy: 0.9916 - val_loss: 0.1835 - val_accuracy: 0.9638\n",
      "Epoch 142/200\n",
      "582/582 [==============================] - 7s 13ms/step - loss: 0.0247 - accuracy: 0.9908 - val_loss: 0.1948 - val_accuracy: 0.9610\n",
      "Epoch 143/200\n",
      "582/582 [==============================] - 7s 13ms/step - loss: 0.0235 - accuracy: 0.9916 - val_loss: 0.1744 - val_accuracy: 0.9661\n",
      "Epoch 144/200\n",
      "582/582 [==============================] - 7s 13ms/step - loss: 0.0235 - accuracy: 0.9912 - val_loss: 0.1784 - val_accuracy: 0.9624\n",
      "Epoch 145/200\n",
      "582/582 [==============================] - 7s 13ms/step - loss: 0.0239 - accuracy: 0.9917 - val_loss: 0.1845 - val_accuracy: 0.9632\n",
      "Epoch 146/200\n",
      "582/582 [==============================] - 7s 13ms/step - loss: 0.0231 - accuracy: 0.9917 - val_loss: 0.1913 - val_accuracy: 0.9617\n",
      "Epoch 147/200\n",
      "582/582 [==============================] - 7s 13ms/step - loss: 0.0248 - accuracy: 0.9912 - val_loss: 0.1806 - val_accuracy: 0.9625\n",
      "Epoch 148/200\n",
      "582/582 [==============================] - 7s 13ms/step - loss: 0.0238 - accuracy: 0.9910 - val_loss: 0.1770 - val_accuracy: 0.9620\n",
      "Epoch 149/200\n",
      "582/582 [==============================] - 7s 13ms/step - loss: 0.0234 - accuracy: 0.9916 - val_loss: 0.2194 - val_accuracy: 0.9501\n",
      "Epoch 150/200\n",
      "582/582 [==============================] - 7s 13ms/step - loss: 0.0243 - accuracy: 0.9910 - val_loss: 0.1900 - val_accuracy: 0.9610\n",
      "Epoch 151/200\n",
      "582/582 [==============================] - 7s 13ms/step - loss: 0.0234 - accuracy: 0.9915 - val_loss: 0.1741 - val_accuracy: 0.9635\n",
      "Epoch 152/200\n",
      "582/582 [==============================] - 8s 13ms/step - loss: 0.0222 - accuracy: 0.9920 - val_loss: 0.1923 - val_accuracy: 0.9632\n",
      "Epoch 153/200\n",
      "582/582 [==============================] - 7s 13ms/step - loss: 0.0236 - accuracy: 0.9909 - val_loss: 0.1852 - val_accuracy: 0.9634\n",
      "Epoch 154/200\n",
      "582/582 [==============================] - 7s 13ms/step - loss: 0.0229 - accuracy: 0.9916 - val_loss: 0.1812 - val_accuracy: 0.9633\n",
      "Epoch 155/200\n",
      "582/582 [==============================] - 8s 14ms/step - loss: 0.0230 - accuracy: 0.9915 - val_loss: 0.1885 - val_accuracy: 0.9626\n",
      "Epoch 156/200\n",
      "582/582 [==============================] - 8s 14ms/step - loss: 0.0228 - accuracy: 0.9915 - val_loss: 0.2381 - val_accuracy: 0.9584\n",
      "Epoch 157/200\n",
      "582/582 [==============================] - 8s 13ms/step - loss: 0.0228 - accuracy: 0.9916 - val_loss: 0.2022 - val_accuracy: 0.9608\n",
      "Epoch 158/200\n",
      "582/582 [==============================] - 9s 15ms/step - loss: 0.0237 - accuracy: 0.9917 - val_loss: 0.1917 - val_accuracy: 0.9617\n",
      "Epoch 159/200\n",
      "582/582 [==============================] - 9s 15ms/step - loss: 0.0221 - accuracy: 0.9919 - val_loss: 0.2020 - val_accuracy: 0.9601\n",
      "Epoch 160/200\n",
      "582/582 [==============================] - 8s 14ms/step - loss: 0.0228 - accuracy: 0.9916 - val_loss: 0.1923 - val_accuracy: 0.9612\n",
      "Epoch 161/200\n",
      "582/582 [==============================] - 8s 14ms/step - loss: 0.0229 - accuracy: 0.9917 - val_loss: 0.2050 - val_accuracy: 0.9628\n",
      "Epoch 162/200\n",
      "582/582 [==============================] - 8s 13ms/step - loss: 0.0215 - accuracy: 0.9923 - val_loss: 0.1791 - val_accuracy: 0.9657\n",
      "Epoch 163/200\n",
      "582/582 [==============================] - 8s 14ms/step - loss: 0.0222 - accuracy: 0.9915 - val_loss: 0.1796 - val_accuracy: 0.9654\n",
      "Epoch 164/200\n",
      "582/582 [==============================] - 8s 13ms/step - loss: 0.0209 - accuracy: 0.9926 - val_loss: 0.1938 - val_accuracy: 0.9629\n",
      "Epoch 165/200\n",
      "582/582 [==============================] - 8s 13ms/step - loss: 0.0231 - accuracy: 0.9912 - val_loss: 0.1808 - val_accuracy: 0.9635\n",
      "Epoch 166/200\n",
      "582/582 [==============================] - 8s 13ms/step - loss: 0.0215 - accuracy: 0.9921 - val_loss: 0.1756 - val_accuracy: 0.9652\n",
      "Epoch 167/200\n",
      "582/582 [==============================] - 7s 13ms/step - loss: 0.0222 - accuracy: 0.9919 - val_loss: 0.2024 - val_accuracy: 0.9619\n",
      "Epoch 168/200\n",
      "582/582 [==============================] - 7s 12ms/step - loss: 0.0219 - accuracy: 0.9917 - val_loss: 0.1873 - val_accuracy: 0.9642\n",
      "Epoch 169/200\n",
      "582/582 [==============================] - 8s 13ms/step - loss: 0.0210 - accuracy: 0.9924 - val_loss: 0.1927 - val_accuracy: 0.9643\n",
      "Epoch 170/200\n",
      "582/582 [==============================] - 8s 13ms/step - loss: 0.0221 - accuracy: 0.9924 - val_loss: 0.1881 - val_accuracy: 0.9658\n",
      "Epoch 171/200\n",
      "582/582 [==============================] - 8s 13ms/step - loss: 0.0210 - accuracy: 0.9924 - val_loss: 0.1951 - val_accuracy: 0.9637\n",
      "Epoch 172/200\n",
      "582/582 [==============================] - 8s 13ms/step - loss: 0.0221 - accuracy: 0.9923 - val_loss: 0.2244 - val_accuracy: 0.9516\n",
      "Epoch 173/200\n",
      "582/582 [==============================] - 7s 13ms/step - loss: 0.0219 - accuracy: 0.9919 - val_loss: 0.2110 - val_accuracy: 0.9574\n",
      "Epoch 174/200\n",
      "582/582 [==============================] - 7s 13ms/step - loss: 0.0216 - accuracy: 0.9918 - val_loss: 0.1873 - val_accuracy: 0.9627\n",
      "Epoch 175/200\n",
      "582/582 [==============================] - 8s 13ms/step - loss: 0.0209 - accuracy: 0.9920 - val_loss: 0.1894 - val_accuracy: 0.9648\n",
      "Epoch 176/200\n",
      "582/582 [==============================] - 7s 13ms/step - loss: 0.0206 - accuracy: 0.9921 - val_loss: 0.1947 - val_accuracy: 0.9642\n",
      "Epoch 177/200\n",
      "582/582 [==============================] - 8s 13ms/step - loss: 0.0199 - accuracy: 0.9926 - val_loss: 0.1919 - val_accuracy: 0.9625\n",
      "Epoch 178/200\n",
      "582/582 [==============================] - 7s 13ms/step - loss: 0.0221 - accuracy: 0.9919 - val_loss: 0.1907 - val_accuracy: 0.9663\n",
      "Epoch 179/200\n",
      "582/582 [==============================] - 8s 13ms/step - loss: 0.0205 - accuracy: 0.9927 - val_loss: 0.2295 - val_accuracy: 0.9535\n",
      "Epoch 180/200\n",
      "582/582 [==============================] - 7s 13ms/step - loss: 0.0228 - accuracy: 0.9917 - val_loss: 0.1874 - val_accuracy: 0.9648\n",
      "Epoch 181/200\n",
      "582/582 [==============================] - 7s 12ms/step - loss: 0.0187 - accuracy: 0.9931 - val_loss: 0.2253 - val_accuracy: 0.9541\n",
      "Epoch 182/200\n",
      "582/582 [==============================] - 8s 13ms/step - loss: 0.0208 - accuracy: 0.9928 - val_loss: 0.2257 - val_accuracy: 0.9561\n",
      "Epoch 183/200\n",
      "582/582 [==============================] - 7s 13ms/step - loss: 0.0202 - accuracy: 0.9929 - val_loss: 0.1806 - val_accuracy: 0.9652\n",
      "Epoch 184/200\n",
      "582/582 [==============================] - 8s 13ms/step - loss: 0.0211 - accuracy: 0.9920 - val_loss: 0.1960 - val_accuracy: 0.9638\n",
      "Epoch 185/200\n",
      "582/582 [==============================] - 7s 13ms/step - loss: 0.0194 - accuracy: 0.9931 - val_loss: 0.1936 - val_accuracy: 0.9644\n",
      "Epoch 186/200\n",
      "582/582 [==============================] - 7s 12ms/step - loss: 0.0197 - accuracy: 0.9924 - val_loss: 0.1895 - val_accuracy: 0.9638\n",
      "Epoch 187/200\n",
      "582/582 [==============================] - 7s 13ms/step - loss: 0.0205 - accuracy: 0.9928 - val_loss: 0.2035 - val_accuracy: 0.9600\n",
      "Epoch 188/200\n",
      "582/582 [==============================] - 7s 12ms/step - loss: 0.0198 - accuracy: 0.9929 - val_loss: 0.1948 - val_accuracy: 0.9646\n",
      "Epoch 189/200\n",
      "582/582 [==============================] - 7s 13ms/step - loss: 0.0203 - accuracy: 0.9926 - val_loss: 0.1894 - val_accuracy: 0.9642\n",
      "Epoch 190/200\n",
      "582/582 [==============================] - 7s 12ms/step - loss: 0.0210 - accuracy: 0.9925 - val_loss: 0.1961 - val_accuracy: 0.9643\n",
      "Epoch 191/200\n",
      "582/582 [==============================] - 7s 13ms/step - loss: 0.0187 - accuracy: 0.9931 - val_loss: 0.1955 - val_accuracy: 0.9660\n",
      "Epoch 192/200\n",
      "582/582 [==============================] - 7s 12ms/step - loss: 0.0186 - accuracy: 0.9937 - val_loss: 0.2311 - val_accuracy: 0.9560\n",
      "Epoch 193/200\n",
      "582/582 [==============================] - 7s 12ms/step - loss: 0.0209 - accuracy: 0.9922 - val_loss: 0.1892 - val_accuracy: 0.9669\n",
      "Epoch 194/200\n",
      "582/582 [==============================] - 7s 12ms/step - loss: 0.0201 - accuracy: 0.9929 - val_loss: 0.2399 - val_accuracy: 0.9507\n",
      "Epoch 195/200\n",
      "582/582 [==============================] - 7s 13ms/step - loss: 0.0196 - accuracy: 0.9929 - val_loss: 0.1968 - val_accuracy: 0.9627\n",
      "Epoch 196/200\n",
      "582/582 [==============================] - 7s 13ms/step - loss: 0.0194 - accuracy: 0.9924 - val_loss: 0.2251 - val_accuracy: 0.9612\n",
      "Epoch 197/200\n",
      "582/582 [==============================] - 8s 14ms/step - loss: 0.0193 - accuracy: 0.9929 - val_loss: 0.1935 - val_accuracy: 0.9645\n",
      "Epoch 198/200\n",
      "582/582 [==============================] - 8s 14ms/step - loss: 0.0186 - accuracy: 0.9931 - val_loss: 0.1901 - val_accuracy: 0.9632\n",
      "Epoch 199/200\n",
      "582/582 [==============================] - 8s 13ms/step - loss: 0.0209 - accuracy: 0.9924 - val_loss: 0.2430 - val_accuracy: 0.9559\n",
      "Epoch 200/200\n",
      "582/582 [==============================] - 8s 14ms/step - loss: 0.0208 - accuracy: 0.9923 - val_loss: 0.1860 - val_accuracy: 0.9662\n"
     ]
    }
   ],
   "source": [
    "model.compile('adam',loss=tf.keras.losses.BinaryCrossentropy(),metrics=['accuracy']) #this was with validation\n",
    "history=model.fit(x_train,y_train,batch_size=128,epochs=200,verbose=True,validation_split=0.2)"
   ]
  },
  {
   "cell_type": "code",
   "execution_count": 13,
   "metadata": {
    "collapsed": false
   },
   "outputs": [
    {
     "data": {
      "text/plain": [
       "<matplotlib.legend.Legend at 0x20a2c59ae00>"
      ]
     },
     "execution_count": 13,
     "metadata": {},
     "output_type": "execute_result"
    },
    {
     "data": {
      "image/png": "[encoded data removed]",
      "text/plain": [
       "<Figure size 640x480 with 2 Axes>"
      ]
     },
     "metadata": {},
     "output_type": "display_data"
    }
   ],
   "source": [
    "fig, ax = plt.subplots(2,sharex=True)\n",
    "ax[0].set_title(\"Accuracy\")\n",
    "ax[0].plot(history.epoch, history.history['accuracy'],label='Train');\n",
    "ax[0].plot(history.epoch, history.history['val_accuracy'],label='Validation');\n",
    "ax[0].legend()\n",
    "ax[1].set_title(\"Loss\")\n",
    "ax[1].plot(history.epoch, history.history['loss'],label='Train');\n",
    "ax[1].plot(history.epoch, history.history['val_loss'],label='Validation');\n",
    "ax[1].legend()"
   ]
  },
  {
   "cell_type": "code",
   "execution_count": 14,
   "metadata": {
    "collapsed": false
   },
   "outputs": [
    {
     "name": "stdout",
     "output_type": "stream",
     "text": [
      "969/969 [==============================] - 3s 3ms/step - loss: 0.1879 - accuracy: 0.9663\n"
     ]
    },
    {
     "data": {
      "text/plain": [
       "[0.18794821202754974, 0.9663226008415222]"
      ]
     },
     "execution_count": 14,
     "metadata": {},
     "output_type": "execute_result"
    }
   ],
   "source": [
    "model.evaluate(x_test, y_test, verbose=True)"
   ]
  },
  {
   "cell_type": "code",
   "execution_count": 15,
   "metadata": {},
   "outputs": [
    {
     "name": "stdout",
     "output_type": "stream",
     "text": [
      "969/969 [==============================] - 2s 2ms/step\n",
      "              precision    recall  f1-score   support\n",
      "\n",
      "         0.0       0.98      0.98      0.98     23586\n",
      "         1.0       0.93      0.92      0.93      7414\n",
      "\n",
      "    accuracy                           0.97     31000\n",
      "   macro avg       0.96      0.95      0.95     31000\n",
      "weighted avg       0.97      0.97      0.97     31000\n",
      "\n"
     ]
    }
   ],
   "source": [
    "from sklearn.metrics import classification_report\n",
    "y_pred = model.predict(x_test)\n",
    "y_pred = np.round(y_pred)\n",
    "\n",
    "print(classification_report(y_test, y_pred))"
   ]
  }
 ],
 "metadata": {
  "kernelspec": {
   "display_name": "Python 3",
   "language": "python",
   "name": "python3"
  },
  "language_info": {
   "codemirror_mode": {
    "name": "ipython",
    "version": 3
   },
   "file_extension": ".py",
   "mimetype": "text/x-python",
   "name": "python",
   "nbconvert_exporter": "python",
   "pygments_lexer": "ipython3",
   "version": "3.10.0"
  },
  "vscode": {
   "interpreter": {
    "hash": "369f2c481f4da34e4445cda3fffd2e751bd1c4d706f27375911949ba6bb62e1c"
   }
  }
 },
 "nbformat": 4,
 "nbformat_minor": 0
}
