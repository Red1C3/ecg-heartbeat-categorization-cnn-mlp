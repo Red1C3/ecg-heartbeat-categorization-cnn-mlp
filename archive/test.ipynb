{
 "cells": [
  {
   "cell_type": "code",
   "execution_count": 1,
   "metadata": {
    "collapsed": true
   },
   "outputs": [],
   "source": [
    "import pandas as pd\n",
    "import tensorflow as tf\n",
    "import tensorflow.keras.layers as layers\n",
    "import matplotlib.pyplot as plt\n",
    "import numpy as np\n",
    "from imblearn.over_sampling import SMOTE"
   ]
  },
  {
   "cell_type": "code",
   "execution_count": 2,
   "metadata": {
    "collapsed": false
   },
   "outputs": [],
   "source": [
    "#The dataset contains no header for columns, hence the header parameter\n",
    "train=pd.read_csv('./mitbih_train.csv',header=None)\n",
    "test=pd.read_csv('./mitbih_test.csv',header=None)"
   ]
  },
  {
   "cell_type": "code",
   "execution_count": 3,
   "metadata": {
    "collapsed": false
   },
   "outputs": [],
   "source": [
    "#Last column is the category column, a scaler value from 0 to 4\n",
    "y_train=train[train.columns[-1:]]\n",
    "x_train=train[train.columns[:-1]]\n",
    "y_test=test[test.columns[-1:]]\n",
    "x_test=test[test.columns[:-1]]"
   ]
  },
  {
   "cell_type": "code",
   "execution_count": 4,
   "metadata": {},
   "outputs": [
    {
     "name": "stdout",
     "output_type": "stream",
     "text": [
      "72471\n",
      "2223\n",
      "5788\n",
      "641\n",
      "6431\n"
     ]
    }
   ],
   "source": [
    "print(len(y_train[y_train[187] ==0 ]))\n",
    "print(len(y_train[y_train[187] ==1 ]))\n",
    "print(len(y_train[y_train[187] ==2 ]))\n",
    "print(len(y_train[y_train[187] ==3 ]))\n",
    "print(len(y_train[y_train[187] ==4 ]))"
   ]
  },
  {
   "cell_type": "code",
   "execution_count": 5,
   "metadata": {
    "collapsed": false
   },
   "outputs": [],
   "source": [
    "y_train=y_train.to_numpy()\n",
    "x_train=x_train.to_numpy()\n",
    "#Change the value to only use a subset of the dataset (like for quick tests...)\n",
    "x_train=x_train[:362355][:][:]\n",
    "y_train=y_train[:362355][:]\n",
    "#Add data dimension, doesn't actually change the data but that's how the input is expected, like it could have multiple values per timestamp\n",
    "x_train=x_train.reshape([-1,187,1])"
   ]
  },
  {
   "cell_type": "code",
   "execution_count": 6,
   "metadata": {
    "collapsed": false
   },
   "outputs": [],
   "source": [
    "y_test=y_test.to_numpy()\n",
    "x_test=x_test.to_numpy()\n",
    "#Change the value to only use a subset of the dataset (like for quick tests...)\n",
    "x_test=x_test[:362355][:][:]\n",
    "y_test=y_test[:362355][:]\n",
    "#Add data dimension, doesn't actually change the data but that's how the input is expected, like it could have multiple values per timestamp\n",
    "x_test=x_test.reshape([-1,187,1])"
   ]
  },
  {
   "cell_type": "code",
   "execution_count": 7,
   "metadata": {
    "collapsed": false
   },
   "outputs": [],
   "source": [
    "model=tf.keras.Sequential([\n",
    "    layers.Conv1D(7, 7, activation='relu', input_shape=(187,1)),\n",
    "    layers.BatchNormalization(),\n",
    "    layers.MaxPool1D(),\n",
    "    layers.Conv1D(5,5,activation='relu'),\n",
    "    layers.BatchNormalization(),\n",
    "    layers.MaxPool1D(),\n",
    "    layers.Conv1D(3,3,activation='relu'),\n",
    "    layers.BatchNormalization(),\n",
    "    layers.MaxPool1D(),\n",
    "    layers.Flatten(),\n",
    "    layers.Dense(64,activation='relu'),\n",
    "    layers.Dense(32,activation='relu'),\n",
    "    layers.Dense(5,activation='softmax') #softmax cuz categories\n",
    "])"
   ]
  },
  {
   "cell_type": "code",
   "execution_count": 8,
   "metadata": {
    "collapsed": false
   },
   "outputs": [
    {
     "name": "stdout",
     "output_type": "stream",
     "text": [
      "Epoch 1/15\n",
      "88/88 [==============================] - 9s 81ms/step - loss: 0.7380 - accuracy: 0.7504\n",
      "Epoch 2/15\n",
      "88/88 [==============================] - 7s 80ms/step - loss: 0.3498 - accuracy: 0.8922\n",
      "Epoch 3/15\n",
      "88/88 [==============================] - 8s 87ms/step - loss: 0.2510 - accuracy: 0.9244\n",
      "Epoch 4/15\n",
      "88/88 [==============================] - 8s 85ms/step - loss: 0.2006 - accuracy: 0.9425\n",
      "Epoch 5/15\n",
      "88/88 [==============================] - 8s 87ms/step - loss: 0.1709 - accuracy: 0.9515\n",
      "Epoch 6/15\n",
      "88/88 [==============================] - 6s 65ms/step - loss: 0.1526 - accuracy: 0.9569\n",
      "Epoch 7/15\n",
      "88/88 [==============================] - 6s 63ms/step - loss: 0.1393 - accuracy: 0.9610\n",
      "Epoch 8/15\n",
      "88/88 [==============================] - 6s 63ms/step - loss: 0.1301 - accuracy: 0.9637\n",
      "Epoch 9/15\n",
      "88/88 [==============================] - 6s 63ms/step - loss: 0.1225 - accuracy: 0.9662\n",
      "Epoch 10/15\n",
      "88/88 [==============================] - 6s 64ms/step - loss: 0.1158 - accuracy: 0.9681\n",
      "Epoch 11/15\n",
      "88/88 [==============================] - 6s 63ms/step - loss: 0.1097 - accuracy: 0.9697\n",
      "Epoch 12/15\n",
      "88/88 [==============================] - 6s 65ms/step - loss: 0.1041 - accuracy: 0.9709\n",
      "Epoch 13/15\n",
      "88/88 [==============================] - 6s 65ms/step - loss: 0.0993 - accuracy: 0.9721\n",
      "Epoch 14/15\n",
      "88/88 [==============================] - 6s 64ms/step - loss: 0.0958 - accuracy: 0.9730\n",
      "Epoch 15/15\n",
      "88/88 [==============================] - 6s 65ms/step - loss: 0.0916 - accuracy: 0.9736\n"
     ]
    }
   ],
   "source": [
    "model.compile('adam','sparse_categorical_crossentropy',metrics=['accuracy']) #this was with validation\n",
    "history=model.fit(x_train,y_train,batch_size=1000,epochs=15,verbose=True)"
   ]
  },
  {
   "cell_type": "code",
   "execution_count": 9,
   "metadata": {
    "collapsed": false
   },
   "outputs": [
    {
     "data": {
      "text/plain": [
       "<matplotlib.legend.Legend at 0x20723e78310>"
      ]
     },
     "execution_count": 9,
     "metadata": {},
     "output_type": "execute_result"
    },
    {
     "data": {
      "image/png": "[encoded data removed]",
      "text/plain": [
       "<Figure size 640x480 with 2 Axes>"
      ]
     },
     "metadata": {},
     "output_type": "display_data"
    }
   ],
   "source": [
    "fig, ax = plt.subplots(2,sharex=True)\n",
    "ax[0].set_title(\"Accuracy\")\n",
    "ax[0].plot(history.epoch, history.history['accuracy'],label='Train');\n",
    "# ax[0].plot(history.epoch, history.history['val_accuracy'],label='Validation');\n",
    "ax[0].legend()\n",
    "ax[1].set_title(\"Loss\")\n",
    "ax[1].plot(history.epoch, history.history['loss'],label='Train');\n",
    "# ax[1].plot(history.epoch, history.history['val_loss'],label='Validation');\n",
    "ax[1].legend()"
   ]
  },
  {
   "cell_type": "code",
   "execution_count": 10,
   "metadata": {
    "collapsed": false
   },
   "outputs": [
    {
     "name": "stdout",
     "output_type": "stream",
     "text": [
      "685/685 [==============================] - 2s 2ms/step - loss: 0.1124 - accuracy: 0.9699\n"
     ]
    },
    {
     "data": {
      "text/plain": [
       "[0.11235596239566803, 0.9698520302772522]"
      ]
     },
     "execution_count": 10,
     "metadata": {},
     "output_type": "execute_result"
    }
   ],
   "source": [
    "model.evaluate(x_test, y_test, verbose=True)"
   ]
  },
  {
   "cell_type": "code",
   "execution_count": 12,
   "metadata": {},
   "outputs": [
    {
     "name": "stdout",
     "output_type": "stream",
     "text": [
      "685/685 [==============================] - 2s 2ms/step\n",
      "              precision    recall  f1-score   support\n",
      "\n",
      "         0.0       0.98      0.99      0.98     18118\n",
      "         1.0       0.90      0.59      0.71       556\n",
      "         2.0       0.89      0.91      0.90      1448\n",
      "         3.0       0.74      0.60      0.66       162\n",
      "         4.0       0.97      0.96      0.97      1608\n",
      "\n",
      "    accuracy                           0.97     21892\n",
      "   macro avg       0.90      0.81      0.85     21892\n",
      "weighted avg       0.97      0.97      0.97     21892\n",
      "\n"
     ]
    }
   ],
   "source": [
    "from sklearn.metrics import classification_report\n",
    "y_pred = model.predict(x_test)\n",
    "y_pred = np.argmax(y_pred, axis=1)\n",
    "\n",
    "print(classification_report(y_test, y_pred))"
   ]
  }
 ],
 "metadata": {
  "kernelspec": {
   "display_name": "Python 3",
   "language": "python",
   "name": "python3"
  },
  "language_info": {
   "codemirror_mode": {
    "name": "ipython",
    "version": 3
   },
   "file_extension": ".py",
   "mimetype": "text/x-python",
   "name": "python",
   "nbconvert_exporter": "python",
   "pygments_lexer": "ipython3",
   "version": "3.10.0"
  },
  "vscode": {
   "interpreter": {
    "hash": "369f2c481f4da34e4445cda3fffd2e751bd1c4d706f27375911949ba6bb62e1c"
   }
  }
 },
 "nbformat": 4,
 "nbformat_minor": 0
}
