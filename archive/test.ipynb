{
 "cells": [
  {
   "cell_type": "code",
   "execution_count": 1,
   "metadata": {
    "collapsed": true
   },
   "outputs": [],
   "source": [
    "import pandas as pd\n",
    "import tensorflow as tf\n",
    "import tensorflow.keras.layers as layers\n",
    "import matplotlib.pyplot as plt\n",
    "import numpy as np\n",
    "from imblearn.over_sampling import SMOTE"
   ]
  },
  {
   "cell_type": "code",
   "execution_count": 2,
   "metadata": {
    "collapsed": false
   },
   "outputs": [],
   "source": [
    "#The dataset contains no header for columns, hence the header parameter\n",
    "train=pd.read_csv('./mitbih_train.csv',header=None)\n",
    "test=pd.read_csv('./mitbih_test.csv',header=None)"
   ]
  },
  {
   "cell_type": "code",
   "execution_count": 3,
   "metadata": {
    "collapsed": false
   },
   "outputs": [],
   "source": [
    "#Last column is the category column, a scaler value from 0 to 4\n",
    "y_train=train[train.columns[-1:]]\n",
    "x_train=train[train.columns[:-1]]\n",
    "y_test=test[test.columns[-1:]]\n",
    "x_test=test[test.columns[:-1]]"
   ]
  },
  {
   "cell_type": "code",
   "execution_count": 4,
   "metadata": {},
   "outputs": [
    {
     "name": "stdout",
     "output_type": "stream",
     "text": [
      "72471\n",
      "2223\n",
      "5788\n",
      "641\n",
      "6431\n"
     ]
    }
   ],
   "source": [
    "print(len(y_train[y_train[187] ==0 ]))\n",
    "print(len(y_train[y_train[187] ==1 ]))\n",
    "print(len(y_train[y_train[187] ==2 ]))\n",
    "print(len(y_train[y_train[187] ==3 ]))\n",
    "print(len(y_train[y_train[187] ==4 ]))"
   ]
  },
  {
   "cell_type": "code",
   "execution_count": 5,
   "metadata": {},
   "outputs": [],
   "source": [
    "# Balances the dataset by oversampling it (it seems like it uses interpolation)\n",
    "# https://machinelearningmastery.com/smote-oversampling-for-imbalanced-classification/\n",
    "oversampler=SMOTE()\n",
    "x_train,y_train=oversampler.fit_resample(x_train,y_train)"
   ]
  },
  {
   "cell_type": "code",
   "execution_count": 6,
   "metadata": {},
   "outputs": [
    {
     "name": "stdout",
     "output_type": "stream",
     "text": [
      "72471\n",
      "72471\n",
      "72471\n",
      "72471\n",
      "72471\n"
     ]
    }
   ],
   "source": [
    "print(len(y_train[y_train[187] ==0 ]))\n",
    "print(len(y_train[y_train[187] ==1 ]))\n",
    "print(len(y_train[y_train[187] ==2 ]))\n",
    "print(len(y_train[y_train[187] ==3 ]))\n",
    "print(len(y_train[y_train[187] ==4 ]))"
   ]
  },
  {
   "cell_type": "code",
   "execution_count": 7,
   "metadata": {
    "collapsed": false
   },
   "outputs": [],
   "source": [
    "y_train=y_train.to_numpy()\n",
    "x_train=x_train.to_numpy()\n",
    "#Change the value to only use a subset of the dataset (like for quick tests...)\n",
    "x_train=x_train[:362355][:][:]\n",
    "y_train=y_train[:362355][:]\n",
    "#Add data dimension, doesn't actually change the data but that's how the input is expected, like it could have multiple values per timestamp\n",
    "x_train=x_train.reshape([-1,187,1])"
   ]
  },
  {
   "cell_type": "code",
   "execution_count": 8,
   "metadata": {
    "collapsed": false
   },
   "outputs": [],
   "source": [
    "y_test=y_test.to_numpy()\n",
    "x_test=x_test.to_numpy()\n",
    "#Change the value to only use a subset of the dataset (like for quick tests...)\n",
    "x_test=x_test[:362355][:][:]\n",
    "y_test=y_test[:362355][:]\n",
    "#Add data dimension, doesn't actually change the data but that's how the input is expected, like it could have multiple values per timestamp\n",
    "x_test=x_test.reshape([-1,187,1])"
   ]
  },
  {
   "cell_type": "code",
   "execution_count": 9,
   "metadata": {
    "collapsed": false
   },
   "outputs": [],
   "source": [
    "model=tf.keras.Sequential([\n",
    "    layers.Conv1D(7, 7, activation='relu', input_shape=(187,1)),\n",
    "    layers.BatchNormalization(),\n",
    "    layers.MaxPool1D(),\n",
    "    layers.Conv1D(5,5,activation='relu'),\n",
    "    layers.BatchNormalization(),\n",
    "    layers.MaxPool1D(),\n",
    "    layers.Conv1D(3,3,activation='relu'),\n",
    "    layers.BatchNormalization(),\n",
    "    layers.MaxPool1D(),\n",
    "    layers.Flatten(),\n",
    "    layers.Dense(64,activation='relu'),\n",
    "    layers.Dense(32,activation='relu'),\n",
    "    layers.Dense(5,activation='softmax') #softmax cuz categories\n",
    "])"
   ]
  },
  {
   "cell_type": "code",
   "execution_count": 12,
   "metadata": {
    "collapsed": false
   },
   "outputs": [
    {
     "name": "stdout",
     "output_type": "stream",
     "text": [
      "Epoch 1/15\n",
      "363/363 [==============================] - 35s 93ms/step - loss: 0.2430 - accuracy: 0.9167\n",
      "Epoch 2/15\n",
      "363/363 [==============================] - 33s 91ms/step - loss: 0.1543 - accuracy: 0.9497\n",
      "Epoch 3/15\n",
      "363/363 [==============================] - 40s 111ms/step - loss: 0.1179 - accuracy: 0.9622\n",
      "Epoch 4/15\n",
      "363/363 [==============================] - 40s 111ms/step - loss: 0.0990 - accuracy: 0.9684\n",
      "Epoch 5/15\n",
      "363/363 [==============================] - 40s 110ms/step - loss: 0.0869 - accuracy: 0.9724\n",
      "Epoch 6/15\n",
      "363/363 [==============================] - 33s 90ms/step - loss: 0.0782 - accuracy: 0.9754\n",
      "Epoch 7/15\n",
      "363/363 [==============================] - 29s 79ms/step - loss: 0.0719 - accuracy: 0.9774\n",
      "Epoch 8/15\n",
      "363/363 [==============================] - 35s 96ms/step - loss: 0.0666 - accuracy: 0.9787\n",
      "Epoch 9/15\n",
      "363/363 [==============================] - 42s 116ms/step - loss: 0.0620 - accuracy: 0.9806\n",
      "Epoch 10/15\n",
      "363/363 [==============================] - 38s 104ms/step - loss: 0.0584 - accuracy: 0.9816\n",
      "Epoch 11/15\n",
      "363/363 [==============================] - 44s 121ms/step - loss: 0.0553 - accuracy: 0.9827\n",
      "Epoch 12/15\n",
      "363/363 [==============================] - 37s 100ms/step - loss: 0.0526 - accuracy: 0.9836\n",
      "Epoch 13/15\n",
      "363/363 [==============================] - 34s 93ms/step - loss: 0.0502 - accuracy: 0.9843\n",
      "Epoch 14/15\n",
      "363/363 [==============================] - 36s 100ms/step - loss: 0.0478 - accuracy: 0.9852\n",
      "Epoch 15/15\n",
      "363/363 [==============================] - 35s 96ms/step - loss: 0.0463 - accuracy: 0.9855\n"
     ]
    }
   ],
   "source": [
    "model.compile('adam','sparse_categorical_crossentropy',metrics=['accuracy']) #this was with validation\n",
    "history=model.fit(x_train,y_train,batch_size=1000,epochs=15,verbose=True)"
   ]
  },
  {
   "cell_type": "code",
   "execution_count": 14,
   "metadata": {
    "collapsed": false
   },
   "outputs": [
    {
     "data": {
      "text/plain": [
       "<matplotlib.legend.Legend at 0x250a02ead40>"
      ]
     },
     "execution_count": 14,
     "metadata": {},
     "output_type": "execute_result"
    },
    {
     "data": {
      "image/png": "[encoded data removed]",
      "text/plain": [
       "<Figure size 640x480 with 2 Axes>"
      ]
     },
     "metadata": {},
     "output_type": "display_data"
    }
   ],
   "source": [
    "fig, ax = plt.subplots(2,sharex=True)\n",
    "ax[0].set_title(\"Accuracy\")\n",
    "ax[0].plot(history.epoch, history.history['accuracy'],label='Train');\n",
    "# ax[0].plot(history.epoch, history.history['val_accuracy'],label='Validation');\n",
    "ax[0].legend()\n",
    "ax[1].set_title(\"Loss\")\n",
    "ax[1].plot(history.epoch, history.history['loss'],label='Train');\n",
    "# ax[1].plot(history.epoch, history.history['val_loss'],label='Validation');\n",
    "ax[1].legend()"
   ]
  },
  {
   "cell_type": "code",
   "execution_count": 15,
   "metadata": {
    "collapsed": false
   },
   "outputs": [
    {
     "name": "stdout",
     "output_type": "stream",
     "text": [
      "685/685 [==============================] - 5s 7ms/step - loss: 0.1644 - accuracy: 0.9572\n"
     ]
    },
    {
     "data": {
      "text/plain": [
       "[0.1644069105386734, 0.9572446346282959]"
      ]
     },
     "execution_count": 15,
     "metadata": {},
     "output_type": "execute_result"
    }
   ],
   "source": [
    "model.evaluate(x_test, y_test, verbose=True)"
   ]
  }
 ],
 "metadata": {
  "kernelspec": {
   "display_name": "Python 3",
   "language": "python",
   "name": "python3"
  },
  "language_info": {
   "codemirror_mode": {
    "name": "ipython",
    "version": 3
   },
   "file_extension": ".py",
   "mimetype": "text/x-python",
   "name": "python",
   "nbconvert_exporter": "python",
   "pygments_lexer": "ipython3",
   "version": "3.10.0"
  },
  "vscode": {
   "interpreter": {
    "hash": "369f2c481f4da34e4445cda3fffd2e751bd1c4d706f27375911949ba6bb62e1c"
   }
  }
 },
 "nbformat": 4,
 "nbformat_minor": 0
}
