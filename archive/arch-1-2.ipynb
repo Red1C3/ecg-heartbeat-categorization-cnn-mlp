{
 "cells": [
  {
   "cell_type": "markdown",
   "source": [
    "arch-1 ideal epochs count = 15 , but without any regularization, training acc is still improving but testing starts to go down"
   ],
   "metadata": {
    "collapsed": false
   }
  },
  {
   "cell_type": "code",
   "execution_count": 12,
   "metadata": {
    "collapsed": true
   },
   "outputs": [],
   "source": [
    "import pandas as pd\n",
    "import tensorflow as tf\n",
    "import tensorflow.keras.layers as layers\n",
    "import matplotlib.pyplot as plt\n",
    "import numpy as np\n",
    "from imblearn.over_sampling import SMOTE"
   ]
  },
  {
   "cell_type": "code",
   "execution_count": 13,
   "metadata": {
    "collapsed": false
   },
   "outputs": [],
   "source": [
    "#The dataset contains no header for columns, hence the header parameter\n",
    "dataframe=pd.read_csv('./mitbih_train.csv',header=None)"
   ]
  },
  {
   "cell_type": "code",
   "execution_count": 14,
   "metadata": {
    "collapsed": false
   },
   "outputs": [],
   "source": [
    "#Last column is the category column, a scaler value from 0 to 4\n",
    "y=dataframe[dataframe.columns[-1:]]\n",
    "x=dataframe[dataframe.columns[:-1]]"
   ]
  },
  {
   "cell_type": "code",
   "execution_count": 15,
   "metadata": {},
   "outputs": [],
   "source": [
    "# Balances the dataset by oversampling it (it seems like it uses interpolation)\n",
    "# https://machinelearningmastery.com/smote-oversampling-for-imbalanced-classification/\n",
    "oversampler=SMOTE()\n",
    "x,y=oversampler.fit_resample(x,y)"
   ]
  },
  {
   "cell_type": "code",
   "execution_count": 16,
   "metadata": {
    "collapsed": false
   },
   "outputs": [],
   "source": [
    "y=y.to_numpy()"
   ]
  },
  {
   "cell_type": "code",
   "execution_count": 17,
   "metadata": {
    "collapsed": false
   },
   "outputs": [],
   "source": [
    "x=x.to_numpy()"
   ]
  },
  {
   "cell_type": "code",
   "execution_count": 18,
   "metadata": {
    "collapsed": false
   },
   "outputs": [],
   "source": [
    "#Change the value to only use a subset of the dataset (like for quick tests...)\n",
    "x=x[:362355][:][:]\n",
    "y=y[:362355][:]\n",
    "#Add data dimension, doesn't actually change the data but that's how the input is expected, like it could have multiple values per timestamp\n",
    "x=x.reshape([362355,187,1])"
   ]
  },
  {
   "cell_type": "code",
   "execution_count": 19,
   "metadata": {
    "collapsed": false
   },
   "outputs": [],
   "source": [
    "model=tf.keras.Sequential(\n",
    "    [layers.Conv1D(7, 7, activation='relu', input_shape=(187,1)),\n",
    "    layers.BatchNormalization(),\n",
    "    layers.MaxPool1D(),\n",
    "    layers.Conv1D(5,5,activation='relu'),\n",
    "     layers.BatchNormalization(),\n",
    "    layers.MaxPool1D(),\n",
    "     layers.Conv1D(3,3,activation='relu'),\n",
    "     layers.BatchNormalization(),\n",
    "     layers.MaxPool1D(),\n",
    "    layers.Flatten(),\n",
    "     layers.Dense(64,activation='relu'),\n",
    "     layers.Dense(32,activation='relu'),\n",
    "    layers.Dense(5,activation='softmax')] #softmax cuz categories\n",
    ")"
   ]
  },
  {
   "cell_type": "code",
   "execution_count": 20,
   "metadata": {
    "collapsed": false
   },
   "outputs": [
    {
     "name": "stderr",
     "output_type": "stream",
     "text": [
      "2022-12-28 21:26:40.640475: W tensorflow/core/framework/cpu_allocator_impl.cc:80] Allocation of 271041540 exceeds 10% of free system memory.\n"
     ]
    },
    {
     "name": "stdout",
     "output_type": "stream",
     "text": [
      "Epoch 1/17\n",
      "363/363 [==============================] - 22s 45ms/step - loss: 0.8373 - accuracy: 0.6764\n",
      "Epoch 2/17\n",
      "363/363 [==============================] - 16s 45ms/step - loss: 0.2465 - accuracy: 0.9135\n",
      "Epoch 3/17\n",
      "363/363 [==============================] - 16s 45ms/step - loss: 0.1721 - accuracy: 0.9414\n",
      "Epoch 4/17\n",
      "363/363 [==============================] - 16s 44ms/step - loss: 0.1368 - accuracy: 0.9543\n",
      "Epoch 5/17\n",
      "363/363 [==============================] - 16s 45ms/step - loss: 0.1146 - accuracy: 0.9624\n",
      "Epoch 6/17\n",
      "363/363 [==============================] - 16s 44ms/step - loss: 0.1026 - accuracy: 0.9661\n",
      "Epoch 7/17\n",
      "363/363 [==============================] - 16s 44ms/step - loss: 0.0913 - accuracy: 0.9699\n",
      "Epoch 8/17\n",
      "363/363 [==============================] - 16s 45ms/step - loss: 0.0829 - accuracy: 0.9731\n",
      "Epoch 9/17\n",
      "363/363 [==============================] - 16s 45ms/step - loss: 0.0782 - accuracy: 0.9751\n",
      "Epoch 10/17\n",
      "363/363 [==============================] - 16s 44ms/step - loss: 0.0710 - accuracy: 0.9774\n",
      "Epoch 11/17\n",
      "363/363 [==============================] - 16s 44ms/step - loss: 0.0683 - accuracy: 0.9779\n",
      "Epoch 12/17\n",
      "363/363 [==============================] - 16s 44ms/step - loss: 0.0641 - accuracy: 0.9793\n",
      "Epoch 13/17\n",
      "363/363 [==============================] - 16s 44ms/step - loss: 0.0613 - accuracy: 0.9806\n",
      "Epoch 14/17\n",
      "363/363 [==============================] - 16s 44ms/step - loss: 0.0581 - accuracy: 0.9816\n",
      "Epoch 15/17\n",
      "363/363 [==============================] - 16s 44ms/step - loss: 0.0556 - accuracy: 0.9822\n",
      "Epoch 16/17\n",
      "363/363 [==============================] - 16s 44ms/step - loss: 0.0518 - accuracy: 0.9834\n",
      "Epoch 17/17\n",
      "363/363 [==============================] - 16s 44ms/step - loss: 0.0520 - accuracy: 0.9835\n"
     ]
    }
   ],
   "source": [
    "model.compile('adam','sparse_categorical_crossentropy',metrics=['accuracy']) #this was with validation\n",
    "history=model.fit(x,y,batch_size=1000,epochs=15,verbose=True)"
   ]
  },
  {
   "cell_type": "code",
   "execution_count": 21,
   "metadata": {
    "collapsed": false
   },
   "outputs": [
    {
     "data": {
      "text/plain": "<matplotlib.legend.Legend at 0x7f5a99389940>"
     },
     "execution_count": 21,
     "metadata": {},
     "output_type": "execute_result"
    },
    {
     "data": {
      "text/plain": "<Figure size 640x480 with 1 Axes>",
      "image/png": "[encoded data removed]"
     },
     "metadata": {},
     "output_type": "display_data"
    }
   ],
   "source": [
    "fig, ax = plt.subplots()  # Create a figure containing a single axes.\n",
    "ax.plot(history.epoch, history.history['accuracy'],label='accuracy');\n",
    "ax.legend()"
   ]
  },
  {
   "cell_type": "code",
   "execution_count": 22,
   "outputs": [
    {
     "name": "stderr",
     "output_type": "stream",
     "text": [
      "2022-12-28 21:31:25.843571: W tensorflow/core/framework/cpu_allocator_impl.cc:80] Allocation of 16375216 exceeds 10% of free system memory.\n"
     ]
    },
    {
     "name": "stdout",
     "output_type": "stream",
     "text": [
      "44/44 [==============================] - 1s 10ms/step - loss: 0.1014 - accuracy: 0.9653\n"
     ]
    },
    {
     "data": {
      "text/plain": "[0.10137154161930084, 0.9652841091156006]"
     },
     "execution_count": 22,
     "metadata": {},
     "output_type": "execute_result"
    }
   ],
   "source": [
    "pd.read_csv('./mitbih_test.csv', header=None)\n",
    "y = dataframe[dataframe.columns[-1:]]\n",
    "x = dataframe[dataframe.columns[:-1]]\n",
    "y = y.to_numpy()\n",
    "\n",
    "x = x.to_numpy()\n",
    "\n",
    "x = x[:21892][:][:]\n",
    "y = y[:21892][:]\n",
    "x = x.reshape([21892, 187, 1])\n",
    "history.model.evaluate(x, y, batch_size=500, verbose=True)"
   ],
   "metadata": {
    "collapsed": false
   }
  }
 ],
 "metadata": {
  "kernelspec": {
   "display_name": "tf-gpu",
   "language": "python",
   "name": "python3"
  },
  "language_info": {
   "codemirror_mode": {
    "name": "ipython",
    "version": 3
   },
   "file_extension": ".py",
   "mimetype": "text/x-python",
   "name": "python",
   "nbconvert_exporter": "python",
   "pygments_lexer": "ipython3",
   "version": "3.9.15"
  },
  "vscode": {
   "interpreter": {
    "hash": "0b5916d98285d7f9256b24e73be44c1954c1d35b1fc6eb84af81e3fe0ccc5dea"
   }
  }
 },
 "nbformat": 4,
 "nbformat_minor": 0
}
