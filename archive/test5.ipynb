{
 "cells": [
  {
   "cell_type": "code",
   "execution_count": 1,
   "metadata": {
    "collapsed": true
   },
   "outputs": [],
   "source": [
    "import pandas as pd\n",
    "import tensorflow as tf\n",
    "import tensorflow.keras.layers as layers\n",
    "import matplotlib.pyplot as plt\n",
    "import numpy as np\n",
    "from sklearn.model_selection import train_test_split"
   ]
  },
  {
   "cell_type": "code",
   "execution_count": 2,
   "metadata": {
    "collapsed": false
   },
   "outputs": [],
   "source": [
    "#The dataset contains no header for columns, hence the header parameter\n",
    "data1_abnor=pd.read_csv('./ptbdb_abnormal.csv',header=None)\n",
    "data1_nor=pd.read_csv('./ptbdb_normal.csv',header=None)\n",
    "data2_train=pd.read_csv('./mitbih_train.csv',header=None)\n",
    "data2_test=pd.read_csv('./mitbih_test.csv',header=None)"
   ]
  },
  {
   "cell_type": "code",
   "execution_count": 3,
   "metadata": {},
   "outputs": [],
   "source": [
    "data1 = pd.concat([data1_abnor, data1_nor]).sample(frac=1).reset_index(drop=True)\n",
    "data2 = pd.concat([data2_train, data2_test]).sample(frac=1).reset_index(drop=True)"
   ]
  },
  {
   "cell_type": "code",
   "execution_count": 4,
   "metadata": {},
   "outputs": [],
   "source": [
    "data2.loc[(data2[187] != 0),187]=1"
   ]
  },
  {
   "cell_type": "code",
   "execution_count": 5,
   "metadata": {},
   "outputs": [],
   "source": [
    "data = pd.concat([data1,data2]).sample(frac=1).reset_index(drop=True)"
   ]
  },
  {
   "cell_type": "code",
   "execution_count": 6,
   "metadata": {},
   "outputs": [],
   "source": [
    "Y=data[data.columns[-1:]]\n",
    "X=data[data.columns[:-2]]"
   ]
  },
  {
   "cell_type": "code",
   "execution_count": 8,
   "metadata": {},
   "outputs": [
    {
     "name": "stdout",
     "output_type": "stream",
     "text": [
      "(92998, 186)\n"
     ]
    }
   ],
   "source": [
    "random_seeed=42\n",
    "x_train,x_test,y_train,y_test=train_test_split(X,Y,test_size=0.25,random_state=random_seeed)\n",
    "print(x_train.shape)"
   ]
  },
  {
   "cell_type": "code",
   "execution_count": 8,
   "metadata": {},
   "outputs": [
    {
     "name": "stdout",
     "output_type": "stream",
     "text": [
      "94635\n",
      "29363\n"
     ]
    }
   ],
   "source": [
    "print(len(Y[Y[187] == 0 ]))\n",
    "print(len(Y[Y[187] == 1 ]))"
   ]
  },
  {
   "cell_type": "code",
   "execution_count": 9,
   "metadata": {
    "collapsed": false
   },
   "outputs": [],
   "source": [
    "y_train=y_train.to_numpy()\n",
    "x_train=x_train.to_numpy()\n",
    "#Add data dimension, doesn't actually change the data but that's how the input is expected, like it could have multiple values per timestamp\n",
    "x_train=x_train.reshape([-1,186,1])"
   ]
  },
  {
   "cell_type": "code",
   "execution_count": 10,
   "metadata": {
    "collapsed": false
   },
   "outputs": [],
   "source": [
    "y_test=y_test.to_numpy()\n",
    "x_test=x_test.to_numpy()\n",
    "#Add data dimension, doesn't actually change the data but that's how the input is expected, like it could have multiple values per timestamp\n",
    "x_test=x_test.reshape([-1,186,1])"
   ]
  },
  {
   "cell_type": "code",
   "execution_count": 11,
   "metadata": {
    "collapsed": false
   },
   "outputs": [],
   "source": [
    "model=tf.keras.Sequential([\n",
    "    layers.Conv1D(64, 7, activation='relu', input_shape=(186, 1),padding='same'),\n",
    "    layers.BatchNormalization(),\n",
    "    layers.Conv1D(32, 5, activation='relu',padding='same'),\n",
    "    layers.BatchNormalization(),\n",
    "    layers.MaxPool1D(7),\n",
    "    layers.Conv1D(16, 5, activation='relu'),\n",
    "    layers.BatchNormalization(),\n",
    "    layers.MaxPool1D(5),\n",
    "    layers.GlobalMaxPool1D(),\n",
    "    layers.Flatten(),\n",
    "    layers.Dense(1,activation='sigmoid') #softmax cuz categories\n",
    "])"
   ]
  },
  {
   "cell_type": "code",
   "execution_count": 12,
   "metadata": {
    "collapsed": false
   },
   "outputs": [
    {
     "name": "stdout",
     "output_type": "stream",
     "text": [
      "Epoch 1/50\n",
      "97/97 [==============================] - 19s 171ms/step - loss: 0.3476 - accuracy: 0.8623 - val_loss: 0.6310 - val_accuracy: 0.7731\n",
      "Epoch 2/50\n",
      "97/97 [==============================] - 17s 172ms/step - loss: 0.2367 - accuracy: 0.9103 - val_loss: 0.6994 - val_accuracy: 0.4069\n",
      "Epoch 3/50\n",
      "97/97 [==============================] - 15s 155ms/step - loss: 0.2026 - accuracy: 0.9256 - val_loss: 0.7619 - val_accuracy: 0.2811\n",
      "Epoch 4/50\n",
      "97/97 [==============================] - 15s 150ms/step - loss: 0.1776 - accuracy: 0.9346 - val_loss: 0.7319 - val_accuracy: 0.3761\n",
      "Epoch 5/50\n",
      "97/97 [==============================] - 16s 162ms/step - loss: 0.1660 - accuracy: 0.9394 - val_loss: 0.5424 - val_accuracy: 0.7289\n",
      "Epoch 6/50\n",
      "97/97 [==============================] - 17s 176ms/step - loss: 0.1504 - accuracy: 0.9462 - val_loss: 0.2178 - val_accuracy: 0.9331\n",
      "Epoch 7/50\n",
      "97/97 [==============================] - 16s 169ms/step - loss: 0.1480 - accuracy: 0.9491 - val_loss: 0.2138 - val_accuracy: 0.9084\n",
      "Epoch 8/50\n",
      "97/97 [==============================] - 14s 149ms/step - loss: 0.1393 - accuracy: 0.9517 - val_loss: 0.1853 - val_accuracy: 0.9356\n",
      "Epoch 9/50\n",
      "97/97 [==============================] - 14s 145ms/step - loss: 0.1293 - accuracy: 0.9548 - val_loss: 0.1652 - val_accuracy: 0.9440\n",
      "Epoch 10/50\n",
      "97/97 [==============================] - 15s 155ms/step - loss: 0.1238 - accuracy: 0.9582 - val_loss: 0.1332 - val_accuracy: 0.9524\n",
      "Epoch 11/50\n",
      "97/97 [==============================] - 14s 148ms/step - loss: 0.1184 - accuracy: 0.9592 - val_loss: 0.2456 - val_accuracy: 0.9132\n",
      "Epoch 12/50\n",
      "97/97 [==============================] - 13s 137ms/step - loss: 0.1143 - accuracy: 0.9615 - val_loss: 0.1187 - val_accuracy: 0.9587\n",
      "Epoch 13/50\n",
      "97/97 [==============================] - 14s 142ms/step - loss: 0.1079 - accuracy: 0.9624 - val_loss: 0.1470 - val_accuracy: 0.9461\n",
      "Epoch 14/50\n",
      "97/97 [==============================] - 13s 139ms/step - loss: 0.1047 - accuracy: 0.9653 - val_loss: 0.1658 - val_accuracy: 0.9411\n",
      "Epoch 15/50\n",
      "97/97 [==============================] - 15s 159ms/step - loss: 0.1020 - accuracy: 0.9652 - val_loss: 0.1151 - val_accuracy: 0.9579\n",
      "Epoch 16/50\n",
      "97/97 [==============================] - 15s 152ms/step - loss: 0.1030 - accuracy: 0.9647 - val_loss: 0.1201 - val_accuracy: 0.9577\n",
      "Epoch 17/50\n",
      "97/97 [==============================] - 14s 146ms/step - loss: 0.0962 - accuracy: 0.9667 - val_loss: 0.1159 - val_accuracy: 0.9565\n",
      "Epoch 18/50\n",
      "97/97 [==============================] - 15s 150ms/step - loss: 0.0935 - accuracy: 0.9686 - val_loss: 0.1178 - val_accuracy: 0.9587\n",
      "Epoch 19/50\n",
      "97/97 [==============================] - 15s 152ms/step - loss: 0.0906 - accuracy: 0.9703 - val_loss: 0.1813 - val_accuracy: 0.9282\n",
      "Epoch 20/50\n",
      "97/97 [==============================] - 14s 145ms/step - loss: 0.0917 - accuracy: 0.9685 - val_loss: 0.1143 - val_accuracy: 0.9598\n",
      "Epoch 21/50\n",
      "97/97 [==============================] - 14s 147ms/step - loss: 0.0862 - accuracy: 0.9707 - val_loss: 0.1026 - val_accuracy: 0.9644\n",
      "Epoch 22/50\n",
      "97/97 [==============================] - 14s 140ms/step - loss: 0.0843 - accuracy: 0.9716 - val_loss: 0.1544 - val_accuracy: 0.9465\n",
      "Epoch 23/50\n",
      "97/97 [==============================] - 14s 141ms/step - loss: 0.0834 - accuracy: 0.9717 - val_loss: 0.1030 - val_accuracy: 0.9666\n",
      "Epoch 24/50\n",
      "97/97 [==============================] - 17s 172ms/step - loss: 0.0830 - accuracy: 0.9719 - val_loss: 0.0995 - val_accuracy: 0.9663\n",
      "Epoch 25/50\n",
      "97/97 [==============================] - 16s 163ms/step - loss: 0.0803 - accuracy: 0.9735 - val_loss: 0.1024 - val_accuracy: 0.9673\n",
      "Epoch 26/50\n",
      "97/97 [==============================] - 16s 168ms/step - loss: 0.0747 - accuracy: 0.9755 - val_loss: 0.1052 - val_accuracy: 0.9615\n",
      "Epoch 27/50\n",
      "97/97 [==============================] - 16s 170ms/step - loss: 0.0725 - accuracy: 0.9748 - val_loss: 0.1028 - val_accuracy: 0.9640\n",
      "Epoch 28/50\n",
      "97/97 [==============================] - 15s 158ms/step - loss: 0.0734 - accuracy: 0.9755 - val_loss: 0.1070 - val_accuracy: 0.9631\n",
      "Epoch 29/50\n",
      "97/97 [==============================] - 17s 172ms/step - loss: 0.0708 - accuracy: 0.9766 - val_loss: 0.1129 - val_accuracy: 0.9616\n",
      "Epoch 30/50\n",
      "97/97 [==============================] - 16s 168ms/step - loss: 0.0709 - accuracy: 0.9752 - val_loss: 0.1062 - val_accuracy: 0.9637\n",
      "Epoch 31/50\n",
      "97/97 [==============================] - 14s 141ms/step - loss: 0.0709 - accuracy: 0.9758 - val_loss: 0.1160 - val_accuracy: 0.9616\n",
      "Epoch 32/50\n",
      "97/97 [==============================] - 14s 141ms/step - loss: 0.0640 - accuracy: 0.9790 - val_loss: 0.1010 - val_accuracy: 0.9661\n",
      "Epoch 33/50\n",
      "97/97 [==============================] - 14s 144ms/step - loss: 0.0635 - accuracy: 0.9792 - val_loss: 0.1092 - val_accuracy: 0.9627\n",
      "Epoch 34/50\n",
      "97/97 [==============================] - 14s 148ms/step - loss: 0.0623 - accuracy: 0.9791 - val_loss: 0.0990 - val_accuracy: 0.9676\n",
      "Epoch 35/50\n",
      "97/97 [==============================] - 14s 141ms/step - loss: 0.0592 - accuracy: 0.9803 - val_loss: 0.1059 - val_accuracy: 0.9647\n",
      "Epoch 36/50\n",
      "97/97 [==============================] - 15s 152ms/step - loss: 0.0583 - accuracy: 0.9808 - val_loss: 0.1088 - val_accuracy: 0.9644\n",
      "Epoch 37/50\n",
      "97/97 [==============================] - 13s 136ms/step - loss: 0.0581 - accuracy: 0.9801 - val_loss: 0.1032 - val_accuracy: 0.9673\n",
      "Epoch 38/50\n",
      "97/97 [==============================] - 13s 132ms/step - loss: 0.0568 - accuracy: 0.9817 - val_loss: 0.1178 - val_accuracy: 0.9602\n",
      "Epoch 39/50\n",
      "97/97 [==============================] - 13s 133ms/step - loss: 0.0546 - accuracy: 0.9806 - val_loss: 0.1405 - val_accuracy: 0.9511\n",
      "Epoch 40/50\n",
      "97/97 [==============================] - 14s 144ms/step - loss: 0.0553 - accuracy: 0.9814 - val_loss: 0.1173 - val_accuracy: 0.9615\n",
      "Epoch 41/50\n",
      "97/97 [==============================] - 14s 141ms/step - loss: 0.0551 - accuracy: 0.9815 - val_loss: 0.1001 - val_accuracy: 0.9669\n",
      "Epoch 42/50\n",
      "97/97 [==============================] - 16s 170ms/step - loss: 0.0524 - accuracy: 0.9823 - val_loss: 0.1020 - val_accuracy: 0.9674\n",
      "Epoch 43/50\n",
      "97/97 [==============================] - 17s 171ms/step - loss: 0.0518 - accuracy: 0.9826 - val_loss: 0.0973 - val_accuracy: 0.9674\n",
      "Epoch 44/50\n",
      "97/97 [==============================] - 16s 161ms/step - loss: 0.0476 - accuracy: 0.9843 - val_loss: 0.1156 - val_accuracy: 0.9587\n",
      "Epoch 45/50\n",
      "97/97 [==============================] - 15s 150ms/step - loss: 0.0553 - accuracy: 0.9806 - val_loss: 0.1461 - val_accuracy: 0.9576\n",
      "Epoch 46/50\n",
      "97/97 [==============================] - 16s 164ms/step - loss: 0.0477 - accuracy: 0.9843 - val_loss: 0.1255 - val_accuracy: 0.9563\n",
      "Epoch 47/50\n",
      "97/97 [==============================] - 17s 174ms/step - loss: 0.0471 - accuracy: 0.9836 - val_loss: 0.1021 - val_accuracy: 0.9663\n",
      "Epoch 48/50\n",
      "97/97 [==============================] - 25s 260ms/step - loss: 0.0459 - accuracy: 0.9839 - val_loss: 0.1196 - val_accuracy: 0.9650\n",
      "Epoch 49/50\n",
      "97/97 [==============================] - 26s 265ms/step - loss: 0.0482 - accuracy: 0.9833 - val_loss: 0.1146 - val_accuracy: 0.9644\n",
      "Epoch 50/50\n",
      "97/97 [==============================] - 26s 273ms/step - loss: 0.0445 - accuracy: 0.9844 - val_loss: 0.1014 - val_accuracy: 0.9655\n"
     ]
    }
   ],
   "source": [
    "model.compile('adam',loss=tf.keras.losses.BinaryCrossentropy(),metrics=['accuracy']) #this was with validation\n",
    "history=model.fit(x_train,y_train,batch_size=256,epochs=50,verbose=True,validation_split=0.2)"
   ]
  },
  {
   "cell_type": "code",
   "execution_count": 13,
   "metadata": {
    "collapsed": false
   },
   "outputs": [
    {
     "data": {
      "text/plain": [
       "<matplotlib.legend.Legend at 0x2a28d10ef80>"
      ]
     },
     "execution_count": 13,
     "metadata": {},
     "output_type": "execute_result"
    },
    {
     "data": {
      "image/png": "[encoded data removed]",
      "text/plain": [
       "<Figure size 640x480 with 2 Axes>"
      ]
     },
     "metadata": {},
     "output_type": "display_data"
    }
   ],
   "source": [
    "fig, ax = plt.subplots(2,sharex=True)\n",
    "ax[0].set_title(\"Accuracy\")\n",
    "ax[0].plot(history.epoch, history.history['accuracy'],label='Train');\n",
    "ax[0].plot(history.epoch, history.history['val_accuracy'],label='Validation');\n",
    "ax[0].legend()\n",
    "ax[1].set_title(\"Loss\")\n",
    "ax[1].plot(history.epoch, history.history['loss'],label='Train');\n",
    "ax[1].plot(history.epoch, history.history['val_loss'],label='Validation');\n",
    "ax[1].legend()"
   ]
  },
  {
   "cell_type": "code",
   "execution_count": 28,
   "metadata": {
    "collapsed": false
   },
   "outputs": [
    {
     "name": "stdout",
     "output_type": "stream",
     "text": [
      "2907/2907 [==============================] - 14s 5ms/step - loss: 0.1261 - accuracy: 0.9600\n"
     ]
    },
    {
     "data": {
      "text/plain": [
       "[0.12607651948928833, 0.9599995613098145]"
      ]
     },
     "execution_count": 28,
     "metadata": {},
     "output_type": "execute_result"
    }
   ],
   "source": [
    "model.evaluate(x_test, y_test, verbose=True)"
   ]
  },
  {
   "cell_type": "code",
   "execution_count": 19,
   "metadata": {},
   "outputs": [],
   "source": [
    "from sklearn.metrics import classification_report"
   ]
  },
  {
   "cell_type": "code",
   "execution_count": 24,
   "metadata": {},
   "outputs": [
    {
     "name": "stdout",
     "output_type": "stream",
     "text": [
      "2907/2907 [==============================] - 13s 5ms/step\n"
     ]
    }
   ],
   "source": [
    "y_pred = model.predict(x_test)\n",
    "# print(classification_report(y_test, y_pred))"
   ]
  },
  {
   "cell_type": "code",
   "execution_count": 38,
   "metadata": {},
   "outputs": [
    {
     "data": {
      "text/plain": [
       "array([0., 0., 0., ..., 0., 0., 1.])"
      ]
     },
     "execution_count": 38,
     "metadata": {},
     "output_type": "execute_result"
    }
   ],
   "source": [
    "\n",
    "yy = np.array([])\n",
    "for pred in y_pred:\n",
    "    if pred>=0.5:\n",
    "        yy=np.append(arr=yy, values=1)\n",
    "    else:\n",
    "        yy=np.append(arr=yy, values=0)\n"
   ]
  },
  {
   "cell_type": "code",
   "execution_count": 39,
   "metadata": {},
   "outputs": [
    {
     "name": "stdout",
     "output_type": "stream",
     "text": [
      "              precision    recall  f1-score   support\n",
      "\n",
      "         0.0       0.98      0.97      0.97     70901\n",
      "         1.0       0.90      0.93      0.92     22098\n",
      "\n",
      "    accuracy                           0.96     92999\n",
      "   macro avg       0.94      0.95      0.95     92999\n",
      "weighted avg       0.96      0.96      0.96     92999\n",
      "\n"
     ]
    }
   ],
   "source": [
    "print(classification_report(y_test, yy))"
   ]
  }
 ],
 "metadata": {
  "kernelspec": {
   "display_name": "Python 3",
   "language": "python",
   "name": "python3"
  },
  "language_info": {
   "codemirror_mode": {
    "name": "ipython",
    "version": 3
   },
   "file_extension": ".py",
   "mimetype": "text/x-python",
   "name": "python",
   "nbconvert_exporter": "python",
   "pygments_lexer": "ipython3",
   "version": "3.10.0 (tags/v3.10.0:b494f59, Oct  4 2021, 19:00:18) [MSC v.1929 64 bit (AMD64)]"
  },
  "vscode": {
   "interpreter": {
    "hash": "369f2c481f4da34e4445cda3fffd2e751bd1c4d706f27375911949ba6bb62e1c"
   }
  }
 },
 "nbformat": 4,
 "nbformat_minor": 0
}
