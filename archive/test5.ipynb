{
 "cells": [
  {
   "cell_type": "code",
   "execution_count": 1,
   "metadata": {
    "collapsed": true
   },
   "outputs": [],
   "source": [
    "import pandas as pd\n",
    "import tensorflow as tf\n",
    "import tensorflow.keras.layers as layers\n",
    "import matplotlib.pyplot as plt\n",
    "import numpy as np\n",
    "from sklearn.model_selection import train_test_split"
   ]
  },
  {
   "cell_type": "code",
   "execution_count": 2,
   "metadata": {
    "collapsed": false
   },
   "outputs": [],
   "source": [
    "#The dataset contains no header for columns, hence the header parameter\n",
    "data1_abnor=pd.read_csv('./ptbdb_abnormal.csv',header=None)\n",
    "data1_nor=pd.read_csv('./ptbdb_normal.csv',header=None)\n",
    "data2_train=pd.read_csv('./mitbih_train.csv',header=None)\n",
    "data2_test=pd.read_csv('./mitbih_test.csv',header=None)"
   ]
  },
  {
   "cell_type": "code",
   "execution_count": 3,
   "metadata": {},
   "outputs": [],
   "source": [
    "data1 = pd.concat([data1_abnor, data1_nor]).sample(frac=1).reset_index(drop=True)\n",
    "data2 = pd.concat([data2_train, data2_test]).sample(frac=1).reset_index(drop=True)"
   ]
  },
  {
   "cell_type": "code",
   "execution_count": 4,
   "metadata": {},
   "outputs": [],
   "source": [
    "data2.loc[(data2[187] != 0),187]=1"
   ]
  },
  {
   "cell_type": "code",
   "execution_count": 5,
   "metadata": {},
   "outputs": [],
   "source": [
    "data = pd.concat([data1,data2]).sample(frac=1).reset_index(drop=True)"
   ]
  },
  {
   "cell_type": "code",
   "execution_count": 6,
   "metadata": {},
   "outputs": [],
   "source": [
    "Y=data[data.columns[-1:]]\n",
    "X=data[data.columns[:-2]]"
   ]
  },
  {
   "cell_type": "code",
   "execution_count": 7,
   "metadata": {},
   "outputs": [
    {
     "name": "stdout",
     "output_type": "stream",
     "text": [
      "(92998, 186)\n"
     ]
    }
   ],
   "source": [
    "random_seeed=42\n",
    "x_train,x_test,y_train,y_test=train_test_split(X,Y,test_size=0.25,random_state=random_seeed)\n",
    "print(x_train.shape)"
   ]
  },
  {
   "cell_type": "code",
   "execution_count": 8,
   "metadata": {},
   "outputs": [
    {
     "name": "stdout",
     "output_type": "stream",
     "text": [
      "94635\n",
      "29363\n"
     ]
    }
   ],
   "source": [
    "print(len(Y[Y[187] == 0 ]))\n",
    "print(len(Y[Y[187] == 1 ]))"
   ]
  },
  {
   "cell_type": "code",
   "execution_count": 9,
   "metadata": {
    "collapsed": false
   },
   "outputs": [],
   "source": [
    "y_train=y_train.to_numpy()\n",
    "x_train=x_train.to_numpy()\n",
    "#Add data dimension, doesn't actually change the data but that's how the input is expected, like it could have multiple values per timestamp\n",
    "x_train=x_train.reshape([-1,186,1])"
   ]
  },
  {
   "cell_type": "code",
   "execution_count": 10,
   "metadata": {
    "collapsed": false
   },
   "outputs": [],
   "source": [
    "y_test=y_test.to_numpy()\n",
    "x_test=x_test.to_numpy()\n",
    "#Add data dimension, doesn't actually change the data but that's how the input is expected, like it could have multiple values per timestamp\n",
    "x_test=x_test.reshape([-1,186,1])"
   ]
  },
  {
   "cell_type": "code",
   "execution_count": 11,
   "metadata": {
    "collapsed": false
   },
   "outputs": [],
   "source": [
    "model=tf.keras.Sequential([\n",
    "    layers.Conv1D(64, 7, activation='relu', input_shape=(186, 1),padding='same'),\n",
    "    layers.BatchNormalization(),\n",
    "    layers.Conv1D(32, 5, activation='relu',padding='same'),\n",
    "    layers.BatchNormalization(),\n",
    "    layers.MaxPool1D(7),\n",
    "    layers.Conv1D(16, 5, activation='relu'),\n",
    "    layers.BatchNormalization(),\n",
    "    layers.MaxPool1D(5),\n",
    "    layers.GlobalMaxPool1D(),\n",
    "    layers.Flatten(),\n",
    "    layers.Dense(1,activation='sigmoid') #softmax cuz categories\n",
    "])"
   ]
  },
  {
   "cell_type": "code",
   "execution_count": 12,
   "metadata": {
    "collapsed": false
   },
   "outputs": [
    {
     "name": "stdout",
     "output_type": "stream",
     "text": [
      "Epoch 1/50\n",
      "291/291 [==============================] - 41s 136ms/step - loss: 0.2913 - accuracy: 0.8905 - val_loss: 1.0246 - val_accuracy: 0.2289\n",
      "Epoch 2/50\n",
      "291/291 [==============================] - 40s 136ms/step - loss: 0.1822 - accuracy: 0.9329 - val_loss: 0.2826 - val_accuracy: 0.9244\n",
      "Epoch 3/50\n",
      "291/291 [==============================] - 39s 134ms/step - loss: 0.1481 - accuracy: 0.9483 - val_loss: 0.1395 - val_accuracy: 0.9513\n",
      "Epoch 4/50\n",
      "291/291 [==============================] - 39s 135ms/step - loss: 0.1345 - accuracy: 0.9542 - val_loss: 0.1873 - val_accuracy: 0.9337\n",
      "Epoch 5/50\n",
      "291/291 [==============================] - 40s 136ms/step - loss: 0.1201 - accuracy: 0.9596 - val_loss: 0.1361 - val_accuracy: 0.9497\n",
      "Epoch 6/50\n",
      "291/291 [==============================] - 40s 137ms/step - loss: 0.1134 - accuracy: 0.9619 - val_loss: 0.1285 - val_accuracy: 0.9541\n",
      "Epoch 7/50\n",
      "291/291 [==============================] - 39s 136ms/step - loss: 0.1075 - accuracy: 0.9644 - val_loss: 0.1128 - val_accuracy: 0.9631\n",
      "Epoch 8/50\n",
      "291/291 [==============================] - 39s 133ms/step - loss: 0.1020 - accuracy: 0.9657 - val_loss: 0.1348 - val_accuracy: 0.9548\n",
      "Epoch 9/50\n",
      "291/291 [==============================] - 39s 134ms/step - loss: 0.0985 - accuracy: 0.9669 - val_loss: 0.1028 - val_accuracy: 0.9647\n",
      "Epoch 10/50\n",
      "291/291 [==============================] - 39s 133ms/step - loss: 0.0931 - accuracy: 0.9688 - val_loss: 0.1163 - val_accuracy: 0.9618\n",
      "Epoch 11/50\n",
      "291/291 [==============================] - 38s 132ms/step - loss: 0.0902 - accuracy: 0.9700 - val_loss: 0.1006 - val_accuracy: 0.9656\n",
      "Epoch 12/50\n",
      "291/291 [==============================] - 39s 133ms/step - loss: 0.0865 - accuracy: 0.9709 - val_loss: 0.0960 - val_accuracy: 0.9688\n",
      "Epoch 13/50\n",
      "291/291 [==============================] - 39s 133ms/step - loss: 0.0835 - accuracy: 0.9724 - val_loss: 0.0878 - val_accuracy: 0.9706\n",
      "Epoch 14/50\n",
      "291/291 [==============================] - 39s 132ms/step - loss: 0.0806 - accuracy: 0.9731 - val_loss: 0.0997 - val_accuracy: 0.9672\n",
      "Epoch 15/50\n",
      "291/291 [==============================] - 39s 135ms/step - loss: 0.0813 - accuracy: 0.9730 - val_loss: 0.0900 - val_accuracy: 0.9706\n",
      "Epoch 16/50\n",
      "291/291 [==============================] - 39s 134ms/step - loss: 0.0770 - accuracy: 0.9749 - val_loss: 0.1005 - val_accuracy: 0.9649\n",
      "Epoch 17/50\n",
      "291/291 [==============================] - 39s 133ms/step - loss: 0.0743 - accuracy: 0.9749 - val_loss: 0.1365 - val_accuracy: 0.9554\n",
      "Epoch 18/50\n",
      "291/291 [==============================] - 38s 132ms/step - loss: 0.0719 - accuracy: 0.9759 - val_loss: 0.1137 - val_accuracy: 0.9606\n",
      "Epoch 19/50\n",
      "291/291 [==============================] - 39s 134ms/step - loss: 0.0712 - accuracy: 0.9765 - val_loss: 0.1179 - val_accuracy: 0.9589\n",
      "Epoch 20/50\n",
      "291/291 [==============================] - 39s 133ms/step - loss: 0.0689 - accuracy: 0.9769 - val_loss: 0.0823 - val_accuracy: 0.9733\n",
      "Epoch 21/50\n",
      "291/291 [==============================] - 39s 133ms/step - loss: 0.0680 - accuracy: 0.9774 - val_loss: 0.0909 - val_accuracy: 0.9696\n",
      "Epoch 22/50\n",
      "291/291 [==============================] - 39s 133ms/step - loss: 0.0648 - accuracy: 0.9784 - val_loss: 0.0874 - val_accuracy: 0.9722\n",
      "Epoch 23/50\n",
      "291/291 [==============================] - 39s 133ms/step - loss: 0.0638 - accuracy: 0.9790 - val_loss: 0.0883 - val_accuracy: 0.9711\n",
      "Epoch 24/50\n",
      "291/291 [==============================] - 39s 133ms/step - loss: 0.0633 - accuracy: 0.9784 - val_loss: 0.0862 - val_accuracy: 0.9709\n",
      "Epoch 25/50\n",
      "291/291 [==============================] - 38s 132ms/step - loss: 0.0617 - accuracy: 0.9795 - val_loss: 0.0853 - val_accuracy: 0.9712\n",
      "Epoch 26/50\n",
      "291/291 [==============================] - 39s 133ms/step - loss: 0.0593 - accuracy: 0.9799 - val_loss: 0.0809 - val_accuracy: 0.9730\n",
      "Epoch 27/50\n",
      "291/291 [==============================] - 39s 133ms/step - loss: 0.0583 - accuracy: 0.9802 - val_loss: 0.0820 - val_accuracy: 0.9738\n",
      "Epoch 28/50\n",
      "291/291 [==============================] - 39s 133ms/step - loss: 0.0573 - accuracy: 0.9808 - val_loss: 0.0919 - val_accuracy: 0.9696\n",
      "Epoch 29/50\n",
      "291/291 [==============================] - 40s 137ms/step - loss: 0.0564 - accuracy: 0.9811 - val_loss: 0.0854 - val_accuracy: 0.9721\n",
      "Epoch 30/50\n",
      "291/291 [==============================] - 42s 145ms/step - loss: 0.0551 - accuracy: 0.9818 - val_loss: 0.0752 - val_accuracy: 0.9761\n",
      "Epoch 31/50\n",
      "291/291 [==============================] - 43s 146ms/step - loss: 0.0530 - accuracy: 0.9818 - val_loss: 0.0866 - val_accuracy: 0.9727\n",
      "Epoch 32/50\n",
      "291/291 [==============================] - 40s 138ms/step - loss: 0.0526 - accuracy: 0.9822 - val_loss: 0.0880 - val_accuracy: 0.9736\n",
      "Epoch 33/50\n",
      "291/291 [==============================] - 42s 143ms/step - loss: 0.0527 - accuracy: 0.9823 - val_loss: 0.0711 - val_accuracy: 0.9768\n",
      "Epoch 34/50\n",
      "291/291 [==============================] - 43s 148ms/step - loss: 0.0508 - accuracy: 0.9829 - val_loss: 0.0809 - val_accuracy: 0.9746\n",
      "Epoch 35/50\n",
      "291/291 [==============================] - 44s 150ms/step - loss: 0.0502 - accuracy: 0.9830 - val_loss: 0.0947 - val_accuracy: 0.9701\n",
      "Epoch 36/50\n",
      "291/291 [==============================] - 44s 152ms/step - loss: 0.0493 - accuracy: 0.9830 - val_loss: 0.0807 - val_accuracy: 0.9758\n",
      "Epoch 37/50\n",
      "291/291 [==============================] - 47s 160ms/step - loss: 0.0478 - accuracy: 0.9839 - val_loss: 0.0718 - val_accuracy: 0.9767\n",
      "Epoch 38/50\n",
      "291/291 [==============================] - 42s 144ms/step - loss: 0.0472 - accuracy: 0.9841 - val_loss: 0.0754 - val_accuracy: 0.9760\n",
      "Epoch 39/50\n",
      "291/291 [==============================] - 43s 147ms/step - loss: 0.0465 - accuracy: 0.9844 - val_loss: 0.0932 - val_accuracy: 0.9680\n",
      "Epoch 40/50\n",
      "291/291 [==============================] - 44s 152ms/step - loss: 0.0460 - accuracy: 0.9847 - val_loss: 0.0825 - val_accuracy: 0.9731\n",
      "Epoch 41/50\n",
      "291/291 [==============================] - 41s 140ms/step - loss: 0.0456 - accuracy: 0.9842 - val_loss: 0.0771 - val_accuracy: 0.9742\n",
      "Epoch 42/50\n",
      "291/291 [==============================] - 39s 135ms/step - loss: 0.0435 - accuracy: 0.9852 - val_loss: 0.0825 - val_accuracy: 0.9751\n",
      "Epoch 43/50\n",
      "291/291 [==============================] - 39s 135ms/step - loss: 0.0442 - accuracy: 0.9850 - val_loss: 0.1132 - val_accuracy: 0.9618\n",
      "Epoch 44/50\n",
      "291/291 [==============================] - 39s 135ms/step - loss: 0.0428 - accuracy: 0.9849 - val_loss: 0.0910 - val_accuracy: 0.9705\n",
      "Epoch 45/50\n",
      "291/291 [==============================] - 39s 135ms/step - loss: 0.0429 - accuracy: 0.9855 - val_loss: 0.0827 - val_accuracy: 0.9735\n",
      "Epoch 46/50\n",
      "291/291 [==============================] - 39s 135ms/step - loss: 0.0416 - accuracy: 0.9856 - val_loss: 0.0761 - val_accuracy: 0.9775\n",
      "Epoch 47/50\n",
      "291/291 [==============================] - 40s 136ms/step - loss: 0.0423 - accuracy: 0.9858 - val_loss: 0.0798 - val_accuracy: 0.9759\n",
      "Epoch 48/50\n",
      "291/291 [==============================] - 42s 145ms/step - loss: 0.0410 - accuracy: 0.9858 - val_loss: 0.0932 - val_accuracy: 0.9692\n",
      "Epoch 49/50\n",
      "291/291 [==============================] - 45s 155ms/step - loss: 0.0383 - accuracy: 0.9867 - val_loss: 0.0765 - val_accuracy: 0.9775\n",
      "Epoch 50/50\n",
      "291/291 [==============================] - 42s 143ms/step - loss: 0.0388 - accuracy: 0.9872 - val_loss: 0.0851 - val_accuracy: 0.9731\n"
     ]
    }
   ],
   "source": [
    "model.compile('adam',loss=tf.keras.losses.BinaryCrossentropy(),metrics=['accuracy']) #this was with validation\n",
    "history=model.fit(x_train,y_train,batch_size=256,epochs=50,verbose=True,validation_split=0.2)"
   ]
  },
  {
   "cell_type": "code",
   "execution_count": 13,
   "metadata": {
    "collapsed": false
   },
   "outputs": [
    {
     "data": {
      "text/plain": [
       "<matplotlib.legend.Legend at 0x1ce457024d0>"
      ]
     },
     "execution_count": 13,
     "metadata": {},
     "output_type": "execute_result"
    },
    {
     "data": {
      "image/png": "[encoded data removed]",
      "text/plain": [
       "<Figure size 640x480 with 2 Axes>"
      ]
     },
     "metadata": {},
     "output_type": "display_data"
    }
   ],
   "source": [
    "fig, ax = plt.subplots(2,sharex=True)\n",
    "ax[0].set_title(\"Accuracy\")\n",
    "ax[0].plot(history.epoch, history.history['accuracy'],label='Train');\n",
    "ax[0].plot(history.epoch, history.history['val_accuracy'],label='Validation');\n",
    "ax[0].legend()\n",
    "ax[1].set_title(\"Loss\")\n",
    "ax[1].plot(history.epoch, history.history['loss'],label='Train');\n",
    "ax[1].plot(history.epoch, history.history['val_loss'],label='Validation');\n",
    "ax[1].legend()"
   ]
  },
  {
   "cell_type": "code",
   "execution_count": 14,
   "metadata": {
    "collapsed": false
   },
   "outputs": [
    {
     "name": "stdout",
     "output_type": "stream",
     "text": [
      "969/969 [==============================] - 4s 4ms/step - loss: 0.0884 - accuracy: 0.9721\n"
     ]
    },
    {
     "data": {
      "text/plain": [
       "[0.08837687224149704, 0.9720644950866699]"
      ]
     },
     "execution_count": 14,
     "metadata": {},
     "output_type": "execute_result"
    }
   ],
   "source": [
    "model.evaluate(x_test, y_test, verbose=True)"
   ]
  },
  {
   "cell_type": "code",
   "execution_count": 15,
   "metadata": {},
   "outputs": [
    {
     "name": "stdout",
     "output_type": "stream",
     "text": [
      "969/969 [==============================] - 4s 4ms/step\n",
      "              precision    recall  f1-score   support\n",
      "\n",
      "         0.0       0.99      0.98      0.98     23546\n",
      "         1.0       0.93      0.95      0.94      7454\n",
      "\n",
      "    accuracy                           0.97     31000\n",
      "   macro avg       0.96      0.97      0.96     31000\n",
      "weighted avg       0.97      0.97      0.97     31000\n",
      "\n"
     ]
    }
   ],
   "source": [
    "from sklearn.metrics import classification_report\n",
    "y_pred = model.predict(x_test)\n",
    "y_pred = np.round(y_pred)\n",
    "\n",
    "print(classification_report(y_test, y_pred))"
   ]
  }
 ],
 "metadata": {
  "kernelspec": {
   "display_name": "Python 3",
   "language": "python",
   "name": "python3"
  },
  "language_info": {
   "codemirror_mode": {
    "name": "ipython",
    "version": 3
   },
   "file_extension": ".py",
   "mimetype": "text/x-python",
   "name": "python",
   "nbconvert_exporter": "python",
   "pygments_lexer": "ipython3",
   "version": "3.10.0"
  },
  "vscode": {
   "interpreter": {
    "hash": "369f2c481f4da34e4445cda3fffd2e751bd1c4d706f27375911949ba6bb62e1c"
   }
  }
 },
 "nbformat": 4,
 "nbformat_minor": 0
}
