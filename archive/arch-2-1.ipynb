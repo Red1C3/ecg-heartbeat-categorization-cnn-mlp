{
 "cells": [
  {
   "cell_type": "code",
   "execution_count": 88,
   "metadata": {
    "collapsed": true
   },
   "outputs": [],
   "source": [
    "import pandas as pd\n",
    "import tensorflow as tf\n",
    "import tensorflow.keras.layers as layers\n",
    "import matplotlib.pyplot as plt\n",
    "import numpy as np\n",
    "from imblearn.over_sampling import SMOTE"
   ]
  },
  {
   "cell_type": "code",
   "execution_count": 89,
   "metadata": {
    "collapsed": false
   },
   "outputs": [],
   "source": [
    "#The dataset contains no header for columns, hence the header parameter\n",
    "dataframe=pd.read_csv('./mitbih_train.csv',header=None)"
   ]
  },
  {
   "cell_type": "code",
   "execution_count": 90,
   "metadata": {
    "collapsed": false
   },
   "outputs": [],
   "source": [
    "#Last column is the category column, a scaler value from 0 to 4\n",
    "y=dataframe[dataframe.columns[-1:]]\n",
    "x=dataframe[dataframe.columns[:-1]]"
   ]
  },
  {
   "cell_type": "code",
   "execution_count": 91,
   "metadata": {},
   "outputs": [],
   "source": [
    "# Balances the dataset by oversampling it (it seems like it uses interpolation)\n",
    "# https://machinelearningmastery.com/smote-oversampling-for-imbalanced-classification/\n",
    "oversampler=SMOTE()\n",
    "x,y=oversampler.fit_resample(x,y)"
   ]
  },
  {
   "cell_type": "code",
   "execution_count": 92,
   "metadata": {
    "collapsed": false
   },
   "outputs": [],
   "source": [
    "y=y.to_numpy()"
   ]
  },
  {
   "cell_type": "code",
   "execution_count": 93,
   "metadata": {
    "collapsed": false
   },
   "outputs": [],
   "source": [
    "x=x.to_numpy()"
   ]
  },
  {
   "cell_type": "code",
   "execution_count": 94,
   "metadata": {
    "collapsed": false
   },
   "outputs": [],
   "source": [
    "#Change the value to only use a subset of the dataset (like for quick tests...)\n",
    "x=x[:362355][:][:]\n",
    "y=y[:362355][:]\n",
    "#Add data dimension, doesn't actually change the data but that's how the input is expected, like it could have multiple values per timestamp\n",
    "x=x.reshape([362355,187,1])"
   ]
  },
  {
   "cell_type": "code",
   "execution_count": 95,
   "metadata": {
    "collapsed": false
   },
   "outputs": [],
   "source": [
    "model=tf.keras.Sequential(\n",
    "    [layers.Conv1D(7, 7, activation='relu', input_shape=(187,1)),\n",
    "     layers.BatchNormalization(),\n",
    "     layers.MaxPool1D(5),\n",
    "     layers.Conv1D(5,5,activation='relu'),\n",
    "     layers.BatchNormalization(),\n",
    "     layers.Conv1D(3,3,activation='relu'),\n",
    "     layers.BatchNormalization(),\n",
    "     layers.GlobalMaxPool1D(),\n",
    "     layers.Dense(5,activation='softmax')] #softmax cuz categories\n",
    ")"
   ]
  },
  {
   "cell_type": "code",
   "execution_count": 96,
   "metadata": {
    "collapsed": false
   },
   "outputs": [
    {
     "name": "stdout",
     "output_type": "stream",
     "text": [
      "Epoch 1/20\n",
      "725/725 [==============================] - 20s 20ms/step - loss: 1.9680 - accuracy: 0.1918\n",
      "Epoch 2/20\n",
      "725/725 [==============================] - 14s 20ms/step - loss: 0.8820 - accuracy: 0.6513\n",
      "Epoch 3/20\n",
      "725/725 [==============================] - 14s 19ms/step - loss: 0.6161 - accuracy: 0.7911\n",
      "Epoch 4/20\n",
      "725/725 [==============================] - 14s 20ms/step - loss: 0.5685 - accuracy: 0.8038\n",
      "Epoch 5/20\n",
      "725/725 [==============================] - 15s 21ms/step - loss: 0.5484 - accuracy: 0.8096\n",
      "Epoch 6/20\n",
      "725/725 [==============================] - 15s 20ms/step - loss: 0.5330 - accuracy: 0.8136\n",
      "Epoch 7/20\n",
      "725/725 [==============================] - 14s 20ms/step - loss: 0.5271 - accuracy: 0.8168\n",
      "Epoch 8/20\n",
      "725/725 [==============================] - 14s 20ms/step - loss: 0.5205 - accuracy: 0.8184\n",
      "Epoch 9/20\n",
      "725/725 [==============================] - 15s 20ms/step - loss: 0.5123 - accuracy: 0.8215\n",
      "Epoch 10/20\n",
      "725/725 [==============================] - 14s 20ms/step - loss: 0.5071 - accuracy: 0.8230\n",
      "Epoch 11/20\n",
      "725/725 [==============================] - 14s 20ms/step - loss: 0.4964 - accuracy: 0.8257\n",
      "Epoch 12/20\n",
      "725/725 [==============================] - 15s 20ms/step - loss: 0.4941 - accuracy: 0.8258\n",
      "Epoch 13/20\n",
      "725/725 [==============================] - 15s 20ms/step - loss: 0.4933 - accuracy: 0.8258\n",
      "Epoch 14/20\n",
      "725/725 [==============================] - 15s 20ms/step - loss: 0.4871 - accuracy: 0.8302\n",
      "Epoch 15/20\n",
      "725/725 [==============================] - 15s 20ms/step - loss: 0.4875 - accuracy: 0.8302\n",
      "Epoch 16/20\n",
      "725/725 [==============================] - 14s 20ms/step - loss: 0.4837 - accuracy: 0.8307\n",
      "Epoch 17/20\n",
      "725/725 [==============================] - 15s 20ms/step - loss: 0.4829 - accuracy: 0.8307\n",
      "Epoch 18/20\n",
      "725/725 [==============================] - 15s 20ms/step - loss: 0.4805 - accuracy: 0.8316\n",
      "Epoch 19/20\n",
      "725/725 [==============================] - 14s 20ms/step - loss: 0.4800 - accuracy: 0.8322\n",
      "Epoch 20/20\n",
      "725/725 [==============================] - 14s 20ms/step - loss: 0.4782 - accuracy: 0.8335\n"
     ]
    }
   ],
   "source": [
    "model.compile('adam','sparse_categorical_crossentropy',metrics=['accuracy']) #this was with validation\n",
    "history=model.fit(x,y,batch_size=500,epochs=20,verbose=True)"
   ]
  },
  {
   "cell_type": "code",
   "execution_count": 97,
   "metadata": {
    "collapsed": false
   },
   "outputs": [
    {
     "data": {
      "text/plain": "<matplotlib.legend.Legend at 0x7fcd65f27c70>"
     },
     "execution_count": 97,
     "metadata": {},
     "output_type": "execute_result"
    },
    {
     "data": {
      "text/plain": "<Figure size 640x480 with 1 Axes>",
      "image/png": "[encoded data removed]"
     },
     "metadata": {},
     "output_type": "display_data"
    }
   ],
   "source": [
    "fig, ax = plt.subplots()  # Create a figure containing a single axes.\n",
    "ax.plot(history.epoch, history.history['accuracy'],label='accuracy');\n",
    "ax.legend()"
   ]
  },
  {
   "cell_type": "code",
   "execution_count": 98,
   "outputs": [
    {
     "name": "stdout",
     "output_type": "stream",
     "text": [
      "44/44 [==============================] - 3s 73ms/step - loss: 0.5326 - accuracy: 0.8512\n"
     ]
    },
    {
     "data": {
      "text/plain": "[0.5326300263404846, 0.8512241840362549]"
     },
     "execution_count": 98,
     "metadata": {},
     "output_type": "execute_result"
    }
   ],
   "source": [
    "dataframe=pd.read_csv('./mitbih_test.csv', header=None)\n",
    "y = dataframe[dataframe.columns[-1:]]\n",
    "x = dataframe[dataframe.columns[:-1]]\n",
    "y = y.to_numpy()\n",
    "\n",
    "x = x.to_numpy()\n",
    "\n",
    "x = x[:21892][:][:]\n",
    "y = y[:21892][:]\n",
    "x = x.reshape([21892, 187, 1])\n",
    "history.model.evaluate(x, y, batch_size=500, verbose=True)"
   ],
   "metadata": {
    "collapsed": false
   }
  }
 ],
 "metadata": {
  "kernelspec": {
   "display_name": "tf-gpu",
   "language": "python",
   "name": "python3"
  },
  "language_info": {
   "codemirror_mode": {
    "name": "ipython",
    "version": 3
   },
   "file_extension": ".py",
   "mimetype": "text/x-python",
   "name": "python",
   "nbconvert_exporter": "python",
   "pygments_lexer": "ipython3",
   "version": "3.9.15"
  },
  "vscode": {
   "interpreter": {
    "hash": "0b5916d98285d7f9256b24e73be44c1954c1d35b1fc6eb84af81e3fe0ccc5dea"
   }
  }
 },
 "nbformat": 4,
 "nbformat_minor": 0
}
