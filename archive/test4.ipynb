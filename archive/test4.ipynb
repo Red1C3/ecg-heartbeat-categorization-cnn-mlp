{
 "cells": [
  {
   "cell_type": "code",
   "execution_count": 1,
   "metadata": {
    "collapsed": true
   },
   "outputs": [],
   "source": [
    "import pandas as pd\n",
    "import tensorflow as tf\n",
    "import tensorflow.keras.layers as layers\n",
    "import matplotlib.pyplot as plt\n",
    "import numpy as np\n",
    "from sklearn.model_selection import train_test_split"
   ]
  },
  {
   "cell_type": "code",
   "execution_count": 2,
   "metadata": {
    "collapsed": false
   },
   "outputs": [],
   "source": [
    "#The dataset contains no header for columns, hence the header parameter\n",
    "data1_abnor=pd.read_csv('./ptbdb_abnormal.csv',header=None)\n",
    "data1_nor=pd.read_csv('./ptbdb_normal.csv',header=None)\n",
    "data2_train=pd.read_csv('./mitbih_train.csv',header=None)\n",
    "data2_test=pd.read_csv('./mitbih_test.csv',header=None)"
   ]
  },
  {
   "cell_type": "code",
   "execution_count": 3,
   "metadata": {},
   "outputs": [],
   "source": [
    "data1 = pd.concat([data1_abnor, data1_nor]).sample(frac=1).reset_index(drop=True)\n",
    "data2 = pd.concat([data2_train, data2_test]).sample(frac=1).reset_index(drop=True)"
   ]
  },
  {
   "cell_type": "code",
   "execution_count": 4,
   "metadata": {},
   "outputs": [],
   "source": [
    "data2.loc[(data2[187] != 0),187]=1"
   ]
  },
  {
   "cell_type": "code",
   "execution_count": 5,
   "metadata": {},
   "outputs": [],
   "source": [
    "data = pd.concat([data1,data2]).sample(frac=1).reset_index(drop=True)"
   ]
  },
  {
   "cell_type": "code",
   "execution_count": 6,
   "metadata": {},
   "outputs": [],
   "source": [
    "Y=data[data.columns[-1:]]\n",
    "X=data[data.columns[:-2]]"
   ]
  },
  {
   "cell_type": "code",
   "execution_count": 7,
   "metadata": {},
   "outputs": [
    {
     "name": "stdout",
     "output_type": "stream",
     "text": [
      "(92998, 186)\n"
     ]
    }
   ],
   "source": [
    "random_seeed=42\n",
    "x_train,x_test,y_train,y_test=train_test_split(X,Y,test_size=0.25,random_state=random_seeed)\n",
    "print(x_train.shape)"
   ]
  },
  {
   "cell_type": "code",
   "execution_count": 8,
   "metadata": {},
   "outputs": [
    {
     "name": "stdout",
     "output_type": "stream",
     "text": [
      "94635\n",
      "29363\n"
     ]
    }
   ],
   "source": [
    "print(len(Y[Y[187] == 0 ]))\n",
    "print(len(Y[Y[187] == 1 ]))"
   ]
  },
  {
   "cell_type": "code",
   "execution_count": 9,
   "metadata": {
    "collapsed": false
   },
   "outputs": [],
   "source": [
    "y_train=y_train.to_numpy()\n",
    "x_train=x_train.to_numpy()\n",
    "#Add data dimension, doesn't actually change the data but that's how the input is expected, like it could have multiple values per timestamp\n",
    "x_train=x_train.reshape([-1,186,1])"
   ]
  },
  {
   "cell_type": "code",
   "execution_count": 10,
   "metadata": {
    "collapsed": false
   },
   "outputs": [],
   "source": [
    "y_test=y_test.to_numpy()\n",
    "x_test=x_test.to_numpy()\n",
    "#Add data dimension, doesn't actually change the data but that's how the input is expected, like it could have multiple values per timestamp\n",
    "x_test=x_test.reshape([-1,186,1])"
   ]
  },
  {
   "cell_type": "code",
   "execution_count": 11,
   "metadata": {
    "collapsed": false
   },
   "outputs": [],
   "source": [
    "model=tf.keras.Sequential([\n",
    "    layers.Conv1D(7, 7, activation='relu', input_shape=(186,1)),\n",
    "    layers.BatchNormalization(),\n",
    "    layers.MaxPool1D(),\n",
    "    layers.Conv1D(5,5,activation='relu'),\n",
    "    layers.BatchNormalization(),\n",
    "    layers.MaxPool1D(),\n",
    "    layers.Conv1D(3,3,activation='relu'),\n",
    "    layers.BatchNormalization(),\n",
    "    layers.MaxPool1D(),\n",
    "    layers.Flatten(),\n",
    "    layers.Dense(64,activation='relu'),\n",
    "    layers.Dropout(0.2),\n",
    "    layers.Dense(32,activation='relu'),\n",
    "    layers.Dropout(0.2),\n",
    "    layers.Dense(1,activation='sigmoid') #softmax cuz categories\n",
    "])"
   ]
  },
  {
   "cell_type": "code",
   "execution_count": 12,
   "metadata": {
    "collapsed": false
   },
   "outputs": [
    {
     "name": "stdout",
     "output_type": "stream",
     "text": [
      "Epoch 1/200\n",
      "582/582 [==============================] - 9s 14ms/step - loss: 0.3841 - accuracy: 0.8468 - val_loss: 0.3556 - val_accuracy: 0.8691\n",
      "Epoch 2/200\n",
      "582/582 [==============================] - 8s 14ms/step - loss: 0.2642 - accuracy: 0.8949 - val_loss: 0.2263 - val_accuracy: 0.9090\n",
      "Epoch 3/200\n",
      "582/582 [==============================] - 8s 14ms/step - loss: 0.2224 - accuracy: 0.9125 - val_loss: 0.2002 - val_accuracy: 0.9232\n",
      "Epoch 4/200\n",
      "582/582 [==============================] - 8s 13ms/step - loss: 0.1998 - accuracy: 0.9231 - val_loss: 0.1789 - val_accuracy: 0.9328\n",
      "Epoch 5/200\n",
      "582/582 [==============================] - 8s 14ms/step - loss: 0.1819 - accuracy: 0.9312 - val_loss: 0.1882 - val_accuracy: 0.9287\n",
      "Epoch 6/200\n",
      "582/582 [==============================] - 8s 14ms/step - loss: 0.1715 - accuracy: 0.9365 - val_loss: 0.1643 - val_accuracy: 0.9415\n",
      "Epoch 7/200\n",
      "582/582 [==============================] - 8s 13ms/step - loss: 0.1601 - accuracy: 0.9411 - val_loss: 0.1674 - val_accuracy: 0.9363\n",
      "Epoch 8/200\n",
      "582/582 [==============================] - 8s 13ms/step - loss: 0.1540 - accuracy: 0.9433 - val_loss: 0.1590 - val_accuracy: 0.9402\n",
      "Epoch 9/200\n",
      "582/582 [==============================] - 8s 13ms/step - loss: 0.1498 - accuracy: 0.9446 - val_loss: 0.1670 - val_accuracy: 0.9374\n",
      "Epoch 10/200\n",
      "582/582 [==============================] - 8s 13ms/step - loss: 0.1450 - accuracy: 0.9474 - val_loss: 0.1473 - val_accuracy: 0.9457\n",
      "Epoch 11/200\n",
      "582/582 [==============================] - 8s 13ms/step - loss: 0.1400 - accuracy: 0.9484 - val_loss: 0.1539 - val_accuracy: 0.9430\n",
      "Epoch 12/200\n",
      "582/582 [==============================] - 8s 13ms/step - loss: 0.1386 - accuracy: 0.9490 - val_loss: 0.1298 - val_accuracy: 0.9527\n",
      "Epoch 13/200\n",
      "582/582 [==============================] - 7s 13ms/step - loss: 0.1353 - accuracy: 0.9505 - val_loss: 0.2171 - val_accuracy: 0.9135\n",
      "Epoch 14/200\n",
      "582/582 [==============================] - 7s 13ms/step - loss: 0.1342 - accuracy: 0.9509 - val_loss: 0.1327 - val_accuracy: 0.9492\n",
      "Epoch 15/200\n",
      "582/582 [==============================] - 8s 13ms/step - loss: 0.1306 - accuracy: 0.9529 - val_loss: 0.1256 - val_accuracy: 0.9526\n",
      "Epoch 16/200\n",
      "582/582 [==============================] - 8s 13ms/step - loss: 0.1295 - accuracy: 0.9529 - val_loss: 0.1311 - val_accuracy: 0.9517\n",
      "Epoch 17/200\n",
      "582/582 [==============================] - 8s 13ms/step - loss: 0.1282 - accuracy: 0.9536 - val_loss: 0.1510 - val_accuracy: 0.9429\n",
      "Epoch 18/200\n",
      "582/582 [==============================] - 8s 13ms/step - loss: 0.1264 - accuracy: 0.9537 - val_loss: 0.1224 - val_accuracy: 0.9546\n",
      "Epoch 19/200\n",
      "582/582 [==============================] - 7s 13ms/step - loss: 0.1235 - accuracy: 0.9550 - val_loss: 0.1706 - val_accuracy: 0.9351\n",
      "Epoch 20/200\n",
      "582/582 [==============================] - 8s 13ms/step - loss: 0.1239 - accuracy: 0.9547 - val_loss: 0.1230 - val_accuracy: 0.9541\n",
      "Epoch 21/200\n",
      "582/582 [==============================] - 8s 13ms/step - loss: 0.1231 - accuracy: 0.9553 - val_loss: 0.1663 - val_accuracy: 0.9371\n",
      "Epoch 22/200\n",
      "582/582 [==============================] - 8s 14ms/step - loss: 0.1200 - accuracy: 0.9566 - val_loss: 0.1644 - val_accuracy: 0.9377\n",
      "Epoch 23/200\n",
      "582/582 [==============================] - 8s 13ms/step - loss: 0.1202 - accuracy: 0.9564 - val_loss: 0.1443 - val_accuracy: 0.9456\n",
      "Epoch 24/200\n",
      "582/582 [==============================] - 8s 14ms/step - loss: 0.1179 - accuracy: 0.9563 - val_loss: 0.1359 - val_accuracy: 0.9502\n",
      "Epoch 25/200\n",
      "582/582 [==============================] - 8s 13ms/step - loss: 0.1165 - accuracy: 0.9579 - val_loss: 0.1334 - val_accuracy: 0.9529\n",
      "Epoch 26/200\n",
      "582/582 [==============================] - 8s 13ms/step - loss: 0.1158 - accuracy: 0.9578 - val_loss: 0.1151 - val_accuracy: 0.9577\n",
      "Epoch 27/200\n",
      "582/582 [==============================] - 8s 14ms/step - loss: 0.1148 - accuracy: 0.9586 - val_loss: 0.2663 - val_accuracy: 0.8960\n",
      "Epoch 28/200\n",
      "582/582 [==============================] - 8s 13ms/step - loss: 0.1147 - accuracy: 0.9570 - val_loss: 0.1145 - val_accuracy: 0.9583\n",
      "Epoch 29/200\n",
      "582/582 [==============================] - 8s 13ms/step - loss: 0.1142 - accuracy: 0.9594 - val_loss: 0.1167 - val_accuracy: 0.9572\n",
      "Epoch 30/200\n",
      "582/582 [==============================] - 8s 14ms/step - loss: 0.1117 - accuracy: 0.9589 - val_loss: 0.1274 - val_accuracy: 0.9535\n",
      "Epoch 31/200\n",
      "582/582 [==============================] - 8s 13ms/step - loss: 0.1112 - accuracy: 0.9592 - val_loss: 0.1220 - val_accuracy: 0.9548\n",
      "Epoch 32/200\n",
      "582/582 [==============================] - 8s 13ms/step - loss: 0.1098 - accuracy: 0.9600 - val_loss: 0.1145 - val_accuracy: 0.9584\n",
      "Epoch 33/200\n",
      "582/582 [==============================] - 8s 13ms/step - loss: 0.1102 - accuracy: 0.9595 - val_loss: 0.1124 - val_accuracy: 0.9591\n",
      "Epoch 34/200\n",
      "582/582 [==============================] - 8s 13ms/step - loss: 0.1090 - accuracy: 0.9608 - val_loss: 0.1443 - val_accuracy: 0.9470\n",
      "Epoch 35/200\n",
      "582/582 [==============================] - 7s 13ms/step - loss: 0.1099 - accuracy: 0.9597 - val_loss: 0.1134 - val_accuracy: 0.9588\n",
      "Epoch 36/200\n",
      "582/582 [==============================] - 8s 14ms/step - loss: 0.1093 - accuracy: 0.9601 - val_loss: 0.1188 - val_accuracy: 0.9577\n",
      "Epoch 37/200\n",
      "582/582 [==============================] - 8s 13ms/step - loss: 0.1077 - accuracy: 0.9603 - val_loss: 0.1500 - val_accuracy: 0.9456\n",
      "Epoch 38/200\n",
      "582/582 [==============================] - 8s 13ms/step - loss: 0.1072 - accuracy: 0.9615 - val_loss: 0.1265 - val_accuracy: 0.9528\n",
      "Epoch 39/200\n",
      "582/582 [==============================] - 8s 13ms/step - loss: 0.1065 - accuracy: 0.9612 - val_loss: 0.1301 - val_accuracy: 0.9516\n",
      "Epoch 40/200\n",
      "582/582 [==============================] - 7s 13ms/step - loss: 0.1064 - accuracy: 0.9617 - val_loss: 0.1091 - val_accuracy: 0.9596\n",
      "Epoch 41/200\n",
      "582/582 [==============================] - 8s 13ms/step - loss: 0.1047 - accuracy: 0.9616 - val_loss: 0.1130 - val_accuracy: 0.9585\n",
      "Epoch 42/200\n",
      "582/582 [==============================] - 8s 13ms/step - loss: 0.1047 - accuracy: 0.9617 - val_loss: 0.1106 - val_accuracy: 0.9595\n",
      "Epoch 43/200\n",
      "582/582 [==============================] - 7s 13ms/step - loss: 0.1049 - accuracy: 0.9619 - val_loss: 0.1321 - val_accuracy: 0.9509\n",
      "Epoch 44/200\n",
      "582/582 [==============================] - 8s 13ms/step - loss: 0.1044 - accuracy: 0.9619 - val_loss: 0.1091 - val_accuracy: 0.9611\n",
      "Epoch 45/200\n",
      "582/582 [==============================] - 7s 13ms/step - loss: 0.1040 - accuracy: 0.9618 - val_loss: 0.1141 - val_accuracy: 0.9589\n",
      "Epoch 46/200\n",
      "582/582 [==============================] - 8s 13ms/step - loss: 0.1036 - accuracy: 0.9624 - val_loss: 0.1115 - val_accuracy: 0.9601\n",
      "Epoch 47/200\n",
      "582/582 [==============================] - 8s 13ms/step - loss: 0.1012 - accuracy: 0.9632 - val_loss: 0.1222 - val_accuracy: 0.9538\n",
      "Epoch 48/200\n",
      "582/582 [==============================] - 8s 13ms/step - loss: 0.1039 - accuracy: 0.9623 - val_loss: 0.1066 - val_accuracy: 0.9614\n",
      "Epoch 49/200\n",
      "582/582 [==============================] - 8s 13ms/step - loss: 0.1014 - accuracy: 0.9635 - val_loss: 0.1462 - val_accuracy: 0.9465\n",
      "Epoch 50/200\n",
      "582/582 [==============================] - 8s 13ms/step - loss: 0.1010 - accuracy: 0.9636 - val_loss: 0.1111 - val_accuracy: 0.9588\n",
      "Epoch 51/200\n",
      "582/582 [==============================] - 7s 13ms/step - loss: 0.0995 - accuracy: 0.9636 - val_loss: 0.2122 - val_accuracy: 0.9270\n",
      "Epoch 52/200\n",
      "582/582 [==============================] - 7s 13ms/step - loss: 0.1010 - accuracy: 0.9629 - val_loss: 0.1117 - val_accuracy: 0.9586\n",
      "Epoch 53/200\n",
      "582/582 [==============================] - 8s 13ms/step - loss: 0.1012 - accuracy: 0.9629 - val_loss: 0.1065 - val_accuracy: 0.9611\n",
      "Epoch 54/200\n",
      "582/582 [==============================] - 8s 13ms/step - loss: 0.1004 - accuracy: 0.9635 - val_loss: 0.1600 - val_accuracy: 0.9409\n",
      "Epoch 55/200\n",
      "582/582 [==============================] - 7s 13ms/step - loss: 0.0987 - accuracy: 0.9640 - val_loss: 0.1102 - val_accuracy: 0.9604\n",
      "Epoch 56/200\n",
      "582/582 [==============================] - 7s 12ms/step - loss: 0.0995 - accuracy: 0.9634 - val_loss: 0.1435 - val_accuracy: 0.9471\n",
      "Epoch 57/200\n",
      "582/582 [==============================] - 8s 13ms/step - loss: 0.0989 - accuracy: 0.9643 - val_loss: 0.1148 - val_accuracy: 0.9580\n",
      "Epoch 58/200\n",
      "582/582 [==============================] - 7s 12ms/step - loss: 0.0986 - accuracy: 0.9642 - val_loss: 0.1040 - val_accuracy: 0.9604\n",
      "Epoch 59/200\n",
      "582/582 [==============================] - 7s 13ms/step - loss: 0.0975 - accuracy: 0.9650 - val_loss: 0.3164 - val_accuracy: 0.8782\n",
      "Epoch 60/200\n",
      "582/582 [==============================] - 7s 13ms/step - loss: 0.0964 - accuracy: 0.9651 - val_loss: 0.1412 - val_accuracy: 0.9483\n",
      "Epoch 61/200\n",
      "582/582 [==============================] - 8s 13ms/step - loss: 0.0977 - accuracy: 0.9645 - val_loss: 0.1080 - val_accuracy: 0.9611\n",
      "Epoch 62/200\n",
      "582/582 [==============================] - 8s 13ms/step - loss: 0.0975 - accuracy: 0.9651 - val_loss: 0.1052 - val_accuracy: 0.9612\n",
      "Epoch 63/200\n",
      "582/582 [==============================] - 8s 13ms/step - loss: 0.0960 - accuracy: 0.9650 - val_loss: 0.1110 - val_accuracy: 0.9609\n",
      "Epoch 64/200\n",
      "582/582 [==============================] - 8s 13ms/step - loss: 0.0968 - accuracy: 0.9652 - val_loss: 0.1047 - val_accuracy: 0.9619\n",
      "Epoch 65/200\n",
      "582/582 [==============================] - 7s 13ms/step - loss: 0.0981 - accuracy: 0.9642 - val_loss: 0.1111 - val_accuracy: 0.9587\n",
      "Epoch 66/200\n",
      "582/582 [==============================] - 8s 13ms/step - loss: 0.0959 - accuracy: 0.9647 - val_loss: 0.1141 - val_accuracy: 0.9581\n",
      "Epoch 67/200\n",
      "582/582 [==============================] - 8s 13ms/step - loss: 0.0944 - accuracy: 0.9653 - val_loss: 0.1134 - val_accuracy: 0.9589\n",
      "Epoch 68/200\n",
      "582/582 [==============================] - 8s 13ms/step - loss: 0.0977 - accuracy: 0.9643 - val_loss: 0.1204 - val_accuracy: 0.9575\n",
      "Epoch 69/200\n",
      "582/582 [==============================] - 8s 13ms/step - loss: 0.0963 - accuracy: 0.9646 - val_loss: 0.1071 - val_accuracy: 0.9604\n",
      "Epoch 70/200\n",
      "582/582 [==============================] - 9s 15ms/step - loss: 0.0955 - accuracy: 0.9655 - val_loss: 0.1135 - val_accuracy: 0.9586\n",
      "Epoch 71/200\n",
      "582/582 [==============================] - 8s 14ms/step - loss: 0.0956 - accuracy: 0.9650 - val_loss: 0.1020 - val_accuracy: 0.9628\n",
      "Epoch 72/200\n",
      "582/582 [==============================] - 8s 15ms/step - loss: 0.0940 - accuracy: 0.9655 - val_loss: 0.1135 - val_accuracy: 0.9584\n",
      "Epoch 73/200\n",
      "582/582 [==============================] - 8s 14ms/step - loss: 0.0945 - accuracy: 0.9657 - val_loss: 0.1047 - val_accuracy: 0.9625\n",
      "Epoch 74/200\n",
      "582/582 [==============================] - 8s 13ms/step - loss: 0.0928 - accuracy: 0.9667 - val_loss: 0.1468 - val_accuracy: 0.9480\n",
      "Epoch 75/200\n",
      "582/582 [==============================] - 8s 14ms/step - loss: 0.0968 - accuracy: 0.9654 - val_loss: 0.1034 - val_accuracy: 0.9628\n",
      "Epoch 76/200\n",
      "582/582 [==============================] - 8s 13ms/step - loss: 0.0934 - accuracy: 0.9652 - val_loss: 0.2897 - val_accuracy: 0.8933\n",
      "Epoch 77/200\n",
      "582/582 [==============================] - 8s 13ms/step - loss: 0.0962 - accuracy: 0.9644 - val_loss: 0.1020 - val_accuracy: 0.9627\n",
      "Epoch 78/200\n",
      "582/582 [==============================] - 8s 13ms/step - loss: 0.0961 - accuracy: 0.9652 - val_loss: 0.1024 - val_accuracy: 0.9628\n",
      "Epoch 79/200\n",
      "582/582 [==============================] - 8s 15ms/step - loss: 0.0929 - accuracy: 0.9668 - val_loss: 0.1100 - val_accuracy: 0.9603\n",
      "Epoch 80/200\n",
      "582/582 [==============================] - 8s 14ms/step - loss: 0.0922 - accuracy: 0.9670 - val_loss: 0.1038 - val_accuracy: 0.9620\n",
      "Epoch 81/200\n",
      "582/582 [==============================] - 8s 13ms/step - loss: 0.0952 - accuracy: 0.9660 - val_loss: 0.1261 - val_accuracy: 0.9546\n",
      "Epoch 82/200\n",
      "582/582 [==============================] - 8s 13ms/step - loss: 0.0917 - accuracy: 0.9664 - val_loss: 0.1169 - val_accuracy: 0.9583\n",
      "Epoch 83/200\n",
      "582/582 [==============================] - 8s 13ms/step - loss: 0.0926 - accuracy: 0.9666 - val_loss: 0.1554 - val_accuracy: 0.9435\n",
      "Epoch 84/200\n",
      "582/582 [==============================] - 8s 13ms/step - loss: 0.0925 - accuracy: 0.9660 - val_loss: 0.1019 - val_accuracy: 0.9635\n",
      "Epoch 85/200\n",
      "582/582 [==============================] - 8s 14ms/step - loss: 0.0920 - accuracy: 0.9668 - val_loss: 0.1112 - val_accuracy: 0.9594\n",
      "Epoch 86/200\n",
      "582/582 [==============================] - 8s 13ms/step - loss: 0.0929 - accuracy: 0.9660 - val_loss: 0.1094 - val_accuracy: 0.9596\n",
      "Epoch 87/200\n",
      "582/582 [==============================] - 8s 14ms/step - loss: 0.0935 - accuracy: 0.9657 - val_loss: 0.1101 - val_accuracy: 0.9601\n",
      "Epoch 88/200\n",
      "582/582 [==============================] - 8s 14ms/step - loss: 0.0924 - accuracy: 0.9668 - val_loss: 0.1265 - val_accuracy: 0.9541\n",
      "Epoch 89/200\n",
      "582/582 [==============================] - 8s 14ms/step - loss: 0.0918 - accuracy: 0.9657 - val_loss: 0.1438 - val_accuracy: 0.9477\n",
      "Epoch 90/200\n",
      "582/582 [==============================] - 8s 14ms/step - loss: 0.0915 - accuracy: 0.9663 - val_loss: 0.1053 - val_accuracy: 0.9619\n",
      "Epoch 91/200\n",
      "582/582 [==============================] - 8s 13ms/step - loss: 0.0908 - accuracy: 0.9668 - val_loss: 0.1062 - val_accuracy: 0.9614\n",
      "Epoch 92/200\n",
      "582/582 [==============================] - 8s 13ms/step - loss: 0.0894 - accuracy: 0.9675 - val_loss: 0.3093 - val_accuracy: 0.8916\n",
      "Epoch 93/200\n",
      "582/582 [==============================] - 8s 13ms/step - loss: 0.0913 - accuracy: 0.9674 - val_loss: 0.1030 - val_accuracy: 0.9635\n",
      "Epoch 94/200\n",
      "582/582 [==============================] - 8s 13ms/step - loss: 0.0904 - accuracy: 0.9670 - val_loss: 0.1123 - val_accuracy: 0.9605\n",
      "Epoch 95/200\n",
      "582/582 [==============================] - 8s 15ms/step - loss: 0.0904 - accuracy: 0.9671 - val_loss: 0.1781 - val_accuracy: 0.9348\n",
      "Epoch 96/200\n",
      "582/582 [==============================] - 8s 14ms/step - loss: 0.0896 - accuracy: 0.9672 - val_loss: 0.0990 - val_accuracy: 0.9650\n",
      "Epoch 97/200\n",
      "582/582 [==============================] - 8s 13ms/step - loss: 0.0907 - accuracy: 0.9671 - val_loss: 0.0990 - val_accuracy: 0.9658\n",
      "Epoch 98/200\n",
      "582/582 [==============================] - 8s 13ms/step - loss: 0.0900 - accuracy: 0.9675 - val_loss: 0.1019 - val_accuracy: 0.9640\n",
      "Epoch 99/200\n",
      "582/582 [==============================] - 8s 13ms/step - loss: 0.0881 - accuracy: 0.9685 - val_loss: 0.1060 - val_accuracy: 0.9629\n",
      "Epoch 100/200\n",
      "582/582 [==============================] - 8s 13ms/step - loss: 0.0898 - accuracy: 0.9671 - val_loss: 0.1032 - val_accuracy: 0.9624\n",
      "Epoch 101/200\n",
      "582/582 [==============================] - 8s 13ms/step - loss: 0.0885 - accuracy: 0.9676 - val_loss: 0.1031 - val_accuracy: 0.9620\n",
      "Epoch 102/200\n",
      "582/582 [==============================] - 8s 14ms/step - loss: 0.0902 - accuracy: 0.9672 - val_loss: 0.1757 - val_accuracy: 0.9374\n",
      "Epoch 103/200\n",
      "582/582 [==============================] - 8s 14ms/step - loss: 0.0884 - accuracy: 0.9680 - val_loss: 0.1063 - val_accuracy: 0.9610\n",
      "Epoch 104/200\n",
      "582/582 [==============================] - 8s 14ms/step - loss: 0.0908 - accuracy: 0.9673 - val_loss: 0.1026 - val_accuracy: 0.9639\n",
      "Epoch 105/200\n",
      "582/582 [==============================] - 9s 15ms/step - loss: 0.0873 - accuracy: 0.9683 - val_loss: 0.1006 - val_accuracy: 0.9653\n",
      "Epoch 106/200\n",
      "582/582 [==============================] - 9s 15ms/step - loss: 0.0875 - accuracy: 0.9677 - val_loss: 0.1071 - val_accuracy: 0.9615\n",
      "Epoch 107/200\n",
      "582/582 [==============================] - 8s 13ms/step - loss: 0.0903 - accuracy: 0.9667 - val_loss: 0.1109 - val_accuracy: 0.9612\n",
      "Epoch 108/200\n",
      "582/582 [==============================] - 8s 13ms/step - loss: 0.0885 - accuracy: 0.9678 - val_loss: 0.0997 - val_accuracy: 0.9630\n",
      "Epoch 109/200\n",
      "582/582 [==============================] - 8s 13ms/step - loss: 0.0876 - accuracy: 0.9681 - val_loss: 0.1140 - val_accuracy: 0.9598\n",
      "Epoch 110/200\n",
      "582/582 [==============================] - 8s 13ms/step - loss: 0.0870 - accuracy: 0.9678 - val_loss: 0.1422 - val_accuracy: 0.9497\n",
      "Epoch 111/200\n",
      "582/582 [==============================] - 8s 13ms/step - loss: 0.0867 - accuracy: 0.9676 - val_loss: 0.1185 - val_accuracy: 0.9566\n",
      "Epoch 112/200\n",
      "582/582 [==============================] - 8s 13ms/step - loss: 0.0882 - accuracy: 0.9680 - val_loss: 0.1126 - val_accuracy: 0.9591\n",
      "Epoch 113/200\n",
      "582/582 [==============================] - 7s 13ms/step - loss: 0.0865 - accuracy: 0.9686 - val_loss: 0.1023 - val_accuracy: 0.9638\n",
      "Epoch 114/200\n",
      "582/582 [==============================] - 8s 13ms/step - loss: 0.0863 - accuracy: 0.9689 - val_loss: 0.1187 - val_accuracy: 0.9574\n",
      "Epoch 115/200\n",
      "582/582 [==============================] - 8s 13ms/step - loss: 0.0874 - accuracy: 0.9683 - val_loss: 0.1135 - val_accuracy: 0.9603\n",
      "Epoch 116/200\n",
      "582/582 [==============================] - 8s 14ms/step - loss: 0.0866 - accuracy: 0.9683 - val_loss: 0.1027 - val_accuracy: 0.9634\n",
      "Epoch 117/200\n",
      "582/582 [==============================] - 8s 13ms/step - loss: 0.0874 - accuracy: 0.9683 - val_loss: 0.0964 - val_accuracy: 0.9659\n",
      "Epoch 118/200\n",
      "582/582 [==============================] - 8s 14ms/step - loss: 0.0874 - accuracy: 0.9677 - val_loss: 0.1057 - val_accuracy: 0.9627\n",
      "Epoch 119/200\n",
      "582/582 [==============================] - 8s 14ms/step - loss: 0.0846 - accuracy: 0.9694 - val_loss: 0.1062 - val_accuracy: 0.9633\n",
      "Epoch 120/200\n",
      "582/582 [==============================] - 8s 13ms/step - loss: 0.0874 - accuracy: 0.9684 - val_loss: 0.1777 - val_accuracy: 0.9349\n",
      "Epoch 121/200\n",
      "582/582 [==============================] - 8s 14ms/step - loss: 0.0868 - accuracy: 0.9691 - val_loss: 0.1375 - val_accuracy: 0.9490\n",
      "Epoch 122/200\n",
      "582/582 [==============================] - 8s 14ms/step - loss: 0.0860 - accuracy: 0.9687 - val_loss: 0.1165 - val_accuracy: 0.9575\n",
      "Epoch 123/200\n",
      "582/582 [==============================] - 8s 14ms/step - loss: 0.0854 - accuracy: 0.9682 - val_loss: 0.1137 - val_accuracy: 0.9588\n",
      "Epoch 124/200\n",
      "582/582 [==============================] - 8s 14ms/step - loss: 0.0864 - accuracy: 0.9682 - val_loss: 0.1490 - val_accuracy: 0.9470\n",
      "Epoch 125/200\n",
      "582/582 [==============================] - 8s 14ms/step - loss: 0.0867 - accuracy: 0.9680 - val_loss: 0.1071 - val_accuracy: 0.9613\n",
      "Epoch 126/200\n",
      "582/582 [==============================] - 8s 15ms/step - loss: 0.0871 - accuracy: 0.9681 - val_loss: 0.1164 - val_accuracy: 0.9565\n",
      "Epoch 127/200\n",
      "582/582 [==============================] - 8s 13ms/step - loss: 0.0843 - accuracy: 0.9693 - val_loss: 0.1021 - val_accuracy: 0.9631\n",
      "Epoch 128/200\n",
      "582/582 [==============================] - 8s 13ms/step - loss: 0.0864 - accuracy: 0.9686 - val_loss: 0.0972 - val_accuracy: 0.9656\n",
      "Epoch 129/200\n",
      "582/582 [==============================] - 8s 13ms/step - loss: 0.0868 - accuracy: 0.9681 - val_loss: 0.1159 - val_accuracy: 0.9585\n",
      "Epoch 130/200\n",
      "582/582 [==============================] - 8s 14ms/step - loss: 0.0882 - accuracy: 0.9675 - val_loss: 0.1199 - val_accuracy: 0.9567\n",
      "Epoch 131/200\n",
      "582/582 [==============================] - 8s 14ms/step - loss: 0.0849 - accuracy: 0.9687 - val_loss: 0.1200 - val_accuracy: 0.9582\n",
      "Epoch 132/200\n",
      "582/582 [==============================] - 8s 14ms/step - loss: 0.0852 - accuracy: 0.9690 - val_loss: 0.1083 - val_accuracy: 0.9610\n",
      "Epoch 133/200\n",
      "582/582 [==============================] - 8s 13ms/step - loss: 0.0842 - accuracy: 0.9688 - val_loss: 0.1130 - val_accuracy: 0.9608\n",
      "Epoch 134/200\n",
      "582/582 [==============================] - 8s 13ms/step - loss: 0.0852 - accuracy: 0.9684 - val_loss: 0.1118 - val_accuracy: 0.9598\n",
      "Epoch 135/200\n",
      "582/582 [==============================] - 8s 13ms/step - loss: 0.0852 - accuracy: 0.9683 - val_loss: 0.1405 - val_accuracy: 0.9484\n",
      "Epoch 136/200\n",
      "582/582 [==============================] - 8s 13ms/step - loss: 0.0839 - accuracy: 0.9697 - val_loss: 0.1079 - val_accuracy: 0.9605\n",
      "Epoch 137/200\n",
      "582/582 [==============================] - 8s 13ms/step - loss: 0.0854 - accuracy: 0.9689 - val_loss: 0.1020 - val_accuracy: 0.9644\n",
      "Epoch 138/200\n",
      "582/582 [==============================] - 8s 13ms/step - loss: 0.0834 - accuracy: 0.9695 - val_loss: 0.1172 - val_accuracy: 0.9569\n",
      "Epoch 139/200\n",
      "582/582 [==============================] - 8s 13ms/step - loss: 0.0859 - accuracy: 0.9682 - val_loss: 0.0993 - val_accuracy: 0.9649\n",
      "Epoch 140/200\n",
      "582/582 [==============================] - 8s 13ms/step - loss: 0.0845 - accuracy: 0.9686 - val_loss: 0.1495 - val_accuracy: 0.9449\n",
      "Epoch 141/200\n",
      "582/582 [==============================] - 8s 13ms/step - loss: 0.0856 - accuracy: 0.9684 - val_loss: 0.1202 - val_accuracy: 0.9588\n",
      "Epoch 142/200\n",
      "582/582 [==============================] - 8s 13ms/step - loss: 0.0844 - accuracy: 0.9687 - val_loss: 0.0998 - val_accuracy: 0.9651\n",
      "Epoch 143/200\n",
      "582/582 [==============================] - 8s 13ms/step - loss: 0.0853 - accuracy: 0.9693 - val_loss: 0.1125 - val_accuracy: 0.9601\n",
      "Epoch 144/200\n",
      "582/582 [==============================] - 8s 13ms/step - loss: 0.0836 - accuracy: 0.9693 - val_loss: 0.1010 - val_accuracy: 0.9649\n",
      "Epoch 145/200\n",
      "582/582 [==============================] - 8s 13ms/step - loss: 0.0825 - accuracy: 0.9695 - val_loss: 0.1447 - val_accuracy: 0.9463\n",
      "Epoch 146/200\n",
      "582/582 [==============================] - 8s 13ms/step - loss: 0.0845 - accuracy: 0.9690 - val_loss: 0.1013 - val_accuracy: 0.9640\n",
      "Epoch 147/200\n",
      "582/582 [==============================] - 8s 13ms/step - loss: 0.0853 - accuracy: 0.9686 - val_loss: 0.1108 - val_accuracy: 0.9619\n",
      "Epoch 148/200\n",
      "582/582 [==============================] - 8s 13ms/step - loss: 0.0834 - accuracy: 0.9697 - val_loss: 0.1039 - val_accuracy: 0.9618\n",
      "Epoch 149/200\n",
      "582/582 [==============================] - 8s 13ms/step - loss: 0.0839 - accuracy: 0.9691 - val_loss: 0.1214 - val_accuracy: 0.9555\n",
      "Epoch 150/200\n",
      "582/582 [==============================] - 8s 13ms/step - loss: 0.0825 - accuracy: 0.9696 - val_loss: 0.1078 - val_accuracy: 0.9616\n",
      "Epoch 151/200\n",
      "582/582 [==============================] - 8s 13ms/step - loss: 0.0841 - accuracy: 0.9687 - val_loss: 0.1079 - val_accuracy: 0.9612\n",
      "Epoch 152/200\n",
      "582/582 [==============================] - 8s 13ms/step - loss: 0.0841 - accuracy: 0.9691 - val_loss: 0.0983 - val_accuracy: 0.9654\n",
      "Epoch 153/200\n",
      "582/582 [==============================] - 8s 13ms/step - loss: 0.0837 - accuracy: 0.9696 - val_loss: 0.0957 - val_accuracy: 0.9665\n",
      "Epoch 154/200\n",
      "582/582 [==============================] - 8s 13ms/step - loss: 0.0815 - accuracy: 0.9704 - val_loss: 0.0981 - val_accuracy: 0.9642\n",
      "Epoch 155/200\n",
      "582/582 [==============================] - 8s 13ms/step - loss: 0.0831 - accuracy: 0.9689 - val_loss: 0.0994 - val_accuracy: 0.9648\n",
      "Epoch 156/200\n",
      "582/582 [==============================] - 8s 13ms/step - loss: 0.0834 - accuracy: 0.9695 - val_loss: 0.1023 - val_accuracy: 0.9623\n",
      "Epoch 157/200\n",
      "582/582 [==============================] - 8s 13ms/step - loss: 0.0824 - accuracy: 0.9698 - val_loss: 0.0976 - val_accuracy: 0.9649\n",
      "Epoch 158/200\n",
      "582/582 [==============================] - 8s 13ms/step - loss: 0.0832 - accuracy: 0.9699 - val_loss: 0.0999 - val_accuracy: 0.9651\n",
      "Epoch 159/200\n",
      "582/582 [==============================] - 8s 13ms/step - loss: 0.0839 - accuracy: 0.9691 - val_loss: 0.1034 - val_accuracy: 0.9627\n",
      "Epoch 160/200\n",
      "582/582 [==============================] - 8s 13ms/step - loss: 0.0822 - accuracy: 0.9703 - val_loss: 0.1323 - val_accuracy: 0.9523\n",
      "Epoch 161/200\n",
      "582/582 [==============================] - 8s 13ms/step - loss: 0.0822 - accuracy: 0.9691 - val_loss: 0.1442 - val_accuracy: 0.9465\n",
      "Epoch 162/200\n",
      "582/582 [==============================] - 8s 13ms/step - loss: 0.0828 - accuracy: 0.9693 - val_loss: 0.0966 - val_accuracy: 0.9666\n",
      "Epoch 163/200\n",
      "582/582 [==============================] - 8s 13ms/step - loss: 0.0815 - accuracy: 0.9699 - val_loss: 0.1010 - val_accuracy: 0.9635\n",
      "Epoch 164/200\n",
      "582/582 [==============================] - 8s 13ms/step - loss: 0.0799 - accuracy: 0.9708 - val_loss: 0.1044 - val_accuracy: 0.9631\n",
      "Epoch 165/200\n",
      "582/582 [==============================] - 8s 13ms/step - loss: 0.0844 - accuracy: 0.9687 - val_loss: 0.1010 - val_accuracy: 0.9648\n",
      "Epoch 166/200\n",
      "582/582 [==============================] - 8s 13ms/step - loss: 0.0816 - accuracy: 0.9695 - val_loss: 0.1289 - val_accuracy: 0.9549\n",
      "Epoch 167/200\n",
      "582/582 [==============================] - 8s 13ms/step - loss: 0.0822 - accuracy: 0.9694 - val_loss: 0.0998 - val_accuracy: 0.9642\n",
      "Epoch 168/200\n",
      "582/582 [==============================] - 8s 13ms/step - loss: 0.0829 - accuracy: 0.9699 - val_loss: 0.1048 - val_accuracy: 0.9635\n",
      "Epoch 169/200\n",
      "582/582 [==============================] - 8s 14ms/step - loss: 0.0821 - accuracy: 0.9689 - val_loss: 0.0956 - val_accuracy: 0.9661\n",
      "Epoch 170/200\n",
      "582/582 [==============================] - 8s 13ms/step - loss: 0.0809 - accuracy: 0.9705 - val_loss: 0.0949 - val_accuracy: 0.9669\n",
      "Epoch 171/200\n",
      "582/582 [==============================] - 8s 13ms/step - loss: 0.0831 - accuracy: 0.9697 - val_loss: 0.1024 - val_accuracy: 0.9633\n",
      "Epoch 172/200\n",
      "582/582 [==============================] - 8s 13ms/step - loss: 0.0825 - accuracy: 0.9692 - val_loss: 0.1298 - val_accuracy: 0.9540\n",
      "Epoch 173/200\n",
      "582/582 [==============================] - 8s 13ms/step - loss: 0.0804 - accuracy: 0.9703 - val_loss: 0.1008 - val_accuracy: 0.9640\n",
      "Epoch 174/200\n",
      "582/582 [==============================] - 8s 13ms/step - loss: 0.0803 - accuracy: 0.9703 - val_loss: 0.0971 - val_accuracy: 0.9662\n",
      "Epoch 175/200\n",
      "582/582 [==============================] - 8s 13ms/step - loss: 0.0803 - accuracy: 0.9706 - val_loss: 0.1023 - val_accuracy: 0.9634\n",
      "Epoch 176/200\n",
      "582/582 [==============================] - 8s 13ms/step - loss: 0.0820 - accuracy: 0.9702 - val_loss: 0.1274 - val_accuracy: 0.9533\n",
      "Epoch 177/200\n",
      "582/582 [==============================] - 8s 13ms/step - loss: 0.0810 - accuracy: 0.9696 - val_loss: 0.1008 - val_accuracy: 0.9645\n",
      "Epoch 178/200\n",
      "582/582 [==============================] - 8s 13ms/step - loss: 0.0824 - accuracy: 0.9701 - val_loss: 0.1092 - val_accuracy: 0.9601\n",
      "Epoch 179/200\n",
      "582/582 [==============================] - 7s 13ms/step - loss: 0.0823 - accuracy: 0.9705 - val_loss: 0.0993 - val_accuracy: 0.9651\n",
      "Epoch 180/200\n",
      "582/582 [==============================] - 8s 13ms/step - loss: 0.0848 - accuracy: 0.9686 - val_loss: 0.1144 - val_accuracy: 0.9580\n",
      "Epoch 181/200\n",
      "582/582 [==============================] - 8s 13ms/step - loss: 0.0800 - accuracy: 0.9708 - val_loss: 0.1217 - val_accuracy: 0.9569\n",
      "Epoch 182/200\n",
      "582/582 [==============================] - 8s 13ms/step - loss: 0.0810 - accuracy: 0.9702 - val_loss: 0.1094 - val_accuracy: 0.9601\n",
      "Epoch 183/200\n",
      "582/582 [==============================] - 8s 14ms/step - loss: 0.0807 - accuracy: 0.9697 - val_loss: 0.1001 - val_accuracy: 0.9654\n",
      "Epoch 184/200\n",
      "582/582 [==============================] - 8s 13ms/step - loss: 0.0804 - accuracy: 0.9699 - val_loss: 0.1015 - val_accuracy: 0.9641\n",
      "Epoch 185/200\n",
      "582/582 [==============================] - 7s 13ms/step - loss: 0.0803 - accuracy: 0.9708 - val_loss: 0.1056 - val_accuracy: 0.9641\n",
      "Epoch 186/200\n",
      "582/582 [==============================] - 8s 13ms/step - loss: 0.0815 - accuracy: 0.9699 - val_loss: 0.1480 - val_accuracy: 0.9461\n",
      "Epoch 187/200\n",
      "582/582 [==============================] - 8s 13ms/step - loss: 0.0799 - accuracy: 0.9705 - val_loss: 0.1039 - val_accuracy: 0.9626\n",
      "Epoch 188/200\n",
      "582/582 [==============================] - 8s 13ms/step - loss: 0.0783 - accuracy: 0.9704 - val_loss: 0.0974 - val_accuracy: 0.9665\n",
      "Epoch 189/200\n",
      "582/582 [==============================] - 8s 14ms/step - loss: 0.0795 - accuracy: 0.9703 - val_loss: 0.0998 - val_accuracy: 0.9646\n",
      "Epoch 190/200\n",
      "582/582 [==============================] - 8s 13ms/step - loss: 0.0811 - accuracy: 0.9700 - val_loss: 0.1020 - val_accuracy: 0.9638\n",
      "Epoch 191/200\n",
      "582/582 [==============================] - 8s 13ms/step - loss: 0.0803 - accuracy: 0.9712 - val_loss: 0.0948 - val_accuracy: 0.9667\n",
      "Epoch 192/200\n",
      "582/582 [==============================] - 8s 13ms/step - loss: 0.0796 - accuracy: 0.9707 - val_loss: 0.1037 - val_accuracy: 0.9646\n",
      "Epoch 193/200\n",
      "582/582 [==============================] - 8s 13ms/step - loss: 0.0796 - accuracy: 0.9704 - val_loss: 0.0984 - val_accuracy: 0.9649\n",
      "Epoch 194/200\n",
      "582/582 [==============================] - 8s 14ms/step - loss: 0.0807 - accuracy: 0.9696 - val_loss: 0.1001 - val_accuracy: 0.9645\n",
      "Epoch 195/200\n",
      "582/582 [==============================] - 8s 14ms/step - loss: 0.0790 - accuracy: 0.9711 - val_loss: 0.1289 - val_accuracy: 0.9540\n",
      "Epoch 196/200\n",
      "582/582 [==============================] - 8s 14ms/step - loss: 0.0799 - accuracy: 0.9712 - val_loss: 0.1060 - val_accuracy: 0.9624\n",
      "Epoch 197/200\n",
      "582/582 [==============================] - 8s 13ms/step - loss: 0.0799 - accuracy: 0.9711 - val_loss: 0.1087 - val_accuracy: 0.9615\n",
      "Epoch 198/200\n",
      "582/582 [==============================] - 8s 13ms/step - loss: 0.0791 - accuracy: 0.9710 - val_loss: 0.0983 - val_accuracy: 0.9656\n",
      "Epoch 199/200\n",
      "582/582 [==============================] - 8s 13ms/step - loss: 0.0797 - accuracy: 0.9703 - val_loss: 0.1226 - val_accuracy: 0.9551\n",
      "Epoch 200/200\n",
      "582/582 [==============================] - 8s 13ms/step - loss: 0.0802 - accuracy: 0.9704 - val_loss: 0.0990 - val_accuracy: 0.9658\n"
     ]
    }
   ],
   "source": [
    "model.compile('adam',loss=tf.keras.losses.BinaryCrossentropy(),metrics=['accuracy']) #this was with validation\n",
    "history=model.fit(x_train,y_train,batch_size=128,epochs=200,verbose=True,validation_split=0.2)"
   ]
  },
  {
   "cell_type": "code",
   "execution_count": 13,
   "metadata": {
    "collapsed": false
   },
   "outputs": [
    {
     "data": {
      "text/plain": [
       "<matplotlib.legend.Legend at 0x1dcd2fe54e0>"
      ]
     },
     "execution_count": 13,
     "metadata": {},
     "output_type": "execute_result"
    },
    {
     "data": {
      "image/png": "[encoded data removed]",
      "text/plain": [
       "<Figure size 640x480 with 2 Axes>"
      ]
     },
     "metadata": {},
     "output_type": "display_data"
    }
   ],
   "source": [
    "fig, ax = plt.subplots(2,sharex=True)\n",
    "ax[0].set_title(\"Accuracy\")\n",
    "ax[0].plot(history.epoch, history.history['accuracy'],label='Train');\n",
    "ax[0].plot(history.epoch, history.history['val_accuracy'],label='Validation');\n",
    "ax[0].legend()\n",
    "ax[1].set_title(\"Loss\")\n",
    "ax[1].plot(history.epoch, history.history['loss'],label='Train');\n",
    "ax[1].plot(history.epoch, history.history['val_loss'],label='Validation');\n",
    "ax[1].legend()"
   ]
  },
  {
   "cell_type": "code",
   "execution_count": 14,
   "metadata": {
    "collapsed": false
   },
   "outputs": [
    {
     "name": "stdout",
     "output_type": "stream",
     "text": [
      "969/969 [==============================] - 2s 2ms/step - loss: 0.0916 - accuracy: 0.9679\n"
     ]
    },
    {
     "data": {
      "text/plain": [
       "[0.0915764793753624, 0.9679355025291443]"
      ]
     },
     "execution_count": 14,
     "metadata": {},
     "output_type": "execute_result"
    }
   ],
   "source": [
    "model.evaluate(x_test, y_test, verbose=True)"
   ]
  },
  {
   "cell_type": "code",
   "execution_count": 15,
   "metadata": {},
   "outputs": [
    {
     "name": "stdout",
     "output_type": "stream",
     "text": [
      "969/969 [==============================] - 2s 2ms/step\n",
      "              precision    recall  f1-score   support\n",
      "\n",
      "         0.0       0.97      0.99      0.98     23710\n",
      "         1.0       0.96      0.90      0.93      7290\n",
      "\n",
      "    accuracy                           0.97     31000\n",
      "   macro avg       0.96      0.95      0.95     31000\n",
      "weighted avg       0.97      0.97      0.97     31000\n",
      "\n"
     ]
    }
   ],
   "source": [
    "from sklearn.metrics import classification_report\n",
    "y_pred = model.predict(x_test)\n",
    "y_pred = np.round(y_pred)\n",
    "\n",
    "print(classification_report(y_test, y_pred))"
   ]
  }
 ],
 "metadata": {
  "kernelspec": {
   "display_name": "Python 3",
   "language": "python",
   "name": "python3"
  },
  "language_info": {
   "codemirror_mode": {
    "name": "ipython",
    "version": 3
   },
   "file_extension": ".py",
   "mimetype": "text/x-python",
   "name": "python",
   "nbconvert_exporter": "python",
   "pygments_lexer": "ipython3",
   "version": "3.10.0"
  },
  "vscode": {
   "interpreter": {
    "hash": "369f2c481f4da34e4445cda3fffd2e751bd1c4d706f27375911949ba6bb62e1c"
   }
  }
 },
 "nbformat": 4,
 "nbformat_minor": 0
}
