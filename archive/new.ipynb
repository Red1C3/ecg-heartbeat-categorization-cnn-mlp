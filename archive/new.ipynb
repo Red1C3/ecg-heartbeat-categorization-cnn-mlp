{
 "cells": [
  {
   "cell_type": "code",
   "execution_count": 1,
   "metadata": {
    "collapsed": true
   },
   "outputs": [],
   "source": [
    "import pandas as pd\n",
    "import tensorflow as tf\n",
    "import tensorflow.keras.layers as layers\n",
    "import matplotlib.pyplot as plt\n",
    "import numpy as np\n",
    "from sklearn.model_selection import train_test_split\n",
    "from tensorflow.keras.regularizers import l2,l1,l1_l2"
   ]
  },
  {
   "cell_type": "code",
   "execution_count": 2,
   "metadata": {
    "collapsed": false
   },
   "outputs": [],
   "source": [
    "#The dataset contains no header for columns, hence the header parameter\n",
    "train=pd.read_csv('./mitbih_train.csv',header=None)\n",
    "test=pd.read_csv('./mitbih_test.csv',header=None)"
   ]
  },
  {
   "cell_type": "code",
   "execution_count": 3,
   "metadata": {},
   "outputs": [],
   "source": [
    "#Last column is the category column, a scaler value from 0 to 4\n",
    "y_train2=train[train.columns[-1:]]\n",
    "x_train2=train[train.columns[:-1]]\n",
    "y_test2=test[test.columns[-1:]]\n",
    "x_test2=test[test.columns[:-1]]\n",
    "\n",
    "\n",
    "y_train2=y_train2.to_numpy()\n",
    "x_train2=x_train2.to_numpy()\n",
    "#Change the value to only use a subset of the dataset (like for quick tests...)\n",
    "x_train2=x_train2[:362355][:][:]\n",
    "y_train2=y_train2[:362355][:]\n",
    "#Add data dimension, doesn't actually change the data but that's how the input is expected, like it could have multiple values per timestamp\n",
    "x_train2=x_train2.reshape([-1,187,1])\n",
    "\n",
    "\n",
    "y_test2=y_test2.to_numpy()\n",
    "x_test2=x_test2.to_numpy()\n",
    "#Change the value to only use a subset of the dataset (like for quick tests...)\n",
    "x_test2=x_test2[:362355][:][:]\n",
    "y_test2=y_test2[:362355][:]\n",
    "#Add data dimension, doesn't actually change the data but that's how the input is expected, like it could have multiple values per timestamp\n",
    "x_test2=x_test2.reshape([-1,187,1])"
   ]
  },
  {
   "cell_type": "code",
   "execution_count": 4,
   "metadata": {},
   "outputs": [
    {
     "data": {
      "text/plain": [
       "(109446, 188)"
      ]
     },
     "execution_count": 4,
     "metadata": {},
     "output_type": "execute_result"
    }
   ],
   "source": [
    "data = pd.concat([train, test]).sample(frac=1).reset_index(drop=True)\n",
    "data.shape"
   ]
  },
  {
   "cell_type": "code",
   "execution_count": 5,
   "metadata": {},
   "outputs": [
    {
     "name": "stdout",
     "output_type": "stream",
     "text": [
      "(90589, 188)\n",
      "(2779, 188)\n",
      "(7236, 188)\n",
      "(803, 188)\n",
      "(8039, 188)\n"
     ]
    }
   ],
   "source": [
    "random_seeed=42\n",
    "cat=[0,0,0,0,0]\n",
    "\n",
    "for i in range(5):\n",
    "    cat[i]=data[data[187]==i]\n",
    "    print(cat[i].shape)\n",
    "    X=cat[i][cat[i].columns[:-1]]\n",
    "    Y=cat[i][cat[i].columns[-1:]]\n",
    "    x_train_t,x_test_t,y_train_t,y_test_t=train_test_split(X,Y,test_size=0.25,random_state=random_seeed)\n",
    "    if(i>0):\n",
    "        y_train=pd.concat([y_train, y_train_t]).sample(frac=1).reset_index(drop=True)\n",
    "        x_train=pd.concat([x_train, x_train_t]).sample(frac=1).reset_index(drop=True)\n",
    "        y_test=pd.concat([y_test, y_test_t]).sample(frac=1).reset_index(drop=True)\n",
    "        x_test=pd.concat([x_test, x_test_t]).sample(frac=1).reset_index(drop=True)\n",
    "    else:\n",
    "        y_train=y_train_t\n",
    "        x_train=x_train_t\n",
    "        y_test=y_test_t\n",
    "        x_test=x_test_t\n"
   ]
  },
  {
   "cell_type": "code",
   "execution_count": 6,
   "metadata": {},
   "outputs": [
    {
     "name": "stdout",
     "output_type": "stream",
     "text": [
      "(27363, 187)\n",
      "(27363, 1)\n",
      "(82083, 187)\n",
      "(82083, 1)\n"
     ]
    }
   ],
   "source": [
    "print(x_test.shape)\n",
    "print(y_test.shape)\n",
    "print(x_train.shape)\n",
    "print(y_train.shape)"
   ]
  },
  {
   "cell_type": "code",
   "execution_count": 7,
   "metadata": {},
   "outputs": [
    {
     "name": "stdout",
     "output_type": "stream",
     "text": [
      "Test  data:\n",
      "Befor\n",
      "18118 556 1448 162 1608 Sum= 21892\n",
      "After\n",
      "22648 695 1809 201 2010 Sum= 27363\n",
      "Train  data:\n",
      "Befor\n",
      "72471 2223 5788 641 6431 Sum= 87554\n",
      "After\n",
      "67941 2084 5427 602 6029 Sum= 82083\n"
     ]
    }
   ],
   "source": [
    "def fun(state,data):\n",
    "    sum = 0\n",
    "    print(state)\n",
    "    for i in range(5):\n",
    "        lenn=len(data[data[187] == i ])\n",
    "        print(lenn,end=\" \")\n",
    "        sum+=lenn\n",
    "    print(\"Sum=\",sum)\n",
    "def fun2(state,rowdata,data):\n",
    "    print(state,\" data:\")\n",
    "    fun(\"Befor\",rowdata[rowdata.columns[-1:]])\n",
    "    fun(\"After\",data)\n",
    "\n",
    "fun2(\"Test\",test,y_test)\n",
    "fun2(\"Train\",train,y_train)"
   ]
  },
  {
   "cell_type": "code",
   "execution_count": 8,
   "metadata": {
    "collapsed": false
   },
   "outputs": [],
   "source": [
    "y_train=y_train.to_numpy()\n",
    "x_train=x_train.to_numpy()\n",
    "#Change the value to only use a subset of the dataset (like for quick tests...)\n",
    "x_train=x_train[:362355][:][:]\n",
    "y_train=y_train[:362355][:]\n",
    "#Add data dimension, doesn't actually change the data but that's how the input is expected, like it could have multiple values per timestamp\n",
    "x_train=x_train.reshape([-1,187,1])"
   ]
  },
  {
   "cell_type": "code",
   "execution_count": 9,
   "metadata": {
    "collapsed": false
   },
   "outputs": [],
   "source": [
    "y_test=y_test.to_numpy()\n",
    "x_test=x_test.to_numpy()\n",
    "#Change the value to only use a subset of the dataset (like for quick tests...)\n",
    "x_test=x_test[:362355][:][:]\n",
    "y_test=y_test[:362355][:]\n",
    "#Add data dimension, doesn't actually change the data but that's how the input is expected, like it could have multiple values per timestamp\n",
    "x_test=x_test.reshape([-1,187,1])"
   ]
  },
  {
   "cell_type": "code",
   "execution_count": 10,
   "metadata": {
    "collapsed": false
   },
   "outputs": [],
   "source": [
    "model=tf.keras.Sequential()\n",
    "model.add(layers.Conv1D(64,7,activation='relu',input_shape=(187,1)))\n",
    "model.add(layers.SpatialDropout1D(0.4))\n",
    "model.add(layers.BatchNormalization())\n",
    "model.add(layers.MaxPool1D(7))\n",
    "model.add(layers.Conv1D(32,5,activation='relu'))\n",
    "model.add(layers.BatchNormalization())\n",
    "model.add(layers.MaxPool1D(5))\n",
    "model.add(layers.GlobalMaxPool1D())\n",
    "model.add(layers.Dense(5,activation='softmax',kernel_regularizer=l1_l2(0.0001)))"
   ]
  },
  {
   "cell_type": "code",
   "execution_count": 11,
   "metadata": {
    "collapsed": false
   },
   "outputs": [
    {
     "name": "stdout",
     "output_type": "stream",
     "text": [
      "Epoch 1/10\n",
      "132/132 [==============================] - 30s 218ms/step - loss: 1.0413 - accuracy: 0.7575 - val_loss: 1.1456 - val_accuracy: 0.8279\n",
      "Epoch 2/10\n",
      "132/132 [==============================] - 28s 211ms/step - loss: 0.7612 - accuracy: 0.8254 - val_loss: 0.8210 - val_accuracy: 0.8279\n",
      "Epoch 3/10\n",
      "132/132 [==============================] - 27s 208ms/step - loss: 0.7360 - accuracy: 0.8271 - val_loss: 0.7333 - val_accuracy: 0.8279\n",
      "Epoch 4/10\n",
      "132/132 [==============================] - 27s 207ms/step - loss: 0.7231 - accuracy: 0.8275 - val_loss: 0.7073 - val_accuracy: 0.8279\n",
      "Epoch 5/10\n",
      "132/132 [==============================] - 25s 191ms/step - loss: 0.7136 - accuracy: 0.8276 - val_loss: 0.7008 - val_accuracy: 0.8279\n",
      "Epoch 6/10\n",
      "132/132 [==============================] - 23s 174ms/step - loss: 0.7075 - accuracy: 0.8277 - val_loss: 0.6996 - val_accuracy: 0.8279\n",
      "Epoch 7/10\n",
      "132/132 [==============================] - 23s 173ms/step - loss: 0.7026 - accuracy: 0.8277 - val_loss: 0.6931 - val_accuracy: 0.8279\n",
      "Epoch 8/10\n",
      "132/132 [==============================] - 23s 175ms/step - loss: 0.6969 - accuracy: 0.8277 - val_loss: 0.6900 - val_accuracy: 0.8279\n",
      "Epoch 9/10\n",
      "132/132 [==============================] - 23s 174ms/step - loss: 0.6934 - accuracy: 0.8277 - val_loss: 0.6868 - val_accuracy: 0.8279\n",
      "Epoch 10/10\n",
      "132/132 [==============================] - 23s 172ms/step - loss: 0.6898 - accuracy: 0.8277 - val_loss: 0.6831 - val_accuracy: 0.8279\n"
     ]
    }
   ],
   "source": [
    "model.compile('adam','sparse_categorical_crossentropy',metrics=['accuracy']) #this was with validation\n",
    "history=model.fit(x_train,y_train,batch_size=500,epochs=10,verbose=True,validation_split=0.2)"
   ]
  },
  {
   "cell_type": "code",
   "execution_count": 12,
   "metadata": {
    "collapsed": false
   },
   "outputs": [
    {
     "data": {
      "text/plain": [
       "<matplotlib.legend.Legend at 0x1bc2074dc60>"
      ]
     },
     "execution_count": 12,
     "metadata": {},
     "output_type": "execute_result"
    },
    {
     "data": {
      "image/png": "[encoded data removed]",
      "text/plain": [
       "<Figure size 640x480 with 2 Axes>"
      ]
     },
     "metadata": {},
     "output_type": "display_data"
    }
   ],
   "source": [
    "fig, ax = plt.subplots(2,sharex=True)\n",
    "ax[0].set_title(\"Accuracy\")\n",
    "ax[0].plot(history.epoch, history.history['accuracy'],label='Train');\n",
    "ax[0].plot(history.epoch, history.history['val_accuracy'],label='Validation');\n",
    "ax[0].legend()\n",
    "ax[1].set_title(\"Loss\")\n",
    "ax[1].plot(history.epoch, history.history['loss'],label='Train');\n",
    "ax[1].plot(history.epoch, history.history['val_loss'],label='Validation');\n",
    "ax[1].legend()"
   ]
  },
  {
   "cell_type": "code",
   "execution_count": 13,
   "metadata": {
    "collapsed": false
   },
   "outputs": [
    {
     "name": "stdout",
     "output_type": "stream",
     "text": [
      "856/856 [==============================] - 3s 3ms/step - loss: 0.6858 - accuracy: 0.8277\n"
     ]
    },
    {
     "data": {
      "text/plain": [
       "[0.6858121156692505, 0.8276870250701904]"
      ]
     },
     "execution_count": 13,
     "metadata": {},
     "output_type": "execute_result"
    }
   ],
   "source": [
    "model.evaluate(x_test, y_test, verbose=True)"
   ]
  },
  {
   "cell_type": "code",
   "execution_count": 14,
   "metadata": {},
   "outputs": [],
   "source": [
    "model2=tf.keras.Sequential()\n",
    "model2.add(layers.Conv1D(64,7,activation='relu',input_shape=(187,1)))\n",
    "model2.add(layers.SpatialDropout1D(0.4))\n",
    "model2.add(layers.BatchNormalization())\n",
    "model2.add(layers.MaxPool1D(7))\n",
    "model2.add(layers.Conv1D(32,5,activation='relu'))\n",
    "model2.add(layers.BatchNormalization())\n",
    "model2.add(layers.MaxPool1D(5))\n",
    "model2.add(layers.GlobalMaxPool1D())\n",
    "model2.add(layers.Dense(5,activation='softmax',kernel_regularizer=l1_l2(0.0001)))"
   ]
  },
  {
   "cell_type": "code",
   "execution_count": 15,
   "metadata": {},
   "outputs": [
    {
     "name": "stdout",
     "output_type": "stream",
     "text": [
      "Epoch 1/10\n",
      "141/141 [==============================] - 25s 175ms/step - loss: 0.4676 - accuracy: 0.9121 - val_loss: 1.7491 - val_accuracy: 0.1394\n",
      "Epoch 2/10\n",
      "141/141 [==============================] - 23s 163ms/step - loss: 0.0818 - accuracy: 0.9987 - val_loss: 2.1079 - val_accuracy: 0.1386\n",
      "Epoch 3/10\n",
      "141/141 [==============================] - 22s 156ms/step - loss: 0.0624 - accuracy: 0.9998 - val_loss: 3.0011 - val_accuracy: 0.1387\n",
      "Epoch 4/10\n",
      "141/141 [==============================] - 22s 157ms/step - loss: 0.0527 - accuracy: 0.9999 - val_loss: 4.5379 - val_accuracy: 0.1387\n",
      "Epoch 5/10\n",
      "141/141 [==============================] - 22s 159ms/step - loss: 0.0469 - accuracy: 0.9999 - val_loss: 6.1643 - val_accuracy: 0.1387\n",
      "Epoch 6/10\n",
      "141/141 [==============================] - 22s 158ms/step - loss: 0.0430 - accuracy: 0.9999 - val_loss: 7.1050 - val_accuracy: 0.1387\n",
      "Epoch 7/10\n",
      "141/141 [==============================] - 22s 157ms/step - loss: 0.0398 - accuracy: 1.0000 - val_loss: 7.4048 - val_accuracy: 0.1387\n",
      "Epoch 8/10\n",
      "141/141 [==============================] - 22s 155ms/step - loss: 0.0369 - accuracy: 1.0000 - val_loss: 7.5509 - val_accuracy: 0.1387\n",
      "Epoch 9/10\n",
      "141/141 [==============================] - 22s 158ms/step - loss: 0.0342 - accuracy: 1.0000 - val_loss: 7.5011 - val_accuracy: 0.1387\n",
      "Epoch 10/10\n",
      "141/141 [==============================] - 23s 164ms/step - loss: 0.0316 - accuracy: 1.0000 - val_loss: 7.6822 - val_accuracy: 0.1387\n"
     ]
    }
   ],
   "source": [
    "model2.compile('adam','sparse_categorical_crossentropy',metrics=['accuracy']) #this was with validation\n",
    "history2=model2.fit(x_train2,y_train2,batch_size=500,epochs=10,verbose=True,validation_split=0.2)"
   ]
  },
  {
   "cell_type": "code",
   "execution_count": 16,
   "metadata": {},
   "outputs": [
    {
     "data": {
      "text/plain": [
       "<matplotlib.legend.Legend at 0x1bc1fbfdd50>"
      ]
     },
     "execution_count": 16,
     "metadata": {},
     "output_type": "execute_result"
    },
    {
     "data": {
      "image/png": "[encoded data removed]",
      "text/plain": [
       "<Figure size 640x480 with 2 Axes>"
      ]
     },
     "metadata": {},
     "output_type": "display_data"
    }
   ],
   "source": [
    "fig, ax = plt.subplots(2,sharex=True)\n",
    "ax[0].set_title(\"Accuracy\")\n",
    "ax[0].plot(history2.epoch, history2.history['accuracy'],label='Train');\n",
    "ax[0].plot(history2.epoch, history2.history['val_accuracy'],label='Validation');\n",
    "ax[0].legend()\n",
    "ax[1].set_title(\"Loss\")\n",
    "ax[1].plot(history2.epoch, history2.history['loss'],label='Train');\n",
    "ax[1].plot(history2.epoch, history2.history['val_loss'],label='Validation');\n",
    "ax[1].legend()"
   ]
  },
  {
   "cell_type": "code",
   "execution_count": 17,
   "metadata": {},
   "outputs": [
    {
     "name": "stdout",
     "output_type": "stream",
     "text": [
      "685/685 [==============================] - 3s 4ms/step - loss: 1.5633 - accuracy: 0.8276\n"
     ]
    },
    {
     "data": {
      "text/plain": [
       "[1.5633113384246826, 0.8276082873344421]"
      ]
     },
     "execution_count": 17,
     "metadata": {},
     "output_type": "execute_result"
    }
   ],
   "source": [
    "model2.evaluate(x_test2, y_test2, verbose=True)"
   ]
  }
 ],
 "metadata": {
  "kernelspec": {
   "display_name": "Python 3",
   "language": "python",
   "name": "python3"
  },
  "language_info": {
   "codemirror_mode": {
    "name": "ipython",
    "version": 3
   },
   "file_extension": ".py",
   "mimetype": "text/x-python",
   "name": "python",
   "nbconvert_exporter": "python",
   "pygments_lexer": "ipython3",
   "version": "3.10.0"
  },
  "vscode": {
   "interpreter": {
    "hash": "369f2c481f4da34e4445cda3fffd2e751bd1c4d706f27375911949ba6bb62e1c"
   }
  }
 },
 "nbformat": 4,
 "nbformat_minor": 0
}
