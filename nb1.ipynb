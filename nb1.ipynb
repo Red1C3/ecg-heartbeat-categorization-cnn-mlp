{
 "cells": [
  {
   "cell_type": "code",
   "execution_count": 42,
   "metadata": {
    "collapsed": true
   },
   "outputs": [],
   "source": [
    "import pandas as pd\n",
    "import tensorflow as tf\n",
    "import tensorflow.keras.layers as layers\n",
    "import matplotlib.pyplot as plt\n",
    "import numpy as np\n",
    "from imblearn.over_sampling import SMOTE"
   ]
  },
  {
   "cell_type": "code",
   "execution_count": 43,
   "metadata": {
    "collapsed": false
   },
   "outputs": [],
   "source": [
    "#The dataset contains no header for columns, hence the header parameter\n",
    "dataframe=pd.read_csv('./mitbih_train.csv',header=None)"
   ]
  },
  {
   "cell_type": "code",
   "execution_count": 44,
   "metadata": {
    "collapsed": false
   },
   "outputs": [],
   "source": [
    "#Last column is the category column, a scaler value from 0 to 4\n",
    "y=dataframe[dataframe.columns[-1:]]\n",
    "x=dataframe[dataframe.columns[:-1]]"
   ]
  },
  {
   "cell_type": "code",
   "execution_count": 45,
   "metadata": {},
   "outputs": [],
   "source": [
    "# Balances the dataset by oversampling it (it seems like it uses interpolation)\n",
    "# https://machinelearningmastery.com/smote-oversampling-for-imbalanced-classification/\n",
    "oversampler=SMOTE()\n",
    "x,y=oversampler.fit_resample(x,y)"
   ]
  },
  {
   "cell_type": "code",
   "execution_count": 46,
   "metadata": {},
   "outputs": [
    {
     "name": "stdout",
     "output_type": "stream",
     "text": [
      "72471\n",
      "72471\n",
      "72471\n",
      "72471\n",
      "72471\n"
     ]
    }
   ],
   "source": [
    "print(len(y[y[187] ==0 ]))\n",
    "print(len(y[y[187] ==1 ]))\n",
    "print(len(y[y[187] ==2 ]))\n",
    "print(len(y[y[187] ==3 ]))\n",
    "print(len(y[y[187] ==4 ]))"
   ]
  },
  {
   "cell_type": "code",
   "execution_count": 47,
   "metadata": {
    "collapsed": false
   },
   "outputs": [],
   "source": [
    "y=y.to_numpy()"
   ]
  },
  {
   "cell_type": "code",
   "execution_count": 48,
   "metadata": {
    "collapsed": false
   },
   "outputs": [],
   "source": [
    "x=x.to_numpy()"
   ]
  },
  {
   "cell_type": "code",
   "execution_count": 49,
   "metadata": {},
   "outputs": [
    {
     "data": {
      "text/plain": [
       "(362355, 187)"
      ]
     },
     "execution_count": 49,
     "metadata": {},
     "output_type": "execute_result"
    }
   ],
   "source": [
    "x.shape"
   ]
  },
  {
   "cell_type": "code",
   "execution_count": 50,
   "metadata": {
    "collapsed": false
   },
   "outputs": [],
   "source": [
    "#Change the value to only use a subset of the dataset (like for quick tests...)\n",
    "x=x[:362355][:][:]\n",
    "y=y[:362355][:]\n",
    "#Add data dimension, doesn't actually change the data but that's how the input is expected, like it could have multiple values per timestamp\n",
    "x=x.reshape([362355,187,1])"
   ]
  },
  {
   "cell_type": "code",
   "execution_count": 51,
   "metadata": {
    "collapsed": false
   },
   "outputs": [],
   "source": [
    "model=tf.keras.Sequential(\n",
    "    [layers.Conv1D(5, 5, activation='relu', input_shape=(187,1)),\n",
    "    layers.MaxPool1D(),\n",
    "    layers.Conv1D(3,3,activation='relu'),\n",
    "    layers.MaxPool1D(),\n",
    "    layers.Flatten(),\n",
    "    layers.Dense(5,activation='softmax')] #softmax cuz categories\n",
    ")"
   ]
  },
  {
   "cell_type": "code",
   "execution_count": 52,
   "metadata": {
    "collapsed": false
   },
   "outputs": [
    {
     "name": "stderr",
     "output_type": "stream",
     "text": [
      "2022-12-28 15:32:34.182456: W tensorflow/core/framework/cpu_allocator_impl.cc:80] Allocation of 216833232 exceeds 10% of free system memory.\n"
     ]
    },
    {
     "name": "stdout",
     "output_type": "stream",
     "text": [
      "Epoch 1/2\n",
      "28989/28989 [==============================] - ETA: 0s - loss: 0.8187 - accuracy: 0.6752"
     ]
    },
    {
     "name": "stderr",
     "output_type": "stream",
     "text": [
      "2022-12-28 15:34:50.175746: W tensorflow/core/framework/cpu_allocator_impl.cc:80] Allocation of 54208308 exceeds 10% of free system memory.\n"
     ]
    },
    {
     "name": "stdout",
     "output_type": "stream",
     "text": [
      "28989/28989 [==============================] - 152s 5ms/step - loss: 0.8187 - accuracy: 0.6752 - val_loss: 0.8381 - val_accuracy: 0.7693\n",
      "Epoch 2/2\n",
      "28989/28989 [==============================] - 125s 4ms/step - loss: 0.4937 - accuracy: 0.8240 - val_loss: 0.5083 - val_accuracy: 0.8645\n"
     ]
    }
   ],
   "source": [
    "model.compile('adam','sparse_categorical_crossentropy',metrics=['accuracy']) #this was with validation\n",
    "history=model.fit(x,y,batch_size=10,epochs=2,verbose=True,validation_split=0.2) #Okay but what if leen doesn't allow it, ig it's fine Idk\n",
    "#"
   ]
  },
  {
   "cell_type": "code",
   "execution_count": 53,
   "metadata": {
    "collapsed": false,
    "pycharm": {
     "is_executing": true
    }
   },
   "outputs": [
    {
     "data": {
      "text/plain": [
       "<matplotlib.legend.Legend at 0x7f41ada8fb20>"
      ]
     },
     "execution_count": 53,
     "metadata": {},
     "output_type": "execute_result"
    },
    {
     "data": {
      "image/png": "[encoded data removed]",
      "text/plain": [
       "<Figure size 640x480 with 1 Axes>"
      ]
     },
     "metadata": {},
     "output_type": "display_data"
    }
   ],
   "source": [
    "fig, ax = plt.subplots()  # Create a figure containing a single axes.\n",
    "ax.plot(history.epoch, history.history['accuracy'],label='accuracy');\n",
    "ax.legend()"
   ]
  }
 ],
 "metadata": {
  "kernelspec": {
   "display_name": "tf-gpu",
   "language": "python",
   "name": "python3"
  },
  "language_info": {
   "codemirror_mode": {
    "name": "ipython",
    "version": 3
   },
   "file_extension": ".py",
   "mimetype": "text/x-python",
   "name": "python",
   "nbconvert_exporter": "python",
   "pygments_lexer": "ipython3",
   "version": "3.9.15"
  },
  "vscode": {
   "interpreter": {
    "hash": "0b5916d98285d7f9256b24e73be44c1954c1d35b1fc6eb84af81e3fe0ccc5dea"
   }
  }
 },
 "nbformat": 4,
 "nbformat_minor": 0
}
