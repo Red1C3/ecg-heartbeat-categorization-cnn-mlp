{
 "cells": [
  {
   "cell_type": "code",
   "execution_count": 26,
   "metadata": {
    "collapsed": true
   },
   "outputs": [
    {
     "data": {
      "text/plain": "<module 'utils' from '/home/reddeadalice/Projects/ecg-heartbeat-categorization/utils.py'>"
     },
     "execution_count": 26,
     "metadata": {},
     "output_type": "execute_result"
    }
   ],
   "source": [
    "import pandas as pd\n",
    "import tensorflow as tf\n",
    "import tensorflow.keras.layers as layers\n",
    "import matplotlib.pyplot as plt\n",
    "import numpy as np\n",
    "from imblearn.over_sampling import SMOTE\n",
    "\n",
    "import utils\n",
    "import importlib\n",
    "importlib.reload(utils)"
   ]
  },
  {
   "cell_type": "code",
   "execution_count": 27,
   "outputs": [],
   "source": [
    "x,y=utils.importTrainingSet_nn(shuffle=False,oversampling=True)"
   ],
   "metadata": {
    "collapsed": false
   }
  },
  {
   "cell_type": "code",
   "execution_count": 28,
   "metadata": {
    "collapsed": false
   },
   "outputs": [],
   "source": [
    "model=tf.keras.Sequential()\n",
    "utils.archi1_nn(model)"
   ]
  },
  {
   "cell_type": "code",
   "execution_count": 29,
   "metadata": {
    "collapsed": false
   },
   "outputs": [],
   "source": [
    "model.compile('adam','sparse_categorical_crossentropy',metrics=['accuracy']) #this was with validation"
   ]
  },
  {
   "cell_type": "code",
   "execution_count": 30,
   "outputs": [
    {
     "name": "stdout",
     "output_type": "stream",
     "text": [
      "Epoch 1/15\n",
      "3624/3624 [==============================] - 19s 5ms/step - loss: 0.6368 - accuracy: 0.7556\n",
      "Epoch 2/15\n",
      "3624/3624 [==============================] - 18s 5ms/step - loss: 0.3171 - accuracy: 0.8850\n",
      "Epoch 3/15\n",
      "3624/3624 [==============================] - 18s 5ms/step - loss: 0.2675 - accuracy: 0.9031\n",
      "Epoch 4/15\n",
      "3624/3624 [==============================] - 18s 5ms/step - loss: 0.2405 - accuracy: 0.9140\n",
      "Epoch 5/15\n",
      "3624/3624 [==============================] - 18s 5ms/step - loss: 0.2253 - accuracy: 0.9186\n",
      "Epoch 6/15\n",
      "3624/3624 [==============================] - 19s 5ms/step - loss: 0.2137 - accuracy: 0.9226\n",
      "Epoch 7/15\n",
      "3624/3624 [==============================] - 18s 5ms/step - loss: 0.2044 - accuracy: 0.9258\n",
      "Epoch 8/15\n",
      "3624/3624 [==============================] - 19s 5ms/step - loss: 0.1990 - accuracy: 0.9275\n",
      "Epoch 9/15\n",
      "3624/3624 [==============================] - 17s 5ms/step - loss: 0.1927 - accuracy: 0.9303\n",
      "Epoch 10/15\n",
      "3624/3624 [==============================] - 20s 5ms/step - loss: 0.1891 - accuracy: 0.9317\n",
      "Epoch 11/15\n",
      "3624/3624 [==============================] - 18s 5ms/step - loss: 0.1850 - accuracy: 0.9329\n",
      "Epoch 12/15\n",
      "3624/3624 [==============================] - 18s 5ms/step - loss: 0.1817 - accuracy: 0.9347\n",
      "Epoch 13/15\n",
      "3624/3624 [==============================] - 18s 5ms/step - loss: 0.1795 - accuracy: 0.9357\n",
      "Epoch 14/15\n",
      "3624/3624 [==============================] - 20s 5ms/step - loss: 0.1767 - accuracy: 0.9369\n",
      "Epoch 15/15\n",
      "3624/3624 [==============================] - 18s 5ms/step - loss: 0.1741 - accuracy: 0.9368\n"
     ]
    }
   ],
   "source": [
    "history=model.fit(x,y,batch_size=100,epochs=15,verbose=True)"
   ],
   "metadata": {
    "collapsed": false
   }
  },
  {
   "cell_type": "code",
   "execution_count": 31,
   "metadata": {
    "collapsed": false
   },
   "outputs": [
    {
     "data": {
      "text/plain": "<matplotlib.legend.Legend at 0x7f2dec1ae610>"
     },
     "execution_count": 31,
     "metadata": {},
     "output_type": "execute_result"
    },
    {
     "data": {
      "text/plain": "<Figure size 640x480 with 1 Axes>",
      "image/png": "[encoded data removed]"
     },
     "metadata": {},
     "output_type": "display_data"
    }
   ],
   "source": [
    "fig, ax = plt.subplots()  # Create a figure containing a single axes.\n",
    "ax.plot(history.epoch, history.history['accuracy'],label='accuracy');\n",
    "ax.legend()"
   ]
  },
  {
   "cell_type": "code",
   "execution_count": 32,
   "outputs": [
    {
     "name": "stdout",
     "output_type": "stream",
     "text": [
      "              precision    recall  f1-score   support\n",
      "\n",
      "         0.0       0.99      0.92      0.95     18118\n",
      "         1.0       0.36      0.81      0.50       556\n",
      "         2.0       0.79      0.93      0.85      1448\n",
      "         3.0       0.37      0.86      0.52       162\n",
      "         4.0       0.89      0.97      0.93      1608\n",
      "\n",
      "    accuracy                           0.92     21892\n",
      "   macro avg       0.68      0.90      0.75     21892\n",
      "weighted avg       0.95      0.92      0.93     21892\n",
      "\n"
     ]
    }
   ],
   "source": [
    "print(utils.predict_nn(model=history.model))"
   ],
   "metadata": {
    "collapsed": false
   }
  },
  {
   "cell_type": "code",
   "execution_count": 33,
   "outputs": [
    {
     "name": "stdout",
     "output_type": "stream",
     "text": [
      "44/44 [==============================] - 0s 3ms/step - loss: 0.2365 - accuracy: 0.9203\n",
      "[0.2365080565214157, 0.9203361868858337]\n"
     ]
    }
   ],
   "source": [
    "print(utils.evaluate_nn(model=history.model))"
   ],
   "metadata": {
    "collapsed": false
   }
  }
 ],
 "metadata": {
  "kernelspec": {
   "display_name": "tf-gpu",
   "language": "python",
   "name": "python3"
  },
  "language_info": {
   "codemirror_mode": {
    "name": "ipython",
    "version": 3
   },
   "file_extension": ".py",
   "mimetype": "text/x-python",
   "name": "python",
   "nbconvert_exporter": "python",
   "pygments_lexer": "ipython3",
   "version": "3.9.15"
  },
  "vscode": {
   "interpreter": {
    "hash": "0b5916d98285d7f9256b24e73be44c1954c1d35b1fc6eb84af81e3fe0ccc5dea"
   }
  }
 },
 "nbformat": 4,
 "nbformat_minor": 0
}
