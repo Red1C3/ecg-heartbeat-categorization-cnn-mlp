{
  "cells": [
    {
      "cell_type": "code",
      "execution_count": 58,
      "metadata": {
        "collapsed": true,
        "colab": {
          "base_uri": "https://localhost:8080/"
        },
        "id": "IhsipId7YSPT",
        "outputId": "11b7cf46-4851-4c54-a37a-3ce48c073949"
      },
      "outputs": [
        {
          "output_type": "execute_result",
          "data": {
            "text/plain": [
              "<module 'utils' from '/content/utils.py'>"
            ]
          },
          "metadata": {},
          "execution_count": 58
        }
      ],
      "source": [
        "import pandas as pd\n",
        "import tensorflow as tf\n",
        "import tensorflow.keras.layers as layers\n",
        "import matplotlib.pyplot as plt\n",
        "import numpy as np\n",
        "from imblearn.over_sampling import SMOTE\n",
        "from tensorflow.keras.callbacks import EarlyStopping\n",
        "\n",
        "import utils\n",
        "import importlib\n",
        "importlib.reload(utils)"
      ]
    },
    {
      "cell_type": "code",
      "execution_count": 59,
      "outputs": [],
      "source": [
        "x,y=utils.importTrainingSet_nn(oversampling=True)"
      ],
      "metadata": {
        "id": "_3l6SvHjYSPZ"
      }
    },
    {
      "cell_type": "code",
      "source": [
        "y"
      ],
      "metadata": {
        "colab": {
          "base_uri": "https://localhost:8080/"
        },
        "id": "RRiDtko9va45",
        "outputId": "dabaa28a-1b3f-47fe-fb25-57a5e9d4cd94"
      },
      "execution_count": 60,
      "outputs": [
        {
          "output_type": "execute_result",
          "data": {
            "text/plain": [
              "array([[2.],\n",
              "       [0.],\n",
              "       [3.],\n",
              "       ...,\n",
              "       [0.],\n",
              "       [0.],\n",
              "       [2.]])"
            ]
          },
          "metadata": {},
          "execution_count": 60
        }
      ]
    },
    {
      "cell_type": "code",
      "execution_count": 61,
      "metadata": {
        "id": "OjufMILdYSPc"
      },
      "outputs": [],
      "source": [
        "model=tf.keras.Sequential()\n",
        "utils.archi5_nn(model)"
      ]
    },
    {
      "cell_type": "code",
      "execution_count": 62,
      "metadata": {
        "colab": {
          "base_uri": "https://localhost:8080/"
        },
        "id": "UcmrVnWvYSPe",
        "outputId": "9d2b94b5-ae6a-4fa5-e624-28992f705e41"
      },
      "outputs": [
        {
          "output_type": "stream",
          "name": "stderr",
          "text": [
            "/usr/local/lib/python3.8/dist-packages/keras/optimizers/optimizer_v2/adam.py:110: UserWarning: The `lr` argument is deprecated, use `learning_rate` instead.\n",
            "  super(Adam, self).__init__(name, **kwargs)\n"
          ]
        }
      ],
      "source": [
        "model.compile(tf.keras.optimizers.Adam(lr=0.001),'sparse_categorical_crossentropy',metrics=['accuracy'])\n",
        "early_stopping=EarlyStopping(monitor='val_loss',min_delta=0.001,patience=5,verbose=1,mode='auto')"
      ]
    },
    {
      "cell_type": "code",
      "execution_count": null,
      "outputs": [
        {
          "output_type": "stream",
          "name": "stdout",
          "text": [
            "Epoch 1/100\n",
            "499/499 [==============================] - 5s 9ms/step - loss: 0.8326 - accuracy: 0.7738 - val_loss: 0.4904 - val_accuracy: 0.8825\n",
            "Epoch 2/100\n",
            "499/499 [==============================] - 4s 8ms/step - loss: 0.4749 - accuracy: 0.8819 - val_loss: 0.3683 - val_accuracy: 0.9119\n",
            "Epoch 3/100\n",
            "499/499 [==============================] - 4s 8ms/step - loss: 0.3936 - accuracy: 0.9031 - val_loss: 0.3179 - val_accuracy: 0.9262\n",
            "Epoch 4/100\n",
            "499/499 [==============================] - 4s 7ms/step - loss: 0.3498 - accuracy: 0.9140 - val_loss: 0.2910 - val_accuracy: 0.9327\n",
            "Epoch 5/100\n",
            "499/499 [==============================] - 4s 7ms/step - loss: 0.3212 - accuracy: 0.9210 - val_loss: 0.2664 - val_accuracy: 0.9382\n",
            "Epoch 6/100\n",
            "499/499 [==============================] - 4s 7ms/step - loss: 0.3009 - accuracy: 0.9260 - val_loss: 0.2457 - val_accuracy: 0.9436\n",
            "Epoch 7/100\n",
            "499/499 [==============================] - 4s 8ms/step - loss: 0.2818 - accuracy: 0.9311 - val_loss: 0.2334 - val_accuracy: 0.9475\n",
            "Epoch 8/100\n",
            "499/499 [==============================] - 4s 9ms/step - loss: 0.2674 - accuracy: 0.9345 - val_loss: 0.2187 - val_accuracy: 0.9513\n",
            "Epoch 9/100\n",
            "499/499 [==============================] - 4s 8ms/step - loss: 0.2561 - accuracy: 0.9374 - val_loss: 0.2091 - val_accuracy: 0.9523\n",
            "Epoch 10/100\n",
            "499/499 [==============================] - 4s 8ms/step - loss: 0.2446 - accuracy: 0.9404 - val_loss: 0.1998 - val_accuracy: 0.9550\n",
            "Epoch 11/100\n",
            "499/499 [==============================] - 4s 8ms/step - loss: 0.2373 - accuracy: 0.9422 - val_loss: 0.1934 - val_accuracy: 0.9571\n",
            "Epoch 12/100\n",
            "499/499 [==============================] - 4s 7ms/step - loss: 0.2291 - accuracy: 0.9442 - val_loss: 0.1829 - val_accuracy: 0.9598\n",
            "Epoch 13/100\n",
            "499/499 [==============================] - 4s 7ms/step - loss: 0.2214 - accuracy: 0.9459 - val_loss: 0.1808 - val_accuracy: 0.9603\n",
            "Epoch 14/100\n",
            "499/499 [==============================] - 4s 8ms/step - loss: 0.2139 - accuracy: 0.9478 - val_loss: 0.1707 - val_accuracy: 0.9628\n",
            "Epoch 15/100\n",
            "499/499 [==============================] - 4s 8ms/step - loss: 0.2087 - accuracy: 0.9495 - val_loss: 0.1680 - val_accuracy: 0.9646\n",
            "Epoch 16/100\n",
            "499/499 [==============================] - 4s 8ms/step - loss: 0.2042 - accuracy: 0.9506 - val_loss: 0.1606 - val_accuracy: 0.9661\n",
            "Epoch 17/100\n",
            "499/499 [==============================] - 4s 9ms/step - loss: 0.1988 - accuracy: 0.9517 - val_loss: 0.1579 - val_accuracy: 0.9666\n",
            "Epoch 18/100\n",
            "499/499 [==============================] - 5s 9ms/step - loss: 0.1945 - accuracy: 0.9529 - val_loss: 0.1559 - val_accuracy: 0.9665\n",
            "Epoch 19/100\n",
            "499/499 [==============================] - 4s 9ms/step - loss: 0.1896 - accuracy: 0.9541 - val_loss: 0.1494 - val_accuracy: 0.9693\n",
            "Epoch 20/100\n",
            "499/499 [==============================] - 4s 9ms/step - loss: 0.1859 - accuracy: 0.9553 - val_loss: 0.1467 - val_accuracy: 0.9693\n",
            "Epoch 21/100\n",
            "499/499 [==============================] - 4s 8ms/step - loss: 0.1828 - accuracy: 0.9562 - val_loss: 0.1425 - val_accuracy: 0.9711\n",
            "Epoch 22/100\n",
            "499/499 [==============================] - 4s 8ms/step - loss: 0.1786 - accuracy: 0.9570 - val_loss: 0.1387 - val_accuracy: 0.9712\n",
            "Epoch 23/100\n",
            "499/499 [==============================] - 5s 9ms/step - loss: 0.1752 - accuracy: 0.9582 - val_loss: 0.1370 - val_accuracy: 0.9723\n",
            "Epoch 24/100\n",
            "499/499 [==============================] - 4s 8ms/step - loss: 0.1723 - accuracy: 0.9588 - val_loss: 0.1363 - val_accuracy: 0.9721\n",
            "Epoch 25/100\n",
            "499/499 [==============================] - 4s 8ms/step - loss: 0.1691 - accuracy: 0.9596 - val_loss: 0.1318 - val_accuracy: 0.9741\n",
            "Epoch 26/100\n",
            "499/499 [==============================] - 4s 8ms/step - loss: 0.1655 - accuracy: 0.9603 - val_loss: 0.1355 - val_accuracy: 0.9717\n",
            "Epoch 27/100\n",
            "499/499 [==============================] - 5s 11ms/step - loss: 0.1636 - accuracy: 0.9611 - val_loss: 0.1263 - val_accuracy: 0.9749\n",
            "Epoch 28/100\n",
            "499/499 [==============================] - 5s 9ms/step - loss: 0.1602 - accuracy: 0.9620 - val_loss: 0.1235 - val_accuracy: 0.9759\n",
            "Epoch 29/100\n",
            "499/499 [==============================] - 5s 10ms/step - loss: 0.1582 - accuracy: 0.9624 - val_loss: 0.1241 - val_accuracy: 0.9768\n",
            "Epoch 30/100\n",
            "499/499 [==============================] - 5s 10ms/step - loss: 0.1560 - accuracy: 0.9632 - val_loss: 0.1198 - val_accuracy: 0.9757\n",
            "Epoch 31/100\n",
            "499/499 [==============================] - 4s 8ms/step - loss: 0.1535 - accuracy: 0.9640 - val_loss: 0.1190 - val_accuracy: 0.9765\n",
            "Epoch 32/100\n",
            "499/499 [==============================] - 4s 8ms/step - loss: 0.1516 - accuracy: 0.9642 - val_loss: 0.1154 - val_accuracy: 0.9775\n",
            "Epoch 33/100\n",
            "499/499 [==============================] - 5s 10ms/step - loss: 0.1483 - accuracy: 0.9650 - val_loss: 0.1138 - val_accuracy: 0.9772\n",
            "Epoch 34/100\n",
            "499/499 [==============================] - 5s 10ms/step - loss: 0.1471 - accuracy: 0.9653 - val_loss: 0.1115 - val_accuracy: 0.9783\n",
            "Epoch 35/100\n",
            "499/499 [==============================] - 4s 8ms/step - loss: 0.1453 - accuracy: 0.9655 - val_loss: 0.1101 - val_accuracy: 0.9777\n",
            "Epoch 36/100\n",
            "499/499 [==============================] - 5s 10ms/step - loss: 0.1434 - accuracy: 0.9663 - val_loss: 0.1095 - val_accuracy: 0.9781\n",
            "Epoch 37/100\n",
            "499/499 [==============================] - 4s 8ms/step - loss: 0.1415 - accuracy: 0.9669 - val_loss: 0.1063 - val_accuracy: 0.9799\n",
            "Epoch 38/100\n",
            "499/499 [==============================] - 4s 7ms/step - loss: 0.1396 - accuracy: 0.9671 - val_loss: 0.1067 - val_accuracy: 0.9793\n",
            "Epoch 39/100\n",
            "499/499 [==============================] - 4s 8ms/step - loss: 0.1377 - accuracy: 0.9674 - val_loss: 0.1043 - val_accuracy: 0.9800\n",
            "Epoch 40/100\n",
            "499/499 [==============================] - 4s 8ms/step - loss: 0.1372 - accuracy: 0.9670 - val_loss: 0.1029 - val_accuracy: 0.9811\n",
            "Epoch 41/100\n",
            "499/499 [==============================] - 4s 8ms/step - loss: 0.1349 - accuracy: 0.9686 - val_loss: 0.1031 - val_accuracy: 0.9801\n",
            "Epoch 42/100\n",
            "499/499 [==============================] - 4s 8ms/step - loss: 0.1338 - accuracy: 0.9688 - val_loss: 0.0990 - val_accuracy: 0.9811\n",
            "Epoch 43/100\n",
            "499/499 [==============================] - 5s 9ms/step - loss: 0.1328 - accuracy: 0.9686 - val_loss: 0.0991 - val_accuracy: 0.9800\n",
            "Epoch 44/100\n",
            "499/499 [==============================] - 5s 9ms/step - loss: 0.1312 - accuracy: 0.9692 - val_loss: 0.0981 - val_accuracy: 0.9821\n",
            "Epoch 45/100\n",
            "499/499 [==============================] - 4s 8ms/step - loss: 0.1292 - accuracy: 0.9696 - val_loss: 0.0961 - val_accuracy: 0.9824\n",
            "Epoch 46/100\n",
            "499/499 [==============================] - 4s 8ms/step - loss: 0.1283 - accuracy: 0.9700 - val_loss: 0.0942 - val_accuracy: 0.9824\n",
            "Epoch 47/100\n",
            "499/499 [==============================] - 4s 7ms/step - loss: 0.1278 - accuracy: 0.9698 - val_loss: 0.0951 - val_accuracy: 0.9825\n",
            "Epoch 48/100\n",
            "499/499 [==============================] - 4s 8ms/step - loss: 0.1254 - accuracy: 0.9704 - val_loss: 0.0929 - val_accuracy: 0.9829\n",
            "Epoch 49/100\n",
            "499/499 [==============================] - 4s 7ms/step - loss: 0.1245 - accuracy: 0.9709 - val_loss: 0.0939 - val_accuracy: 0.9825\n",
            "Epoch 50/100\n",
            "499/499 [==============================] - 4s 8ms/step - loss: 0.1240 - accuracy: 0.9706 - val_loss: 0.0937 - val_accuracy: 0.9815\n",
            "Epoch 51/100\n",
            "499/499 [==============================] - 4s 7ms/step - loss: 0.1226 - accuracy: 0.9713 - val_loss: 0.0920 - val_accuracy: 0.9824\n",
            "Epoch 52/100\n",
            "499/499 [==============================] - 4s 8ms/step - loss: 0.1221 - accuracy: 0.9710 - val_loss: 0.0911 - val_accuracy: 0.9830\n",
            "Epoch 53/100\n",
            "499/499 [==============================] - 4s 8ms/step - loss: 0.1212 - accuracy: 0.9716 - val_loss: 0.0900 - val_accuracy: 0.9831\n",
            "Epoch 54/100\n",
            "499/499 [==============================] - 4s 7ms/step - loss: 0.1204 - accuracy: 0.9720 - val_loss: 0.0878 - val_accuracy: 0.9836\n",
            "Epoch 55/100\n",
            "499/499 [==============================] - 4s 7ms/step - loss: 0.1189 - accuracy: 0.9721 - val_loss: 0.0878 - val_accuracy: 0.9839\n",
            "Epoch 56/100\n",
            "499/499 [==============================] - 4s 7ms/step - loss: 0.1171 - accuracy: 0.9727 - val_loss: 0.0871 - val_accuracy: 0.9839\n",
            "Epoch 57/100\n",
            "499/499 [==============================] - 4s 7ms/step - loss: 0.1174 - accuracy: 0.9724 - val_loss: 0.0856 - val_accuracy: 0.9838\n",
            "Epoch 58/100\n",
            "499/499 [==============================] - 4s 8ms/step - loss: 0.1163 - accuracy: 0.9727 - val_loss: 0.0856 - val_accuracy: 0.9836\n",
            "Epoch 59/100\n",
            "499/499 [==============================] - 4s 8ms/step - loss: 0.1155 - accuracy: 0.9730 - val_loss: 0.0842 - val_accuracy: 0.9843\n",
            "Epoch 60/100\n",
            "499/499 [==============================] - 4s 7ms/step - loss: 0.1137 - accuracy: 0.9736 - val_loss: 0.0837 - val_accuracy: 0.9845\n",
            "Epoch 61/100\n",
            "499/499 [==============================] - 4s 8ms/step - loss: 0.1139 - accuracy: 0.9733 - val_loss: 0.0832 - val_accuracy: 0.9845\n",
            "Epoch 62/100\n",
            "499/499 [==============================] - 4s 8ms/step - loss: 0.1130 - accuracy: 0.9735 - val_loss: 0.0826 - val_accuracy: 0.9845\n",
            "Epoch 63/100\n",
            "499/499 [==============================] - 4s 7ms/step - loss: 0.1117 - accuracy: 0.9737 - val_loss: 0.0815 - val_accuracy: 0.9849\n",
            "Epoch 64/100\n",
            "499/499 [==============================] - 4s 8ms/step - loss: 0.1110 - accuracy: 0.9735 - val_loss: 0.0811 - val_accuracy: 0.9851\n",
            "Epoch 65/100\n",
            "321/499 [==================>...........] - ETA: 1s - loss: 0.1103 - accuracy: 0.9742"
          ]
        }
      ],
      "source": [
        "history=model.fit(x,y,batch_size=500,epochs=100,verbose=True,callbacks=[early_stopping],validation_split=0.3)"
      ],
      "metadata": {
        "colab": {
          "base_uri": "https://localhost:8080/"
        },
        "id": "JWU2eFqDYSPh",
        "outputId": "bfca351e-0267-4c25-f778-9e3b8d4061ad"
      }
    },
    {
      "cell_type": "code",
      "execution_count": null,
      "metadata": {
        "id": "fL4c337UYSPi"
      },
      "outputs": [],
      "source": [
        "fig, ax = plt.subplots(2,sharex='all')\n",
        "ax[0].set_title(\"Accuracy\")\n",
        "ax[0].plot(history.epoch, history.history['accuracy'],label='Train');\n",
        "ax[0].plot(history.epoch, history.history['val_accuracy'],label='Validation');\n",
        "ax[0].legend()\n",
        "ax[1].set_title(\"Loss\")\n",
        "ax[1].plot(history.epoch, history.history['loss'],label='Train');\n",
        "ax[1].plot(history.epoch, history.history['val_loss'],label='Validation');\n",
        "ax[1].legend()"
      ]
    },
    {
      "cell_type": "code",
      "execution_count": null,
      "outputs": [],
      "source": [
        "print(utils.predict_nn(model=history.model))"
      ],
      "metadata": {
        "id": "CRTLaVZ3YSPk"
      }
    },
    {
      "cell_type": "code",
      "execution_count": null,
      "outputs": [],
      "source": [
        "print(utils.evaluate_nn(model=history.model))"
      ],
      "metadata": {
        "id": "D-eWRqEgYSPm"
      }
    }
  ],
  "metadata": {
    "kernelspec": {
      "display_name": "tf-gpu",
      "language": "python",
      "name": "python3"
    },
    "language_info": {
      "codemirror_mode": {
        "name": "ipython",
        "version": 3
      },
      "file_extension": ".py",
      "mimetype": "text/x-python",
      "name": "python",
      "nbconvert_exporter": "python",
      "pygments_lexer": "ipython3",
      "version": "3.9.15"
    },
    "vscode": {
      "interpreter": {
        "hash": "0b5916d98285d7f9256b24e73be44c1954c1d35b1fc6eb84af81e3fe0ccc5dea"
      }
    },
    "colab": {
      "provenance": []
    }
  },
  "nbformat": 4,
  "nbformat_minor": 0
}